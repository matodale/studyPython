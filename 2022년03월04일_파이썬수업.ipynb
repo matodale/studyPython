{
 "cells": [
  {
   "cell_type": "markdown",
   "id": "7c41b80d",
   "metadata": {},
   "source": [
    "## 정수 타입, 문자열 타입 출력"
   ]
  },
  {
   "cell_type": "code",
   "execution_count": 1,
   "id": "9b79ae7d",
   "metadata": {},
   "outputs": [
    {
     "name": "stdout",
     "output_type": "stream",
     "text": [
      "홍길동입니다.\n",
      "30\n"
     ]
    }
   ],
   "source": [
    "a = 10\n",
    "b = 20\n",
    "print(\"홍길동\"+\"입니다.\")\n",
    "print(a+b)"
   ]
  },
  {
   "cell_type": "code",
   "execution_count": 2,
   "id": "23f6c767",
   "metadata": {},
   "outputs": [
    {
     "name": "stdout",
     "output_type": "stream",
     "text": [
      "21\n",
      "3\n",
      "1020\n"
     ]
    }
   ],
   "source": [
    "c = '2'\n",
    "d = '1'\n",
    "print(c+d) # 문자열 타입으로 출력\n",
    "print(int(c)+int(d)) # 정수형으로 출력\n",
    "print(str(a)+str(b)) # 문자열 타입으로 출력"
   ]
  },
  {
   "cell_type": "code",
   "execution_count": 3,
   "id": "75d753ec",
   "metadata": {},
   "outputs": [
    {
     "name": "stdout",
     "output_type": "stream",
     "text": [
      "36\n",
      "9\n"
     ]
    }
   ],
   "source": [
    "a = '3' # 문자열 타입\n",
    "b = '6' # 문자열 타입\n",
    "\n",
    "print(a + b) # 문자로 출력\n",
    "print(int(a)+int(b)) # 정수로 출력\n",
    "# 출력 9"
   ]
  },
  {
   "cell_type": "code",
   "execution_count": 4,
   "id": "ecb4b599",
   "metadata": {},
   "outputs": [
    {
     "name": "stdout",
     "output_type": "stream",
     "text": [
      "3.16.1\n",
      "9.2\n"
     ]
    }
   ],
   "source": [
    "a = '3.1'\n",
    "b = '6.1'\n",
    "\n",
    "print(a + b)\n",
    "print(float(a)+float(b))\n",
    "# 출력 9.2"
   ]
  },
  {
   "cell_type": "code",
   "execution_count": 5,
   "id": "9f40af01",
   "metadata": {},
   "outputs": [
    {
     "name": "stdout",
     "output_type": "stream",
     "text": [
      "9\n",
      "6charector%\\\n",
      "3.24\n",
      "6\n",
      "3.2432\n"
     ]
    }
   ],
   "source": [
    "a = '3.1'\n",
    "b = '6.1'\n",
    "c = int(float(a)+float(b))\n",
    "print(c)\n",
    "# 출력 9\n",
    "a = 6\n",
    "c = \"charector\"\n",
    "b = 3.2432\n",
    "print(\"%d%s%%\\\\\" %(a, c))\n",
    "print(\"{:.2f}\".format(b))\n",
    "print(\"{}\".format(a))\n",
    "print(round(b,4))\n",
    "# import math\n",
    "# print(math.trunc(b))\n",
    "\n",
    "# 출력 6%"
   ]
  },
  {
   "cell_type": "markdown",
   "id": "41a376c0",
   "metadata": {},
   "source": [
    "지역 함수 : 해당 함수 내에서 선언한 변수들  \n",
    "전역 함수 : 모든 함수가 사용가능."
   ]
  },
  {
   "cell_type": "code",
   "execution_count": 6,
   "id": "bb6bed21",
   "metadata": {},
   "outputs": [
    {
     "name": "stdout",
     "output_type": "stream",
     "text": [
      "70\n"
     ]
    }
   ],
   "source": [
    "a = 10 # 전역 변수\n",
    "b = 20\n",
    "def test(num):\n",
    "    global a # 전역 변수로 바꿔줌\n",
    "    a = num # 지역 변수\n",
    "test(50)\n",
    "print(a+b)"
   ]
  },
  {
   "cell_type": "code",
   "execution_count": 7,
   "id": "7ad63457",
   "metadata": {},
   "outputs": [
    {
     "name": "stdout",
     "output_type": "stream",
     "text": [
      "10\n"
     ]
    }
   ],
   "source": [
    "# 문제 : 마지막줄 a의 출력값은 무엇일지 실행시키기 전에 작성해보세요\n",
    "a = 10 # 전역 변수\n",
    "def test() :\n",
    "    a = 5\n",
    "def change1(num) :\n",
    "    a = num\n",
    "change1(100)\n",
    "print(a) # 출력 10"
   ]
  },
  {
   "cell_type": "markdown",
   "id": "8d36929f",
   "metadata": {},
   "source": [
    "리스트 (List) = > 여러 건의 데이터를 하나의 목록에 작성하는 것  \n",
    "리스트이름 = [값1, 값2, 값3....]  \n",
    "li = [1, 2, 3, 4, 5]\n",
    "* append() : 리스트에 새로운 데이터를 추가 하기 (리스트의 맨 뒤에 들어감)  \n",
    "* 리스트이름.append(추가할 요소)  \n",
    "* insert() : 원하는 위치에 데이터를 추가\n",
    "* insert(인덱스번호, 값)"
   ]
  },
  {
   "cell_type": "code",
   "execution_count": 8,
   "id": "abcb536f",
   "metadata": {},
   "outputs": [
    {
     "name": "stdout",
     "output_type": "stream",
     "text": [
      "[2, 1, 5, 6, 7]\n"
     ]
    }
   ],
   "source": [
    "# 문제 : 리스트에 순서대로 2, 1, 5, 6, 7를 한번에 담아주세요.\n",
    "\n",
    "li = [2, 1, 5, 6, 7]\n",
    "print(li)"
   ]
  },
  {
   "cell_type": "code",
   "execution_count": 9,
   "id": "3ffc9ebf",
   "metadata": {},
   "outputs": [
    {
     "name": "stdout",
     "output_type": "stream",
     "text": [
      "[2, 1, 5, 6, 7]\n"
     ]
    }
   ],
   "source": [
    "# 문제 : 비어있는 리스트를 만들고, 순서대로 2, 1, 5, 6, 7를 하나씩 담아주세요.\n",
    "\n",
    "li = []\n",
    "li.append(2)\n",
    "li.append(1)\n",
    "li.append(5)\n",
    "li.append(6)\n",
    "li.append(7)\n",
    "print(li)"
   ]
  },
  {
   "cell_type": "code",
   "execution_count": 4,
   "id": "b7715558",
   "metadata": {},
   "outputs": [
    {
     "name": "stdout",
     "output_type": "stream",
     "text": [
      "['월', '화', '수', '목', '금', '토', '일']\n"
     ]
    }
   ],
   "source": [
    "# 문제 : 리스트에 순서대로 '월', '화', '수', '목', '금'을 한번에 담아주세요. \n",
    "# 그리고 '토', '일' 을 순서대로 추가해주세요.\n",
    "a = ['월', '화', '수', '목', '금']\n",
    "\n",
    "a.append('토')\n",
    "a.append('일')\n",
    "print(a)"
   ]
  },
  {
   "cell_type": "code",
   "execution_count": 5,
   "id": "2c3f1675",
   "metadata": {},
   "outputs": [
    {
     "name": "stdout",
     "output_type": "stream",
     "text": [
      "['월', '화', '수', '목', '금', '토', '일']\n"
     ]
    }
   ],
   "source": [
    "# 문제 : 리스트에 순서대로 '월', '화', '수', '목', '금'을 한번에 담아주세요. \n",
    "# 그리고 '토', '일' 을 담은 리스트를 만들고 2개의 리스트 합쳐서 새로운 리스트를 만들어주세요.\n",
    "li = ['월', '화', '수', '목', '금']\n",
    "a = []\n",
    "a.insert(0,'토')\n",
    "a.append('일')\n",
    "a = li + a # 리스트도 합칠 수 있다.\n",
    "print(a)"
   ]
  },
  {
   "cell_type": "code",
   "execution_count": 7,
   "id": "281c5eb8",
   "metadata": {},
   "outputs": [
    {
     "name": "stdout",
     "output_type": "stream",
     "text": [
      "['월', '화', '수', '목', '금', '토', '일']\n"
     ]
    }
   ],
   "source": [
    "# 문제 : 리스트에 순서대로 '월', '화', '수', '목', '금'을 한번에 담아주세요. \n",
    "# 그리고 '+=' 연산자를 이용해서 '토', '일' 을 한번에 추가해주세요.\n",
    "# 리스트변수 하나만 만들고, append와 insert 사용 금지\n",
    "li = ['월', '화', '수', '목', '금']\n",
    "li += ['토', '일'] # 복합연산자 +=를 이용하여 연산하기\n",
    "print(li)"
   ]
  },
  {
   "cell_type": "code",
   "execution_count": 9,
   "id": "bd3c51e0",
   "metadata": {},
   "outputs": [
    {
     "name": "stdout",
     "output_type": "stream",
     "text": [
      "월\n",
      "['월', '화', '수']\n"
     ]
    }
   ],
   "source": [
    "print(a[0])\n",
    "b = a[:1] + a[1:3] # 파이썬 리스트 요소 슬라이스\n",
    "print(b)"
   ]
  },
  {
   "cell_type": "code",
   "execution_count": 14,
   "id": "1e6fc5cc",
   "metadata": {},
   "outputs": [
    {
     "name": "stdout",
     "output_type": "stream",
     "text": [
      "[1, 2, 3, 4, 5, 6, 7, 8, 9]\n"
     ]
    }
   ],
   "source": [
    "li = []\n",
    "for i in range(1,10):\n",
    "    li.append(i)\n",
    "print(li)"
   ]
  },
  {
   "cell_type": "code",
   "execution_count": 15,
   "id": "cddace1a",
   "metadata": {},
   "outputs": [
    {
     "name": "stdout",
     "output_type": "stream",
     "text": [
      "월\n"
     ]
    }
   ],
   "source": [
    "# 문제 : 리스트에 순서대로 '월', '화', '수', '목', '금'을 한번에 담아주세요. \n",
    "# 그리고 가장 처음 요소를 출력해주세요.\n",
    "li = ['월', '화', '수', '목', '금']\n",
    "print(li[0])"
   ]
  },
  {
   "cell_type": "code",
   "execution_count": 16,
   "id": "981df936",
   "metadata": {},
   "outputs": [
    {
     "name": "stdout",
     "output_type": "stream",
     "text": [
      "금\n"
     ]
    }
   ],
   "source": [
    "# 문제 : 리스트에 순서대로 '월', '화', '수', '목', '금'을 한번에 담아주세요. \n",
    "# 그리고 가장 마지막 요소를 출력해주세요.\n",
    "li = ['월', '화', '수', '목', '금']\n",
    "print(li[4])"
   ]
  },
  {
   "cell_type": "code",
   "execution_count": 17,
   "id": "6f61c03e",
   "metadata": {},
   "outputs": [
    {
     "name": "stdout",
     "output_type": "stream",
     "text": [
      "목\n"
     ]
    }
   ],
   "source": [
    "# 문제 : 리스트에 순서대로 '월', '화', '수', '목', '금'을 한번에 담아주세요. \n",
    "# 그리고 가장 마지막에서 2번째 요소를 출력해주세요.\n",
    "li = ['월', '화', '수', '목', '금']\n",
    "print(li[3])"
   ]
  },
  {
   "cell_type": "code",
   "execution_count": 20,
   "id": "280dca31",
   "metadata": {},
   "outputs": [
    {
     "name": "stdout",
     "output_type": "stream",
     "text": [
      "[1, 2, [1, 2]]\n",
      "[1, 2, [1, 2], 1, 2]\n"
     ]
    }
   ],
   "source": [
    "a = [1,2]\n",
    "a.append([1,2]) # 한 리스트로 넣어줌.\n",
    "print(a)\n",
    "a.extend([1,2]) # 해당 리스트의 값을 하나씩 넣어줌.\n",
    "print(a)"
   ]
  },
  {
   "cell_type": "markdown",
   "id": "37a4da0c",
   "metadata": {},
   "source": [
    "len() : 리스트의 길이를 숫자로 표현  \n",
    "len(리스트변수)로 쓰임"
   ]
  },
  {
   "cell_type": "code",
   "execution_count": 24,
   "id": "00a3609b",
   "metadata": {},
   "outputs": [
    {
     "name": "stdout",
     "output_type": "stream",
     "text": [
      "5\n",
      "목\n",
      "목\n"
     ]
    }
   ],
   "source": [
    "li = ['월', '화', '수', '목', '금']\n",
    "a = len(li)\n",
    "print(a)\n",
    "print(li[a-2])\n",
    "print(li[-2])"
   ]
  },
  {
   "cell_type": "code",
   "execution_count": 42,
   "id": "0884181f",
   "metadata": {},
   "outputs": [
    {
     "name": "stdout",
     "output_type": "stream",
     "text": [
      "월 화 수 목 금 "
     ]
    }
   ],
   "source": [
    "# 문제 : 리스트에 순서대로 '월', '화', '수', '목', '금'을 한번에 담아주세요. \n",
    "# 그리고 while문을 이용해서 요소 전부 출력해주세요.\n",
    "li = ['월', '화', '수', '목', '금']\n",
    "i = 0\n",
    "j = len(li)\n",
    "while i < j :\n",
    "    print(li[i], end=' ')\n",
    "    i+=1"
   ]
  },
  {
   "cell_type": "code",
   "execution_count": 57,
   "id": "c37c8abf",
   "metadata": {},
   "outputs": [
    {
     "name": "stdout",
     "output_type": "stream",
     "text": [
      "금\n",
      "목\n",
      "수\n",
      "화\n",
      "월\n"
     ]
    }
   ],
   "source": [
    "# 문제 : 리스트에 순서대로 '월', '화', '수', '목', '금'을 한번에 담아주세요. \n",
    "# 그리고 while문을 이용해서 요소 전부 출력해주세요. 역순으로 출력\n",
    "li = ['월', '화', '수', '목', '금']\n",
    "i = len(li) - 1\n",
    "j = 0 \n",
    "while i >= j:\n",
    "    print(li[i])\n",
    "    i-=1"
   ]
  },
  {
   "cell_type": "code",
   "execution_count": 60,
   "id": "39dec26d",
   "metadata": {},
   "outputs": [
    {
     "name": "stdout",
     "output_type": "stream",
     "text": [
      "금\n",
      "목\n",
      "수\n",
      "화\n",
      "월\n"
     ]
    }
   ],
   "source": [
    "j = 1 # 초기값\n",
    "l = len(li)\n",
    "while j<=l: # 1 <= 5\n",
    "    print(li[l-j]) # j가 증가 함에 따라 순차적으로 역순이 가능\n",
    "    j+=1"
   ]
  }
 ],
 "metadata": {
  "kernelspec": {
   "display_name": "Python 3 (ipykernel)",
   "language": "python",
   "name": "python3"
  },
  "language_info": {
   "codemirror_mode": {
    "name": "ipython",
    "version": 3
   },
   "file_extension": ".py",
   "mimetype": "text/x-python",
   "name": "python",
   "nbconvert_exporter": "python",
   "pygments_lexer": "ipython3",
   "version": "3.9.7"
  }
 },
 "nbformat": 4,
 "nbformat_minor": 5
}
