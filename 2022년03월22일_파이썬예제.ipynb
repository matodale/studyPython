{
 "cells": [
  {
   "cell_type": "code",
   "execution_count": 1,
   "id": "6caafbfe",
   "metadata": {},
   "outputs": [
    {
     "name": "stdout",
     "output_type": "stream",
     "text": [
      "0.5 0.2\n",
      "0.1\n"
     ]
    }
   ],
   "source": [
    "# 실수 2개(f1, f2)를 입력받아 곱을 출력하는 프로그램을 작성해보자.\n",
    "\n",
    "# 예시\n",
    "# ...\n",
    "# m = float(f1) * float(f2)\n",
    "# print(m)\n",
    "\n",
    "# 참고\n",
    "# 수 * 수는 곱(multiplication)이 계산된다.\n",
    "f1,f2 = input().split(\" \")\n",
    "m = float(f1) * float(f2)\n",
    "print(m)"
   ]
  },
  {
   "cell_type": "code",
   "execution_count": 2,
   "id": "5b8ed8fc",
   "metadata": {},
   "outputs": [
    {
     "name": "stdout",
     "output_type": "stream",
     "text": [
      "laction 3\n",
      "lactionlactionlaction\n"
     ]
    }
   ],
   "source": [
    "# 단어와 반복 횟수를 입력받아 여러 번 출력해보자.\n",
    "\n",
    "# 예시\n",
    "# w, n = input().split()\n",
    "# print(w*int(n))\n",
    "\n",
    "# 참고\n",
    "# 문자열 * 정수 또는 정수 * 문자열은 그 문자열을 여러 번 반복한 문자열을 만들어 준다.\n",
    "\n",
    "w, n = input().split(\" \")\n",
    "print(w*int(n))\n",
    "\n",
    "\n"
   ]
  },
  {
   "cell_type": "code",
   "execution_count": 3,
   "id": "e80d08fe",
   "metadata": {},
   "outputs": [
    {
     "name": "stdout",
     "output_type": "stream",
     "text": [
      "3\n",
      "i love you\n",
      "i love youi love youi love you\n"
     ]
    }
   ],
   "source": [
    "# 반복 횟수와 문장을 입력받아 여러 번 출력해보자.\n",
    "\n",
    "# 예시\n",
    "# n = input()\n",
    "# s = input()\n",
    "# print(int(n)*s)\n",
    "\n",
    "# 참고\n",
    "# 문자열 * 정수 또는 정수 * 문자열은 그 문자열을 여러 번 반복한 문자열을 만들어 준다.\n",
    "\n",
    "n = input()\n",
    "s = input()\n",
    "print(int(n) * s)"
   ]
  },
  {
   "cell_type": "code",
   "execution_count": 5,
   "id": "faa94994",
   "metadata": {},
   "outputs": [
    {
     "name": "stdout",
     "output_type": "stream",
     "text": [
      "5 2\n",
      "25\n"
     ]
    }
   ],
   "source": [
    "# 정수 2개(a, b)를 입력받아\n",
    "# a를 b번 곱한 거듭제곱을 출력하는 프로그램을 작성해보자.\n",
    "\n",
    "# 예시\n",
    "# ...\n",
    "# c = int(a)**int(b) \n",
    "# print(c)\n",
    "\n",
    "# 참고\n",
    "# python 언어에서는 거듭제곱을 계산하는 연산자(**)를 제공한다.\n",
    "# 일반적으로 수학 식에서 거듭제곱을 표현하는 사용하는 서컴플렉스/케릿 기호(^)는 프로그래밍언어에서 다른 의미로 쓰인다.\n",
    "a,b = input().split(\" \")\n",
    "\n",
    "c = int(a)**int(b)\n",
    "print(c)"
   ]
  },
  {
   "cell_type": "code",
   "execution_count": 6,
   "id": "23a7d951",
   "metadata": {},
   "outputs": [
    {
     "name": "stdout",
     "output_type": "stream",
     "text": [
      "5.0 6.7\n",
      "48205.770525000764\n"
     ]
    }
   ],
   "source": [
    "# 실수 2개(f1, f2)를 입력받아\n",
    "# f1을 f2번 거듭제곱한 값을 출력하는 프로그램을 작성해보자.\n",
    "\n",
    "# 참고\n",
    "# python 언어에서는 거듭제곱(exponentiation)을 계산하는 연산자(**)를 제공한다.\n",
    "# 일반적으로 수학 식에서 거듭제곱을 표현하는 사용하는 서컴플렉스/케릿 기호(^)는 프로그래밍언어에서 다른 의미로 쓰인다.\n",
    "\n",
    "a,b=input().split()\n",
    "\n",
    "c = float(a)**float(b)\n",
    "print(c)"
   ]
  },
  {
   "cell_type": "code",
   "execution_count": 8,
   "id": "f2e4ae72",
   "metadata": {},
   "outputs": [
    {
     "name": "stdout",
     "output_type": "stream",
     "text": [
      "10 3\n",
      "3\n"
     ]
    }
   ],
   "source": [
    "# 정수 2개(a, b) 를 입력받아 a를 b로 나눈 몫을 출력해보자.\n",
    "\n",
    "# 예시\n",
    "# ...\n",
    "# print(a//b)\n",
    "\n",
    "# 참고\n",
    "# python언어에서는 나눈 몫을 계산하는 연산자(//, floor division)를 제공한다.\n",
    "# a//b 와 같이 작성하면, a를 b로 나눈 몫(quotient)을 계산해준다.\n",
    "# 프로그래밍언어에 따라 이렇게 몫을 계산해주는 연산자가 없는 경우도 있다.\n",
    "\n",
    "# 실수로 나눈 몫이 어떻게 계산될지도 생각해보자.\n",
    "\n",
    "a,b = input().split()\n",
    "c=int(a)//int(b)\n",
    "print(c)"
   ]
  },
  {
   "cell_type": "code",
   "execution_count": 9,
   "id": "ecc74c3d",
   "metadata": {},
   "outputs": [
    {
     "name": "stdout",
     "output_type": "stream",
     "text": [
      "10 3\n",
      "1\n"
     ]
    }
   ],
   "source": [
    "# 정수 2개(a, b) 를 입력받아 a를 b로 나눈 나머지를 출력해보자.\n",
    "\n",
    "# 예시\n",
    "# ...\n",
    "# print(a%b)\n",
    "\n",
    "# 참고\n",
    "# python 언어에서는 나눈 나머지를 계산하는 연산자(%, remainder)를 제공한다.\n",
    "# a%b 와 같이 작성하면, a를 b로 나눈 나머지(remainder)를 계산해준다.\n",
    "# 나머지 연산(modulus, mod 연산)은 수학자 가우스가 생각해 낸 연산으로,\n",
    "# 어떤 수를 다른 수로 나누고 난 후 남는 나머지를 계산하는 연산이다.\n",
    "\n",
    "# 실수로 나눈 나머지가 어떻게 계산될지도 생각해보자.\n",
    "\n",
    "x,y = input().split()\n",
    "z = int(x)%int(y)\n",
    "print(z)\n"
   ]
  },
  {
   "cell_type": "code",
   "execution_count": 10,
   "id": "19d5f433",
   "metadata": {},
   "outputs": [
    {
     "name": "stdout",
     "output_type": "stream",
     "text": [
      "3.14532452\n",
      "3.15\n"
     ]
    }
   ],
   "source": [
    "# 실수 1개를 입력받아\n",
    "# 소숫점 이하 두 번째 자리까지의 정확도로 반올림한 값을 출력해보자.\n",
    "\n",
    "\n",
    "# 예시\n",
    "\n",
    "# a=float(input())\n",
    "# print( format(a, \".2f\") )\n",
    "\n",
    "\n",
    "# 참고\n",
    "# format(수, \".2f\") 를 사용하면 원하는 자리까지의 정확도로 반올림 된 실수 값을 만들어 준다. \n",
    "\n",
    "# 여기서 만들어진 값은 소수점 아래 3번째 자리에서 반올림한 값이다.\n",
    "\n",
    "# 컴퓨터 프로그래밍에서 실수 변환이나 실수를 사용하는 계산은\n",
    "# 정확하게 변환되거나 계산되는 것이 아니라, 거의 모두 근사값으로 계산되는 것이라고 할 수 있다. \n",
    "\n",
    "# 실수가 컴퓨터로 저장되기 위해서는 디지털방식으로 2진 정수화되어 저장되어야 하는데,\n",
    "# 그 과정에서 아주 작은 부분이 저장되지 않고 사라지는 잘림(truncation) 오차가 자주 발생하기 때문이다.\n",
    "\n",
    "a = float(input())\n",
    "\n",
    "print(format(a,\".2f\"))"
   ]
  },
  {
   "cell_type": "code",
   "execution_count": 12,
   "id": "fc8950ae",
   "metadata": {},
   "outputs": [
    {
     "name": "stdout",
     "output_type": "stream",
     "text": [
      "10.23 3\n",
      "3.410\n"
     ]
    }
   ],
   "source": [
    "# 실수 2개(f1, f2)를 입력받아\n",
    "# f1 을 f2 로 나눈 값을 출력해보자. 이 때 소숫점 넷째자리에서 반올림하여 무조건 소숫점 셋째 자리까지 출력한다.\n",
    "\n",
    "\n",
    "# 참고\n",
    "# python 언어에는 나눗셈(division)을 계산하는 연산자(/)가 있다.\n",
    "\n",
    "# 컴퓨터 프로그래밍에서 실수 변환이나 실수를 사용하는 계산은 \n",
    "# 정확하게 변환되거나 계산되는 것이 아니라, 거의 모두 근사값으로 계산되는 것이라고 할 수 있다.  \n",
    "\n",
    "# 실수가 컴퓨터로 저장되기 위해서는 디지털방식으로 2진 정수화되어 저장되어야 하는데, \n",
    "# 그 과정에서 아주 작은 부분이 저장되지 않고 사라지는 잘림(truncation) 오차가 자주 발생하기 때문이다.\n",
    "\n",
    "# 계산 결과값 중에서 믿을 수 있는 숫자의 개수를 의미하는, 유효숫자에 대해 찾아보자. \n",
    "# 과학실험에서 온도나 부피를 측정할 때에도 유효숫자는 중요하다. \n",
    "\n",
    "f1, f2 = input().split()\n",
    "result = float(f1)/float(f2)\n",
    "print(format(result, \".3f\"))"
   ]
  },
  {
   "cell_type": "code",
   "execution_count": 14,
   "id": "a5e5604b",
   "metadata": {},
   "outputs": [
    {
     "name": "stdout",
     "output_type": "stream",
     "text": [
      "10 3\n",
      "13\n",
      "7\n",
      "30\n",
      "3\n",
      "1\n",
      "3.33\n"
     ]
    }
   ],
   "source": [
    "# 정수 2개(a, b)를 입력받아 합, 차, 곱, 몫, 나머지, 나눈 값을 자동으로 계산해보자.\n",
    "# 단 0 <= a, b <= 2147483647, b는 0이 아니다.\n",
    "\n",
    "# 첫 번째 줄에 합\n",
    "# 두 번째 줄에 차,\n",
    "# 세 번째 줄에 곱,\n",
    "# 네 번째 줄에 몫,\n",
    "# 다섯 번째 줄에 나머지,\n",
    "# 여섯 번째 줄에 나눈 값을 순서대로 출력한다.\n",
    "# (실수, 소수점 이하 둘째 자리까지의 정확도로 출력)\n",
    "\n",
    "a, b = input().split()\n",
    "x1 = int(a)+int(b)\n",
    "x2 = int(a)-int(b)\n",
    "x3 = int(a)*int(b)\n",
    "x4 = int(a)//int(b)\n",
    "x5 = int(a)%int(b)\n",
    "x6 = int(a)/int(b)\n",
    "print(x1)\n",
    "print(x2)\n",
    "print(x3)\n",
    "print(x4)\n",
    "print(x5)\n",
    "print(format(x6, \".2f\"))"
   ]
  },
  {
   "cell_type": "code",
   "execution_count": 15,
   "id": "2c8595e6",
   "metadata": {},
   "outputs": [
    {
     "name": "stdout",
     "output_type": "stream",
     "text": [
      "10 3 2\n",
      "15 5.00\n"
     ]
    }
   ],
   "source": [
    "# 정수 3개를 입력받아 합과 평균을 출력해보자.\n",
    "\n",
    "# 참고\n",
    "# 공백으로 구분된 한 줄로 값들을 입력받기 위해서는\n",
    "# a, b, c = input().split()\n",
    "# 과 같은 방법이 가능하고,\n",
    "\n",
    "# 공백으로 구분해 두 값을 출력하기 위해서는\n",
    "# print(d, e)\n",
    "# 와 같은 방법이 가능하다.\n",
    "\n",
    "# 잘라낸 값들은 그 값의 특성(정수, 실수, 문자, 문자열 ...)에 따라 명확하게 변환시킨 후 사용하는 것이 좋다.\n",
    "\n",
    "# python 프로그래밍을 처음 배울 때 좋은 습관(단계)\n",
    "# 1. 입력된 문자열을 정확하게 잘라낸다.(공백, 줄바꿈, 구분문자 등에 따라 정확하게 잘라낸다.)\n",
    "# 2. 잘라낸 데이터들을 데이터형에 맞게 변환해 변수에 저장한다. (정수, 실수, 문자, 문자열 등에 따라 정확하게 변환한다.)\n",
    "# 3. 값을 저장했다가 다시 사용하기 위해, 변수를 이용해 값을 저장하고, 변수를 이용해 계산을 한다.\n",
    "# 4. 원하는 결과 값을 필요한 형태로 만들어 출력한다.(공백, 줄바꿈, 구분자, 등에 따라 원하는 형태로 만들어 출력한다.)\n",
    "\n",
    "a, b, c = input().split()\n",
    "x1 = int(a)+int(b)+int(c)\n",
    "x2 = (x1)/3\n",
    "print(x1, format(x2, \".2f\"))\n"
   ]
  },
  {
   "cell_type": "code",
   "execution_count": 17,
   "id": "563fe7fc",
   "metadata": {},
   "outputs": [
    {
     "name": "stdout",
     "output_type": "stream",
     "text": [
      "11\n",
      "22\n"
     ]
    }
   ],
   "source": [
    "# 정수 1개를 입력받아 2배 곱해 출력해보자.\n",
    "\n",
    "# 참고\n",
    "# *2 를 계산한 값을 출력해도 되지만,\n",
    "# 정수를 2배로 곱하거나 나누어 계산해 주는 비트단위시프트연산자 <<, >>를 이용할 수 있다.\n",
    "# 컴퓨터 내부에는 2진수 형태로 값들이 저장되기 때문에,\n",
    "# 2진수 형태로 저장되어 있는 값들을 왼쪽(<<)이나 오른쪽(>>)으로\n",
    "# 지정한 비트 수만큼 밀어주면 2배씩 늘어나거나 1/2로 줄어드는데,\n",
    "\n",
    "# 왼쪽 비트시프트(<<)가 될 때에는 오른쪽에 0이 주어진 개수만큼 추가되고,\n",
    "# 오른쪽 비트시프트(>>)가 될 때에는 왼쪽에 0(0 또는 양의 정수인 경우)이나 1(음의 정수인 경우)이 개수만큼 추가되고,\n",
    "# 가장 오른쪽에 있는 1비트는 사라진다.\n",
    "\n",
    "# 예시\n",
    "# n = 10\n",
    "# print(n<<1)  #10을 2배 한 값인 20 이 출력된다.\n",
    "# print(n>>1)  #10을 반으로 나눈 값인 5 가 출력된다.\n",
    "# print(n<<2)  #10을 4배 한 값인 40 이 출력된다.\n",
    "# print(n>>2)  #10을 반으로 나눈 후 다시 반으로 나눈 값인 2 가 출력된다.\n",
    "\n",
    "# 정수 10의 2진수 표현은 ... 1010 이다.\n",
    "# 10 << 1 을 계산하면 ... 10100 이 된다 이 값은 10진수로 20이다.\n",
    "# 10 >> 1 을 계산하면 ... 101 이 된다. 이 값은 10진수로 5이다.\n",
    "\n",
    "# n = 10 과 같이 키보드로 입력받지 않고 직접 작성해 넣은 코드에서, 숫자로 시작하는 단어(식별자, identifier)는 자동으로 수로 인식된다.  \n",
    "\n",
    "# n = 10 에서 10 은 10진수 정수 값으로 인식된다.\n",
    "# 변수 n 에 문자열을 저장하고 싶다면, n = \"10\" 또는 n = '10'으로 작성해 넣으면 되고,\n",
    "\n",
    "# n = 10.0 으로 작성해 넣으면 자동으로 실수 값으로 저장된다.\n",
    "# n = 0o10 으로 작성해 넣으면 8진수(octal) 10으로 인식되어 10진수 8값이 저장되고,\n",
    "# n = 0xf 나 n = 0XF 으로 작성해 넣으면 16진수(hexadecimal) F로 인식되어 10진수 15값으로 저장된다.\n",
    "\n",
    "# ** python에서 실수 값에 대한 비트시프트 연산은 허용되지 않고 오류가 발생한다.\n",
    "# (실수 값도 컴퓨터 내부적으로는 2진수 형태로 저장되고 비트시프트 처리가 될 수 있지만, python 에서는 허용하지 않는다.)\n",
    "\n",
    "\n",
    "n = input()\n",
    "print(int(n)<<1)"
   ]
  },
  {
   "cell_type": "code",
   "execution_count": 21,
   "id": "42b4f435",
   "metadata": {},
   "outputs": [
    {
     "name": "stdout",
     "output_type": "stream",
     "text": [
      "3 9\n",
      "1536\n"
     ]
    }
   ],
   "source": [
    "# 정수 2개(a, b)를 입력받아 a를 2b배 곱한 값으로 출력해보자.\n",
    "# 0 <= a <= 10, 0 <= b <= 10\n",
    "\n",
    "# 예시\n",
    "# a = 2\n",
    "# b = 10\n",
    "# print(a << b)  #210 = 1024 가 출력된다.\n",
    "\n",
    "# 참고\n",
    "# 예를 들어 1 3 이 입력되면 1을 23(8)배 하여 출력한다.\n",
    "\n",
    "# 정수 2개(a, b)가 공백을 두고 입력된다.\n",
    "# 0 <= a, b <= 10\n",
    "\n",
    "a, b = input().split()\n",
    "if int(a) >= 0 and int(b) <= 10:\n",
    "    print(int(a)<<int(b))\n"
   ]
  },
  {
   "cell_type": "code",
   "execution_count": 22,
   "id": "082114b2",
   "metadata": {},
   "outputs": [
    {
     "name": "stdout",
     "output_type": "stream",
     "text": [
      "10 3\n",
      "False\n"
     ]
    }
   ],
   "source": [
    "# 두 정수(a, b)를 입력받아\n",
    "# a가 b보다 작으면 True 를, a가 b보다 크거나 같으면 False 를 출력하는 프로그램을 작성해보자.\n",
    "\n",
    "# 예시\n",
    "# print(123<456)  #비교 연산자 < 의 계산 결과인 True(참)가 출력된다.\n",
    "# (123, 456 은 숫자로 작성된 단어이기 때문에 10진수로 인식된다.)\n",
    "\n",
    "# 참고\n",
    "# 어떤 값을 비교하기 위해 비교/관계(comparison/relational) 연산자(operator)를 사용할 수 있다.\n",
    "\n",
    "# 비교/관계연산자 < (less than sign) 는\n",
    "# 왼쪽의 값이 오른쪽 값 보다 작은 경우 True(참)로 계산하고,\n",
    "# 그 외의 경우에는 False(거짓)로 계산한다.\n",
    "\n",
    "# 비교/관계연산자도 일반적인 사칙연산자처럼 주어진 두 수를 이용해 계산을 수행하고,\n",
    "# 그 결과를 True(참), 또는 False(거짓)로 계산해 주는 연산자이다.\n",
    "\n",
    "# 비교/관계연산자는 <, >, <=, >=, ==(같다), !=(다르다) 6개가 있다.\n",
    "\n",
    "# True(참) 또는 False(거짓) 값으로만 표현하고 저장하는 값을 불(bool)/불리언(boolean) 값이라고 한다.\n",
    "# 정수, 실수, 문자, 문자열과 마찬가지로 또 다른 형태의 데이터형(data type)이다.\n",
    "\n",
    "a, b = input().split()\n",
    "print(int(a)<int(b))"
   ]
  },
  {
   "cell_type": "code",
   "execution_count": 23,
   "id": "5ff7df08",
   "metadata": {},
   "outputs": [
    {
     "name": "stdout",
     "output_type": "stream",
     "text": [
      "0 0\n",
      "True\n"
     ]
    }
   ],
   "source": [
    "# 두 정수(a, b)를 입력받아\n",
    "# a와 b의 값이 같으면 True 를, 같지 않으면 False 를 출력하는 프로그램을 작성해보자.\n",
    "\n",
    "# 참고\n",
    "# 어떤 값을 비교하기 위해 비교/관계(comparison/relational) 연산자(operator)를 사용할 수 있다.\n",
    "\n",
    "# 비교/관계연산자 == (equal sign 2개) 는\n",
    "# 왼쪽의 계산 결과값과 오른쪽의 계산 결과값이 같은 경우 True(참)로 계산하고,\n",
    "# 그 외의 경우에는 False(거짓)로 계산한다.\n",
    "\n",
    "# 비교/관계연산자도 일반적인 사칙연산자처럼 주어진 두 수를 이용해 계산을 수행하고,\n",
    "# 그 결과를 True(참), 또는 False(거짓)로 계산해 주는 연산자이다.\n",
    "\n",
    "# 비교/관계연산자는 <, >, <=, >=, ==(같다), !=(다르다) 6개가 있다.\n",
    "\n",
    "# ** 수학에서 왼쪽과 오른쪽의 계산 결과가 같음(동치)을 나타내는 기호 =(equal sign) 1개는\n",
    "# 프로그래밍언어에서는 전혀 다른 의미로 사용된다.\n",
    "\n",
    "# a = 1 와 같은 표현은 a와 1의 값이 같다는 의미가 아니라\n",
    "# 오른쪽의 계산 결과값인 1을 왼쪽의 변수 a에 저장하라는 의미이다.\n",
    "\n",
    "a, b = input().split()\n",
    "print(int(a)==int(b))"
   ]
  },
  {
   "cell_type": "code",
   "execution_count": 38,
   "id": "a87f2b57",
   "metadata": {},
   "outputs": [
    {
     "name": "stdout",
     "output_type": "stream",
     "text": [
      "-1 -2\n",
      "False\n"
     ]
    }
   ],
   "source": [
    "# 두 정수(a, b)를 입력받아\n",
    "# b의 값이 a의 값 보다 크거나 같으면 True 를, 같지 않으면 False 를 출력하는 프로그램을 작성해보자.\n",
    "\n",
    "# 참고\n",
    "# 어떤 값을 비교하기 위해 비교/관계(comparison/relational) 연산자(operator)를 사용할 수 있다.\n",
    "\n",
    "# 비교/관계연산자 <= 는\n",
    "# 오른쪽의 계산 결과값이 왼쪽의 계산 결과값보다 크거나 같은 경우 True(참)로 계산하고,\n",
    "# 그 외의 경우에는 False(거짓)로 계산한다.\n",
    "\n",
    "# <=, >= 연산자는 같음(==)을 포함한다. 따라서 “작다/크다” 거나 \"같다”는 의미를 가진다.\n",
    "# 작다(<)/크다(>)/다르다(!) 기호는 등호(=)와 함께 왼쪽에 붙여써야 한다.\n",
    "\n",
    "# 비교/관계연산자도 일반적인 사칙연산자처럼 주어진 두 수를 이용해 계산을 수행하고,\n",
    "# 그 결과를 True(참), 또는 False(거짓)로 계산해주는 연산자이다.\n",
    "# 비교/관계연산자는 <, >, <=, >=, ==(같다), !=(다르다) 6개가 있다.\n",
    "# b가 a보다 크거나 같은 경우 True 를, 그렇지 않은 경우 False 를 출력한다.\n",
    "a, b = input().split()\n",
    "if int(b) >= int(a):\n",
    "    print(True)\n",
    "else :\n",
    "    print(False)\n"
   ]
  },
  {
   "cell_type": "code",
   "execution_count": 40,
   "id": "6e35ecbc",
   "metadata": {},
   "outputs": [
    {
     "name": "stdout",
     "output_type": "stream",
     "text": [
      "2 2\n",
      "False\n"
     ]
    }
   ],
   "source": [
    "# 두 정수(a, b)를 입력받아\n",
    "# a의 값이 b의 값과 서로 다르면 True 를, 같으면 False 를 출력하는 프로그램을 작성해보자.\n",
    "\n",
    "a, b = input().split()\n",
    "if int(b) != int(a):\n",
    "    print(True)\n",
    "else :\n",
    "    print(False)"
   ]
  },
  {
   "cell_type": "code",
   "execution_count": 41,
   "id": "d45c8684",
   "metadata": {},
   "outputs": [
    {
     "name": "stdout",
     "output_type": "stream",
     "text": [
      "0\n",
      "False\n"
     ]
    }
   ],
   "source": [
    "# 입력된 값이 0이면 False, 0이 아니면 True 를 출력한다.\n",
    "a = input()\n",
    "if int(a) == 0 :\n",
    "    print(False)\n",
    "else:\n",
    "    print(True)"
   ]
  },
  {
   "cell_type": "code",
   "execution_count": 4,
   "id": "8f2c9d06",
   "metadata": {},
   "outputs": [
    {
     "name": "stdout",
     "output_type": "stream",
     "text": [
      "True\n"
     ]
    }
   ],
   "source": [
    "# 입력된 정수의 불 값이 False 이면 True, True 이면 False 를 출력한다.\n",
    "n = input()\n",
    "if int(n) == 0:\n",
    "    print(True)\n",
    "else:\n",
    "    print(False)"
   ]
  },
  {
   "cell_type": "code",
   "execution_count": 3,
   "id": "8ca4cf0f",
   "metadata": {},
   "outputs": [
    {
     "name": "stdout",
     "output_type": "stream",
     "text": [
      "True\n"
     ]
    }
   ],
   "source": [
    "# 2개의 정수가 공백을 두고 입력된다.\n",
    "# 둘 다 True 일 경우에만 True 를 출력하고, 그 외의 경우에는 False 를 출력한다.\n",
    "x,y = input().split()\n",
    "\n",
    "if int(x) == 1 and int(y) == 1 :\n",
    "    print(True)\n",
    "else :\n",
    "    print(False)\n"
   ]
  },
  {
   "cell_type": "code",
   "execution_count": 4,
   "id": "a03aad46",
   "metadata": {},
   "outputs": [
    {
     "name": "stdout",
     "output_type": "stream",
     "text": [
      "True\n"
     ]
    }
   ],
   "source": [
    "# 2개의 정수가 공백을 두고 입력된다.\n",
    "# 하나라도 참일 경우 True 를 출력하고, 그 외의 경우에는 False 를 출력한다.\n",
    "\n",
    "x,y = input().split()\n",
    "if int(x) == 1 or int(y) == 1 :\n",
    "    print(True)\n",
    "else :\n",
    "    print(False)"
   ]
  },
  {
   "cell_type": "code",
   "execution_count": 5,
   "id": "60d87283",
   "metadata": {},
   "outputs": [
    {
     "name": "stdout",
     "output_type": "stream",
     "text": [
      "False\n"
     ]
    }
   ],
   "source": [
    "a , b = input().split()\n",
    "c = bool(int(a))\n",
    "d = bool(int(b))\n",
    "print((c and (not d)) or ((not c) and d))"
   ]
  },
  {
   "cell_type": "code",
   "execution_count": 16,
   "id": "7d6a323d",
   "metadata": {},
   "outputs": [
    {
     "name": "stdout",
     "output_type": "stream",
     "text": [
      "True\n"
     ]
    }
   ],
   "source": [
    "# 두 값의 True / False 값이 서로 같을 경우만 True 를 출력하고, 그 외의 경우에는 False 를 출력한다.\n",
    "a,b = input().split()\n",
    "c = bool(int(a))\n",
    "d = bool(int(b))\n",
    "print(c == d)"
   ]
  },
  {
   "cell_type": "code",
   "execution_count": 2,
   "id": "c71d5d8e",
   "metadata": {},
   "outputs": [
    {
     "name": "stdout",
     "output_type": "stream",
     "text": [
      "True\n"
     ]
    }
   ],
   "source": [
    "# 두 값의 True / False 값이 모두 False 일 때만 True 를 출력하고, 그 외의 경우에는 False 를 출력한다.\n",
    "a,b = input().split()\n",
    "c = bool(int(a))\n",
    "d = bool(int(b))\n",
    "if c == False and d == False :\n",
    "    print(True)\n",
    "else :\n",
    "    print(False)"
   ]
  },
  {
   "cell_type": "code",
   "execution_count": 6,
   "id": "dc4fa892",
   "metadata": {},
   "outputs": [
    {
     "name": "stdout",
     "output_type": "stream",
     "text": [
      "-3\n"
     ]
    }
   ],
   "source": [
    "\n",
    "# 비트 단위로 1 -> 0, 0 -> 1로 바꾼 후 그 값을 10진수로 출력한다.\n",
    "a = input()\n",
    "n = eval(a)\n",
    "print(~n)"
   ]
  },
  {
   "cell_type": "code",
   "execution_count": 7,
   "id": "cd1a9163",
   "metadata": {},
   "outputs": [
    {
     "name": "stdout",
     "output_type": "stream",
     "text": [
      "1\n"
     ]
    }
   ],
   "source": [
    "# 두 정수를 비트단위(bitwise)로 and 계산을 수행한 결과를 10진수로 출력한다.\n",
    "x,y = input().split()\n",
    "x1 = eval(x)\n",
    "y1 = eval(y)\n",
    "print(x1&y1)"
   ]
  },
  {
   "cell_type": "code",
   "execution_count": 8,
   "id": "fef46139",
   "metadata": {},
   "outputs": [
    {
     "name": "stdout",
     "output_type": "stream",
     "text": [
      "7\n"
     ]
    }
   ],
   "source": [
    "# 두 정수를 비트단위(bitwise)로 or 계산을 수행한 결과를 10진수로 출력한다.\n",
    "x,y = input().split()\n",
    "x1 = eval(x)\n",
    "y1 = eval(y)\n",
    "print(x1|y1)"
   ]
  },
  {
   "cell_type": "code",
   "execution_count": 9,
   "id": "17768191",
   "metadata": {},
   "outputs": [
    {
     "name": "stdout",
     "output_type": "stream",
     "text": [
      "6\n"
     ]
    }
   ],
   "source": [
    "# 두 정수를 비트단위(bitwise)로 xor 계산을 수행한 결과를 10진수로 출력한다.\n",
    "x,y = input().split()\n",
    "x1 = eval(x)\n",
    "y1 = eval(y)\n",
    "print(x1^y1)"
   ]
  },
  {
   "cell_type": "code",
   "execution_count": 10,
   "id": "fd4be08a",
   "metadata": {},
   "outputs": [
    {
     "name": "stdout",
     "output_type": "stream",
     "text": [
      "456\n"
     ]
    }
   ],
   "source": [
    "# 변수 a에 저장되어있는 값을 정수로 바꾸어 다시 변수 a에 저장\n",
    "# 두 정수 중 큰 값을 10진수로 출력한다.\n",
    "a, b = input().split()\n",
    "a = int(a)  \n",
    "b = int(b)\n",
    "c = (a if (a>=b) else b)\n",
    "print(int(c))"
   ]
  },
  {
   "cell_type": "code",
   "execution_count": 29,
   "id": "f2e5d802",
   "metadata": {},
   "outputs": [
    {
     "name": "stdout",
     "output_type": "stream",
     "text": [
      "3\n"
     ]
    }
   ],
   "source": [
    "a, b, c = input().split() \n",
    "a = int(a) # 변수 a에 저장되어있는 값을 정수로 바꾸어 다시 변수 a에 저장 \n",
    "b = int(b) \n",
    "c = int(c) \n",
    "d = a if a<b else b \n",
    "e = d if d<c else c \n",
    "print(e)"
   ]
  },
  {
   "cell_type": "code",
   "execution_count": 1,
   "id": "43abbce1",
   "metadata": {},
   "outputs": [
    {
     "name": "stdout",
     "output_type": "stream",
     "text": [
      "2\n",
      "4\n"
     ]
    }
   ],
   "source": [
    "a, b, c = input().split()\n",
    "\n",
    "a = eval(a)\n",
    "b = eval(b)\n",
    "c = eval(c)\n",
    "\n",
    "if a%2==0 :  #논리적으로 한 단위로 처리해야하는 경우 콜론(:)을 찍고, 들여쓰기로 작성 한다.\n",
    "  print(a)\n",
    "\n",
    "if b%2==0 :\n",
    "  print(b) \n",
    "\n",
    "if c%2==0 :\n",
    "  print(c) \n"
   ]
  },
  {
   "cell_type": "code",
   "execution_count": 3,
   "id": "a4e97ee9",
   "metadata": {},
   "outputs": [
    {
     "name": "stdout",
     "output_type": "stream",
     "text": [
      "odd\n",
      "even\n",
      "even\n"
     ]
    }
   ],
   "source": [
    "a,b,c = input().split()\n",
    "a = eval(a)\n",
    "b = eval(b)\n",
    "c = eval(c)\n",
    "# 입력된 순서대로 짝(even)/홀(odd)을 줄을 바꿔 출력한다.\n",
    "if a%2==0:\n",
    "    print(\"even\")\n",
    "else:\n",
    "    print(\"odd\")\n",
    "if b%2==0:\n",
    "    print(\"even\")\n",
    "else:\n",
    "    print(\"odd\")\n",
    "if c%2==0:\n",
    "    print(\"even\")\n",
    "else:\n",
    "    print(\"odd\")                    "
   ]
  },
  {
   "cell_type": "code",
   "execution_count": 4,
   "id": "664f692d",
   "metadata": {},
   "outputs": [
    {
     "name": "stdout",
     "output_type": "stream",
     "text": [
      "A\n"
     ]
    }
   ],
   "source": [
    "# 음수이면서 짝수이면, A\n",
    "# 음수이면서 홀수이면, B\n",
    "# 양수이면서 짝수이면, C\n",
    "# 양수이면서 홀수이면, D\n",
    "# 를 출력한다.\n",
    "a = input()\n",
    "a = eval(a)\n",
    "if a%2==0 and a<0:\n",
    "    print('A')\n",
    "elif a%2!=0 and a<0:\n",
    "    print('B')\n",
    "elif a%2==0 and a>0:\n",
    "    print('C')\n",
    "elif a%2!=0 and a>0:\n",
    "    print('D')\n",
    "    "
   ]
  },
  {
   "cell_type": "code",
   "execution_count": 5,
   "id": "d1865c18",
   "metadata": {},
   "outputs": [
    {
     "name": "stdout",
     "output_type": "stream",
     "text": [
      "D\n"
     ]
    }
   ],
   "source": [
    "# 정수(0 ~ 100) 1개가 입력된다.\n",
    "# 평가 결과를 출력한다.\n",
    "# 평가 기준\n",
    "# 점수 범위 : 평가\n",
    "#  90 ~ 100 : A\n",
    "#  70 ~   89 : B\n",
    "#  40 ~   69 : C\n",
    "#    0 ~   39 : D\n",
    "# 로 평가되어야 한다.\n",
    "a = input()\n",
    "a = eval(a)\n",
    "if a>=90:\n",
    "    print('A')\n",
    "elif a>=70:\n",
    "    print('B')\n",
    "elif a>=40:\n",
    "    print('C')\n",
    "elif a>=0:\n",
    "    print('D')\n"
   ]
  },
  {
   "cell_type": "code",
   "execution_count": 9,
   "id": "974ac160",
   "metadata": {},
   "outputs": [
    {
     "name": "stdout",
     "output_type": "stream",
     "text": [
      "run!\n"
     ]
    }
   ],
   "source": [
    "# 평가 내용\n",
    "# 평가 : 내용\n",
    "# A : best!!!\n",
    "# B : good!!\n",
    "# C : run!\n",
    "# D : slowly~\n",
    "# 나머지 문자들 : what?\n",
    "\n",
    "# 영문자 1개가 입력된다.\n",
    "# (A, B, C, D 등 문자 1개가 입력된다.)\n",
    "\n",
    "a = input()\n",
    "if a == 'A':\n",
    "    print(\"best!!!\")\n",
    "elif a == 'B':\n",
    "    print(\"good!!\")\n",
    "elif a == 'C':\n",
    "    print(\"run!\")\n",
    "elif a == 'D':\n",
    "    print(\"slowly~\")\n",
    "else :\n",
    "    print(\"what?\")"
   ]
  },
  {
   "cell_type": "code",
   "execution_count": 10,
   "id": "6b851030",
   "metadata": {},
   "outputs": [
    {
     "name": "stdout",
     "output_type": "stream",
     "text": [
      "fall\n"
     ]
    }
   ],
   "source": [
    "# 월 : 계절 이름\n",
    "# 12, 1, 2 : winter\n",
    "#   3, 4, 5 : spring\n",
    "#   6, 7, 8 : summer\n",
    "#   9, 10, 11 : fall\n",
    "# 월을 의미하는 1개의 정수가 입력된다.(1 ~ 12)\n",
    "# 계절 이름을 출력한다.\n",
    "a = input()\n",
    "a = eval(a)\n",
    "if a==12 or a==1 or a==2:\n",
    "    print(\"winter\")\n",
    "elif a==3 or a==4 or a==5:\n",
    "    print(\"spring\")\n",
    "elif a==6 or a==7 or a==8:\n",
    "    print(\"summer\")\n",
    "elif a==9 or a==10 or a==11:\n",
    "    print(\"fall\")\n"
   ]
  },
  {
   "cell_type": "code",
   "execution_count": 11,
   "id": "fd45ae1f",
   "metadata": {},
   "outputs": [
    {
     "name": "stdout",
     "output_type": "stream",
     "text": [
      "9\n"
     ]
    }
   ],
   "source": [
    "a = 1\n",
    "while a!=0:\n",
    "    a = eval(input())\n",
    "    if a != 0:\n",
    "        print(a)\n"
   ]
  },
  {
   "cell_type": "code",
   "execution_count": 13,
   "id": "f7d2c450",
   "metadata": {},
   "outputs": [
    {
     "name": "stdout",
     "output_type": "stream",
     "text": [
      "5\n",
      "4\n",
      "3\n",
      "2\n",
      "1\n"
     ]
    }
   ],
   "source": [
    "# 1만큼씩 줄이면서 한 줄에 1개씩 카운트다운 수를 출력한다.\n",
    "a = 1 \n",
    "a = eval(input())\n",
    "while a!=0:\n",
    "    if a != 0:\n",
    "        print(a)\n",
    "        a -= 1"
   ]
  },
  {
   "cell_type": "code",
   "execution_count": 14,
   "id": "453936d8",
   "metadata": {},
   "outputs": [
    {
     "name": "stdout",
     "output_type": "stream",
     "text": [
      "4\n",
      "3\n",
      "2\n",
      "1\n",
      "0\n"
     ]
    }
   ],
   "source": [
    "a = 1\n",
    "a = eval(input())\n",
    "while a!=0:\n",
    "    if a != 0:\n",
    "        print(a-1)\n",
    "        a-=1"
   ]
  },
  {
   "cell_type": "code",
   "execution_count": 4,
   "id": "aa8f4e58",
   "metadata": {},
   "outputs": [
    {
     "name": "stdout",
     "output_type": "stream",
     "text": [
      "a b c d "
     ]
    }
   ],
   "source": [
    "c = ord(input())\n",
    "t = ord('a')\n",
    "while t<=c :\n",
    "  print(chr(t), end=' ')\n",
    "  t += 1"
   ]
  },
  {
   "cell_type": "code",
   "execution_count": 6,
   "id": "b493718f",
   "metadata": {},
   "outputs": [
    {
     "name": "stdout",
     "output_type": "stream",
     "text": [
      "0 1 2 3 4 5 "
     ]
    }
   ],
   "source": [
    "a = int(input())\n",
    "b = 0\n",
    "while b <= a :\n",
    "    print(int(b), end=' ')\n",
    "    b += 1\n"
   ]
  },
  {
   "cell_type": "code",
   "execution_count": 8,
   "id": "c615a12b",
   "metadata": {},
   "outputs": [
    {
     "name": "stdout",
     "output_type": "stream",
     "text": [
      "0\n",
      "1\n",
      "2\n",
      "3\n",
      "4\n"
     ]
    }
   ],
   "source": [
    "n = int(input())\n",
    "for i in range(0, n+1):\n",
    "    print(i)"
   ]
  },
  {
   "cell_type": "code",
   "execution_count": 17,
   "id": "2190a39f",
   "metadata": {},
   "outputs": [
    {
     "name": "stdout",
     "output_type": "stream",
     "text": [
      "6\n"
     ]
    }
   ],
   "source": [
    "n = int(input()) # 5를 대입\n",
    "s = 0\n",
    "for i in range(1, n+1) : # 1 2 3 4 5 \n",
    "    if i%2==0:\n",
    "        s += i # 2, 6\n",
    "print(s) # 6이 출력됨."
   ]
  },
  {
   "cell_type": "code",
   "execution_count": 25,
   "id": "aebb1da4",
   "metadata": {},
   "outputs": [
    {
     "name": "stdout",
     "output_type": "stream",
     "text": [
      "g\n",
      "e\n",
      "t\n",
      "q\n"
     ]
    }
   ],
   "source": [
    "while True: \n",
    "    x = input() \n",
    "    print(x) \n",
    "    if x=='q': \n",
    "        break\n"
   ]
  },
  {
   "cell_type": "code",
   "execution_count": 41,
   "id": "586e4514",
   "metadata": {},
   "outputs": [
    {
     "name": "stdout",
     "output_type": "stream",
     "text": [
      "6\n"
     ]
    }
   ],
   "source": [
    "# 입력 : 정수 하나를 입력한다.\n",
    "# 출력 : 1, 2, 3, 4, 5 ... 를 순서대로 계속 더해 합을 만들어가다가,\n",
    "# 입력된 정수와 같거나 커졌을 때, 마지막에 더한 정수를 출력한다.\n",
    "# 0+1 = 1\n",
    "# 1+2 = 3\n",
    "# 3+3 = 6\n",
    "# 6+4 = 10\n",
    "# 10+5 = 15\n",
    "# 15+6 = 21\n",
    "n = int(input())\n",
    "s = 0\n",
    "sum = 0\n",
    "while True :\n",
    "    s += 1\n",
    "    sum += s\n",
    "    if sum >= n :\n",
    "        break\n",
    "\n",
    "print(s)\n"
   ]
  },
  {
   "cell_type": "code",
   "execution_count": 7,
   "id": "da89a79e",
   "metadata": {},
   "outputs": [
    {
     "name": "stdout",
     "output_type": "stream",
     "text": [
      "1 1\n",
      "1 2\n",
      "1 3\n",
      "2 1\n",
      "2 2\n",
      "2 3\n"
     ]
    }
   ],
   "source": [
    "a, b = input().split()\n",
    "a = eval(a)\n",
    "b = eval(b)\n",
    "for i in range(1, a+1) :\n",
    "    for j in range(1, b+1):\n",
    "        print(\"{} {}\".format(i,j))\n"
   ]
  },
  {
   "cell_type": "code",
   "execution_count": 4,
   "id": "549efe3d",
   "metadata": {},
   "outputs": [
    {
     "name": "stdout",
     "output_type": "stream",
     "text": [
      "C*1=C\n",
      "C*2=18\n",
      "C*3=24\n",
      "C*4=30\n",
      "C*5=3C\n",
      "C*6=48\n",
      "C*7=54\n",
      "C*8=60\n",
      "C*9=6C\n",
      "C*A=78\n",
      "C*B=84\n",
      "C*C=90\n",
      "C*D=9C\n",
      "C*E=A8\n",
      "C*F=B4\n"
     ]
    }
   ],
   "source": [
    "# 16진수(0, 1, 2, 3, 4, 5, 6, 7, 8, 9, A, B, C, D, E, F)를 배운\n",
    "# 영일이는 16진수끼리 곱하는 16진수 구구단?에 대해서 궁금해졌다.\n",
    "\n",
    "# A, B, C, D, E, F 중 하나가 입력될 때,\n",
    "# 1부터 F까지 곱한 16진수 구구단의 내용을 출력해보자.\n",
    "# (단, A ~ F 까지만 입력된다.)\n",
    "\n",
    "# print('%X'%n)    #n에 저장되어있는 값을 16진수(hexadecimal) 형태로 출력\n",
    "# 작은 따옴표 2개를 사용해서 print(..., sep='') 으로 출력하면, 공백없이 모두 붙여 출력된다.\n",
    "# 작은 따옴표 2개 '' 또는 큰 따옴표 2개 \"\" 는 아무 문자도 없는 빈문자열(empty string)을 의미한다.\n",
    "\n",
    "n = int(input(), 16) \n",
    "for i in range(1, 16) : \n",
    "    print('%X'%n, '*%X'%i, '=%X'%(n*i), sep='')"
   ]
  },
  {
   "cell_type": "code",
   "execution_count": 11,
   "id": "68736c05",
   "metadata": {},
   "outputs": [
    {
     "name": "stdout",
     "output_type": "stream",
     "text": [
      "1 2 X 4 5 X 7 8 X "
     ]
    }
   ],
   "source": [
    "n = int(input())\n",
    "for i in range(1, n+1) :\n",
    "    if i%10==3 or i%10==6 or i%10==9 :\n",
    "        print(\"X\", end=' ')\n",
    "    else :\n",
    "        print(i, end=' ')"
   ]
  },
  {
   "cell_type": "code",
   "execution_count": 15,
   "id": "e572e88d",
   "metadata": {},
   "outputs": [
    {
     "name": "stdout",
     "output_type": "stream",
     "text": [
      "0 0 0\n",
      "0 0 1\n",
      "0 1 0\n",
      "0 1 1\n",
      "1 0 0\n",
      "1 0 1\n",
      "1 1 0\n",
      "1 1 1\n"
     ]
    }
   ],
   "source": [
    "# 빨강(r), 초록(g), 파랑(b) 각 빛의 가짓수가 주어질 때,\n",
    "# 주어진 rgb 빛들을 섞어 만들 수 있는 모든 경우의 조합(r g b)과 만들 수 있는 색의 가짓 수를 계산해보자.  \n",
    "\n",
    "for i in range(0, 2):\n",
    "    for j in range(0, 2) :\n",
    "        for z in range(0, 2):\n",
    "            print(i, j, z)\n",
    "\n"
   ]
  }
 ],
 "metadata": {
  "kernelspec": {
   "display_name": "Python 3 (ipykernel)",
   "language": "python",
   "name": "python3"
  },
  "language_info": {
   "codemirror_mode": {
    "name": "ipython",
    "version": 3
   },
   "file_extension": ".py",
   "mimetype": "text/x-python",
   "name": "python",
   "nbconvert_exporter": "python",
   "pygments_lexer": "ipython3",
   "version": "3.10.2"
  }
 },
 "nbformat": 4,
 "nbformat_minor": 5
}
