{
 "cells": [
  {
   "cell_type": "markdown",
   "metadata": {},
   "source": [
    "```\n",
    "pip install pandas\n",
    "pip install numpy\n",
    "pip list -- pip 리스트 출력\n",
    "```"
   ]
  },
  {
   "cell_type": "markdown",
   "metadata": {},
   "source": [
    "### pandas\n",
    "* 데이터를 분석하는 라이브러리\n",
    "* pandas : 데이터를 조작하고 분석하기 위한 파이썬 라이브러리\n",
    "* 대규모의 데이터를 처리 할 때 편리하게 사용함.\n",
    "    * Series\n",
    "    * DataFrame"
   ]
  },
  {
   "cell_type": "code",
   "execution_count": 1,
   "metadata": {},
   "outputs": [
    {
     "name": "stdout",
     "output_type": "stream",
     "text": [
      "0    1\n",
      "1    2\n",
      "2    3\n",
      "3    4\n",
      "4    5\n",
      "dtype: int64\n"
     ]
    }
   ],
   "source": [
    "# 정수형 series\n",
    "import pandas as pd\n",
    "s = pd.Series([1, 2, 3, 4, 5]) # 정수형 Index를 자동으로 만들고 값을 인덱스에 저장함.\n",
    "print(s)"
   ]
  },
  {
   "cell_type": "code",
   "execution_count": 2,
   "metadata": {},
   "outputs": [
    {
     "name": "stdout",
     "output_type": "stream",
     "text": [
      "0    4.50\n",
      "1    3.20\n",
      "2    4.70\n",
      "3    7.65\n",
      "4    6.34\n",
      "dtype: float64\n"
     ]
    }
   ],
   "source": [
    "# 실수형 series\n",
    "s = pd.Series([4.5, 3.2, 4.7, 7.65 , 6.34])\n",
    "print(s)"
   ]
  },
  {
   "cell_type": "code",
   "execution_count": 4,
   "metadata": {},
   "outputs": [
    {
     "name": "stdout",
     "output_type": "stream",
     "text": [
      "0    1.0\n",
      "1    2.0\n",
      "2    4.5\n",
      "3    5.3\n",
      "4    3.0\n",
      "5    5.0\n",
      "dtype: float64\n"
     ]
    }
   ],
   "source": [
    "# 정수와 실수형 series\n",
    "s = pd.Series([1, 2, 4.5, 5.3, 3, 5])\n",
    "print(s)"
   ]
  },
  {
   "cell_type": "code",
   "execution_count": 5,
   "metadata": {},
   "outputs": [
    {
     "name": "stdout",
     "output_type": "stream",
     "text": [
      "a    1.0\n",
      "b    2.0\n",
      "c    4.5\n",
      "d    5.3\n",
      "e    3.0\n",
      "f    5.0\n",
      "dtype: float64\n"
     ]
    }
   ],
   "source": [
    "# 인덱스를 수정\n",
    "s = pd.Series([1, 2, 4.5, 5.3, 3, 5], index=['a','b', 'c', 'd', 'e', 'f'])\n",
    "print(s)"
   ]
  },
  {
   "cell_type": "code",
   "execution_count": 9,
   "metadata": {},
   "outputs": [
    {
     "name": "stdout",
     "output_type": "stream",
     "text": [
      "[1 2 3]\n",
      "[0. 0. 0. 0. 0.]\n",
      "[1. 1. 1. 1.]\n",
      "[[1. 1. 1.]\n",
      " [1. 1. 1.]]\n"
     ]
    }
   ],
   "source": [
    "# DataFrame 2차원 배열\n",
    "import numpy as np\n",
    "s=np.array([1,2,3])\n",
    "print(s)\n",
    "b = np.zeros(5) # 0 으로 배열\n",
    "print(b)\n",
    "c = np.ones(4) # 1 로 배열\n",
    "print(c)\n",
    "d = np.ones((2,3)) # 2행 3열\n",
    "print(d)"
   ]
  },
  {
   "cell_type": "code",
   "execution_count": 14,
   "metadata": {},
   "outputs": [
    {
     "name": "stdout",
     "output_type": "stream",
     "text": [
      "[5 5 5 5]\n",
      "[4 6 6 4]\n",
      "[0.25       0.66666667 1.5        4.        ]\n",
      "2.5\n"
     ]
    }
   ],
   "source": [
    "a = np.array([1,2,3,4])\n",
    "b = np.array([4,3,2,1])\n",
    "print(np.add(a,b)) # 같은 요소끼리 합산\n",
    "print(np.multiply(a,b)) # 같은 요소끼리 곱\n",
    "print(np.divide(a,b)) # 같은 요소끼리 나누기\n",
    "print(np.mean(a)) # 배열의 평균을 출력"
   ]
  },
  {
   "cell_type": "code",
   "execution_count": 19,
   "metadata": {},
   "outputs": [
    {
     "name": "stdout",
     "output_type": "stream",
     "text": [
      "[[0.75299383 0.94195685 0.56850218 0.47837256 0.15705856]\n",
      " [0.82791817 0.66388281 0.01508927 0.78915006 0.79737245]]\n",
      "[[-1.57851718 -1.39694083 -0.24355068  0.77790224 -0.03981427]\n",
      " [ 0.29459599  1.38385195 -1.95934343  0.01368626 -0.46884391]]\n"
     ]
    }
   ],
   "source": [
    "# 0과 1사이에서 균일한 분포를 갖는 숫자 샘플링\n",
    "a = np.random.rand(2,5)\n",
    "print(a)\n",
    "\n",
    "# 표준 정규 분포를 갖는 숫자들 샘플링\n",
    "b = np.random.randn(2,5)\n",
    "print(b)"
   ]
  },
  {
   "cell_type": "code",
   "execution_count": 21,
   "metadata": {},
   "outputs": [
    {
     "name": "stdout",
     "output_type": "stream",
     "text": [
      "3.141592653589793\n",
      "2.718281828459045\n"
     ]
    }
   ],
   "source": [
    "# 원주율 \n",
    "a = np.pi\n",
    "print(a)\n",
    "\n",
    "# 오일러 상수\n",
    "b = np.e\n",
    "print(b)"
   ]
  },
  {
   "cell_type": "code",
   "execution_count": 24,
   "metadata": {},
   "outputs": [
    {
     "name": "stdout",
     "output_type": "stream",
     "text": [
      "<class 'numpy.ndarray'>\n",
      "[1.2 5.  6.  7.  8. ]\n",
      "float64\n"
     ]
    }
   ],
   "source": [
    "# 배열에서의 타입\n",
    "a = np.array([1.2, 5, 6, 7, 8])\n",
    "print(type(a))\n",
    "print(a)\n",
    "print(a.dtype)"
   ]
  },
  {
   "cell_type": "code",
   "execution_count": 27,
   "metadata": {},
   "outputs": [
    {
     "name": "stdout",
     "output_type": "stream",
     "text": [
      "   a   b   c\n",
      "0  1   2   3\n",
      "1  5  10  20\n"
     ]
    }
   ],
   "source": [
    "data = [{\"a\": 1, \"b\": 2, \"c\": 3}, {\"a\": 5, \"b\": 10, \"c\": 20}]\n",
    "s = pd.DataFrame(data)\n",
    "print(s)"
   ]
  },
  {
   "cell_type": "code",
   "execution_count": 30,
   "metadata": {},
   "outputs": [
    {
     "name": "stdout",
     "output_type": "stream",
     "text": [
      "[[1 2 3 4]\n",
      " [5 6 7 8]]\n",
      "[[1 2 3 4]\n",
      " [5 6 7 8]]\n"
     ]
    }
   ],
   "source": [
    "data = [(1,2,3,4), (5,6,7,8)]\n",
    "a = np.array(data)\n",
    "print(a)\n",
    "\n",
    "data = [[1,2,3,4], [5,6,7,8]]\n",
    "a = np.array(data)\n",
    "print(a)"
   ]
  },
  {
   "cell_type": "code",
   "execution_count": 31,
   "metadata": {},
   "outputs": [
    {
     "name": "stdout",
     "output_type": "stream",
     "text": [
      "[[1.+0.j 2.+0.j 3.+0.j]\n",
      " [4.+0.j 5.+0.j 6.+0.j]]\n"
     ]
    }
   ],
   "source": [
    "# 타입 지정\n",
    "data = ([1,2,3], [4,5,6])\n",
    "a = np.array(data, dtype=complex) # 복수 타입으로 지정이 가능합니다.\n",
    "print(a)\n"
   ]
  },
  {
   "cell_type": "code",
   "execution_count": 33,
   "metadata": {},
   "outputs": [
    {
     "name": "stdout",
     "output_type": "stream",
     "text": [
      "[0. 0. 0. 0. 0. 0. 0. 0. 0. 0.]\n",
      "[[[1 1 1 1]\n",
      "  [1 1 1 1]\n",
      "  [1 1 1 1]]\n",
      "\n",
      " [[1 1 1 1]\n",
      "  [1 1 1 1]\n",
      "  [1 1 1 1]]]\n"
     ]
    }
   ],
   "source": [
    "print(np.zeros(10))\n",
    "b = np.ones((2,3,4), dtype=np.int16)\n",
    "print(b)"
   ]
  },
  {
   "cell_type": "code",
   "execution_count": 38,
   "metadata": {},
   "outputs": [
    {
     "name": "stdout",
     "output_type": "stream",
     "text": [
      "   과목번호  과목명\n",
      "0     1   수학\n",
      "1     2   과학\n",
      "2     3  파이썬\n"
     ]
    }
   ],
   "source": [
    "list_no = [1 , 2 , 3] # 과목번호\n",
    "list_subjname = []\n",
    "list_subjname.append(\"수학\")\n",
    "list_subjname.append(\"과학\")\n",
    "list_subjname.append(\"파이썬\")\n",
    "subject = pd.DataFrame()\n",
    "subject[\"과목번호\"] = list_no\n",
    "subject[\"과목명\"] = list_subjname\n",
    "\n",
    "print(subject)\n",
    "\n",
    "subject.to_excel(\"C:\\\\Users\\\\Administrator\\\\Jupyter_noteBook\\\\studyPython\\\\subject.xlsx\", index=False)\n"
   ]
  },
  {
   "cell_type": "code",
   "execution_count": 37,
   "metadata": {},
   "outputs": [],
   "source": [
    "# csv확장자\n",
    "subject.to_csv(\"C:\\\\Users\\\\Administrator\\\\Jupyter_noteBook\\\\studyPython\\\\subject.csv\", encoding=\"utf-8\")"
   ]
  },
  {
   "cell_type": "code",
   "execution_count": 45,
   "metadata": {},
   "outputs": [
    {
     "name": "stdout",
     "output_type": "stream",
     "text": [
      "    이름  age      성별\n",
      "0  홍길동   20    male\n",
      "1  홍길순   40  famale\n",
      "2  임꺽정   32    male\n",
      "0    홍길동\n",
      "1    홍길순\n",
      "2    임꺽정\n",
      "Name: 이름, dtype: object\n",
      "    이름  age      성별  고향\n",
      "0  홍길동   20    male  서울\n",
      "1  홍길순   40  famale  부산\n",
      "2  임꺽정   32    male  대전\n"
     ]
    }
   ],
   "source": [
    "# 데이터프레임으로 표를 완성\n",
    "df = pd.DataFrame({\"이름\" : [\"홍길동\", \"홍길순\", \"임꺽정\"], \"age\" : [20,40,32], \"성별\" : [\"male\", \"famale\", \"male\"]})\n",
    "print(df)\n",
    "print(df[\"이름\"])\n",
    "# colune 을 추가\n",
    "home = pd.Series([\"서울\", \"부산\", \"대전\"], name=\"고향\")\n",
    "df[\"고향\"] = home\n",
    "print(df)"
   ]
  },
  {
   "cell_type": "code",
   "execution_count": 46,
   "metadata": {},
   "outputs": [
    {
     "name": "stdout",
     "output_type": "stream",
     "text": [
      "30.666666666666668\n",
      "40\n",
      "20\n"
     ]
    }
   ],
   "source": [
    "# 평균, 최대값, 최소값\n",
    "avg1 = df[\"age\"].mean()\n",
    "print(avg1)\n",
    "\n",
    "max1 = df[\"age\"].max()\n",
    "print(max1)\n",
    "\n",
    "min1 = df[\"age\"].min()\n",
    "print(min1)"
   ]
  },
  {
   "cell_type": "code",
   "execution_count": 47,
   "metadata": {},
   "outputs": [
    {
     "name": "stdout",
     "output_type": "stream",
     "text": [
      "             age\n",
      "count   3.000000\n",
      "mean   30.666667\n",
      "std    10.066446\n",
      "min    20.000000\n",
      "25%    26.000000\n",
      "50%    32.000000\n",
      "75%    36.000000\n",
      "max    40.000000\n"
     ]
    }
   ],
   "source": [
    "# 데이터프레임의 기본 통계 내용을 출력\n",
    "print(df.describe())"
   ]
  },
  {
   "cell_type": "code",
   "execution_count": 52,
   "metadata": {},
   "outputs": [
    {
     "name": "stdout",
     "output_type": "stream",
     "text": [
      "    이름  age      성별  고향\n",
      "0  홍길동   20    male  서울\n",
      "1  홍길순   40  famale  부산\n",
      "\n",
      "    이름  age      성별  고향\n",
      "1  홍길순   40  famale  부산\n",
      "2  임꺽정   32    male  대전\n"
     ]
    }
   ],
   "source": [
    "# 필요한 내용만 슬라이스\n",
    "print(df.head(2))\n",
    "print()\n",
    "print(df.tail(2))"
   ]
  },
  {
   "cell_type": "code",
   "execution_count": 88,
   "metadata": {},
   "outputs": [
    {
     "name": "stdout",
     "output_type": "stream",
     "text": [
      "   Unnamed: 0  order_no user_id user_pass name address product    price  brand\n",
      "0           0         1   user1     pass1  손흥민      런던     운동화   100000    나이키\n",
      "1           1         2   user2     pass2   설현      서울      코트   150000    버버리\n",
      "2           2         3   user3     pass3   원빈      대전     반바지    30000   유니클로\n",
      "3           3         4   user4     pass4  송혜교      대구     스커트    55000     자라\n",
      "4           4         5   user5     pass5  소지섭      부산      코트  1100000   알레그리\n",
      "5           5         6   user6     pass6  김지원      울산     티셔츠     9900   지오다노\n",
      "6           6         7   user6     pass6  김지원      울산     운동화   220000     텐디\n",
      "7           7         8   user1     pass1  손흥민      런던     스커트    30000  크로커다일\n",
      "8           8         9   user1     pass1  손흥민      런던      코트   580000    띠어리\n",
      "1. 손흥민이 주문한 갯수는 3\n",
      "2. 손흥민이 산 상품은? \n",
      "0    운동화\n",
      "7    스커트\n",
      "8     코트\n",
      "Name: product, dtype: object\n",
      "3. 스커트를 산 사람은?\n",
      "3    송혜교\n",
      "7    손흥민\n",
      "Name: name, dtype: object\n",
      "4. 가장 많이 주문 한 사람의 아이디와 이름, 주문 횟수는?\n",
      "  user_id name  count\n",
      "0   user1  손흥민      3\n",
      "5   user6  김지원      2\n",
      "1   user2   설현      1\n",
      "2   user3   원빈      1\n",
      "3   user4  송혜교      1\n",
      "4   user5  소지섭      1\n",
      "  user_id name  count\n",
      "0   user1  손흥민      3\n",
      "5. 김지원이 사용한 총 금액은 ?\n",
      "229900\n"
     ]
    }
   ],
   "source": [
    "df = pd.read_excel(\"order.xlsx\")\n",
    "print(df)\n",
    "\n",
    "# 손흥민이 주문한 갯수\n",
    "# count()\n",
    "print(\"1. 손흥민이 주문한 갯수는 \", end='')\n",
    "is_son = df[\"name\"] == \"손흥민\"\n",
    "print(df[is_son][\"order_no\"].count())\n",
    "\n",
    "# 손흥민이 산 상품은?\n",
    "print(\"2. 손흥민이 산 상품은? \")\n",
    "is_son = df[\"name\"] == \"손흥민\"\n",
    "print(df[is_son][\"product\"])\n",
    "\n",
    "# 스커트를 산 사람은?\n",
    "print(\"3. 스커트를 산 사람은?\")\n",
    "is_son = df[\"product\"] == \"스커트\"\n",
    "print(df[is_son][\"name\"])\n",
    "\n",
    "# 가장 많이 주문 한 사람의 아이디와 이름, 주문 횟수는?\n",
    "# count(),groupby(), sort_values()\n",
    "print(\"4. 가장 많이 주문 한 사람의 아이디와 이름, 주문 횟수는?\")\n",
    "is_max = df.groupby([\"user_id\", \"name\"])[\"order_no\"].count().reset_index(name=\"count\")\n",
    "is_max = is_max.sort_values(\"count\", ascending= False) # 정렬 방식 오름차순, 내림차순 \n",
    "print(is_max)\n",
    "print(is_max.head(1))\n",
    "# 김지원이 사용한 총 금액은 ?\n",
    "# sum()\n",
    "print(\"5. 김지원이 사용한 총 금액은 ?\")\n",
    "is_son = df[\"name\"] == \"김지원\"\n",
    "print(df[is_son][\"price\"].sum())"
   ]
  },
  {
   "cell_type": "code",
   "execution_count": 89,
   "metadata": {},
   "outputs": [
    {
     "data": {
      "image/png": "[encoded data removed]",
      "text/plain": [
       "<Figure size 432x288 with 1 Axes>"
      ]
     },
     "metadata": {
      "needs_background": "light"
     },
     "output_type": "display_data"
    }
   ],
   "source": [
    "# pip install matplotlib\n",
    "import matplotlib.pyplot as plt\n",
    "import numpy as np\n",
    "\n",
    "x = np.linspace(0, 2 * np.pi, 200)\n",
    "y = np.sin(x)\n",
    "\n",
    "fig, ax = plt.subplots()\n",
    "ax.plot(x, y)\n",
    "plt.show()"
   ]
  },
  {
   "cell_type": "code",
   "execution_count": 91,
   "metadata": {},
   "outputs": [
    {
     "data": {
      "image/png": "[encoded data removed]",
      "text/plain": [
       "<Figure size 432x288 with 1 Axes>"
      ]
     },
     "metadata": {
      "needs_background": "light"
     },
     "output_type": "display_data"
    }
   ],
   "source": [
    "plt.plot([6,4,5,8])\n",
    "plt.show()"
   ]
  },
  {
   "cell_type": "code",
   "execution_count": 92,
   "metadata": {},
   "outputs": [
    {
     "data": {
      "image/png": "[encoded data removed]",
      "text/plain": [
       "<Figure size 432x288 with 1 Axes>"
      ]
     },
     "metadata": {
      "needs_background": "light"
     },
     "output_type": "display_data"
    }
   ],
   "source": [
    "x = [2,4,6,8] \n",
    "y = [1,3,5,7]\n",
    "'''\n",
    "색상표\n",
    "b = 파란색\n",
    "g = 녹색\n",
    "r = 빨간색\n",
    "c = 청록색\n",
    "m = 보라색\n",
    "y = 노란색\n",
    "k = 검은색\n",
    "w = 흰색\n",
    "'''\n",
    "plt.plot(x,y)\n",
    "plt.show()"
   ]
  },
  {
   "cell_type": "code",
   "execution_count": 97,
   "metadata": {},
   "outputs": [
    {
     "data": {
      "image/png": "[encoded data removed]",
      "text/plain": [
       "<Figure size 432x288 with 1 Axes>"
      ]
     },
     "metadata": {
      "needs_background": "light"
     },
     "output_type": "display_data"
    }
   ],
   "source": [
    "x = range(0, 10)\n",
    "y = range(5, 15)\n",
    "plt.plot(x,y, 'r+') # 마커 표시 o = 원, v = 역삼각형, ^ = 삼각형, . = 점, s = 사각형, + = 플러스모양\n",
    "plt.show()"
   ]
  },
  {
   "cell_type": "code",
   "execution_count": null,
   "metadata": {},
   "outputs": [],
   "source": []
  }
 ],
 "metadata": {
  "interpreter": {
   "hash": "4e0b39fdc4f2df2992ef135d097972ec225e019845a073717c5b1bc8df292c8a"
  },
  "kernelspec": {
   "display_name": "Python 3.10.2 64-bit",
   "language": "python",
   "name": "python3"
  },
  "language_info": {
   "codemirror_mode": {
    "name": "ipython",
    "version": 3
   },
   "file_extension": ".py",
   "mimetype": "text/x-python",
   "name": "python",
   "nbconvert_exporter": "python",
   "pygments_lexer": "ipython3",
   "version": "3.10.2"
  },
  "orig_nbformat": 4
 },
 "nbformat": 4,
 "nbformat_minor": 2
}
