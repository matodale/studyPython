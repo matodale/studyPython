{
 "cells": [
  {
   "cell_type": "markdown",
   "metadata": {},
   "source": [
    "### SQLite = > DBMS\n",
    "* DBMS 는 mysql, Oracle, ms-sql\n",
    "* python으로 다룰려고 SQLite\n",
    "* sqlite3 모듈을 사용\n",
    "* DBMS를 사용할 수 있게 기본적으로 제공함.\n",
    "* [https://sqlitebrowser.org/dl/]"
   ]
  },
  {
   "cell_type": "code",
   "execution_count": 2,
   "metadata": {},
   "outputs": [
    {
     "data": {
      "text/plain": [
       "'2.6.0'"
      ]
     },
     "execution_count": 2,
     "metadata": {},
     "output_type": "execute_result"
    }
   ],
   "source": [
    "import sqlite3\n",
    "sqlite3.version"
   ]
  },
  {
   "cell_type": "code",
   "execution_count": 42,
   "metadata": {},
   "outputs": [
    {
     "data": {
      "text/plain": [
       "sqlite3.Connection"
      ]
     },
     "execution_count": 42,
     "metadata": {},
     "output_type": "execute_result"
    }
   ],
   "source": [
    "# connect // 데이터베이스 생성 함수\n",
    "conm = sqlite3.connect(\"C:\\\\Users\\\\Administrator\\\\Jupyter_noteBook\\\\studyDB\\\\ptest.db\") # 경로 설정 및 파일 생성\n",
    "type(conm) # 타입 출력"
   ]
  },
  {
   "cell_type": "code",
   "execution_count": 44,
   "metadata": {},
   "outputs": [],
   "source": [
    "cursor = conm.cursor() # 데이터 베이스 sql구문을 사용하기 위해 작성\n",
    "# CREATE TABLE 테이블명(컬럼이름1 데이터타입, 컬럼이름2 데이터타입, 컬럼이름3 데이터타입, 컬럼이름4 데이터타입, ...) : 테이블 작성\n",
    "# student (std) : 이름, 나이, 성적\n",
    "# CREATE TABLE Student(std)(\n",
    "# 이름 text VARCHAR(10), \n",
    "# 나이 int VARCHAR(3),  \n",
    "# 성적 text VARCHAR(2));\n",
    "# 파이썬 : None , sql : NULL\n",
    "# 파이썬 : int , sql : integer\n",
    "# 파이썬 : str , sql : text\n",
    "# 파이썬 : float , sql : real\n",
    "cursor.execute(\"CREATE TABLE std(이름 text VARCHAR(10), 나이 int VARCHAR(10), 성적 text VARCHAR(10))\")"
   ]
  },
  {
   "cell_type": "markdown",
   "metadata": {},
   "source": [
    "## DDL(Data Definition Language)\n",
    "* 데이터 정의어란? 데이터베이스를 정의하는 언어이며, 데이터를 생성, 수정, 삭제하는 등의 데이터의 전체의 골격을 결정하는 역할을 하는 언어이다.\n",
    "    * create : 데이터베이스, 테이블등을 생성\n",
    "    * alter : 테이블을 수정\n",
    "    * drop : 데이터베이스, 테이블을 삭제\n",
    "    * truncate : 테이블을 초기화\n",
    "* SCHEMA, DOMAIN, TABLE, VIEW, INDEX를 정의하거나 변경 또는 삭제할 때 사용하는 언어\n",
    "* 데이터 베이스 관리자나 데이터베이스 설계자가 사용\n",
    "\n",
    "## DML(Data Manipulation Language)\n",
    "* 데이터 조작어란? 정의된 데이터베이스에 입력된 레코드를 조회하거나 수정하거나 삭제하는 등의 역할을 하는 언어.\n",
    "    * select : 데이터 조회\n",
    "    * insert : 데이터 삽입\n",
    "    * update : 데이터 수정\n",
    "    * delete : 데이터 삭제\n",
    "* 데이터베이스 사용자가 응용 프로그램이나 질의어를 통하여 저장된 데이터를 실질적으로 처리하는데 사용하는 언어\n",
    "* 데이터베이스 사용자와 데이터베이스 관리 시스템 간의 인터페이스를 제공\n",
    "\n",
    "## DCL(Data Control Language)\n",
    "* 데이터베이스에 접근하거나 객체에 권한을 주는등의 역할을 하는 언어\n",
    "    * grant : 특정 데이터베이스 사용자에게 특정 작업에 대한 수행 권한을 부여\n",
    "    * revoke : 특정 데이터베이스 사용자에게 특정 작업에 대한 수행 권한을 박탈, 회수\n",
    "    * commit : 트랜잭션의 작업을 저장\n",
    "    * rollback : 트랜잭션의 작업을 취소, 원래대로 복구\n",
    "* ROLL 객체\n",
    "* ROLE 종류\n",
    "    * CONNECT : DB 접속 권한\n",
    "    * RESOURCE : 테이블이라든지 인덱스라든지 생성할 수 있는 권한\n",
    "    * CREATE VIEW : 뷰 생성 권한\n",
    "    * DBA : 모든 권한(관리자)\n",
    "\n",
    "```sql\n",
    "-- 데이터 삽입하기\n",
    "insert into 테이블이름 values('박하선', 30, 'A');\n",
    "insert into 테이블이름 set 이름 = '박하선', 나이 = 30, 성적 = 'A';\n",
    "-- 데이터 테이블 삭제하기\n",
    "drop table 테이블이름\n",
    "drop table if exists 테이블이름 -- 존재하면 삭제함.\n",
    "```"
   ]
  },
  {
   "cell_type": "code",
   "execution_count": 26,
   "metadata": {},
   "outputs": [
    {
     "data": {
      "text/plain": [
       "<sqlite3.Cursor at 0x2a91f226ac0>"
      ]
     },
     "execution_count": 26,
     "metadata": {},
     "output_type": "execute_result"
    }
   ],
   "source": [
    "cursor.execute(\"INSERT INTO std VALUES('박하선', 30, 'A')\")"
   ]
  },
  {
   "cell_type": "code",
   "execution_count": 27,
   "metadata": {},
   "outputs": [],
   "source": [
    "conm.commit() # 트랜잭션의 작업을 저장 "
   ]
  },
  {
   "cell_type": "code",
   "execution_count": 28,
   "metadata": {},
   "outputs": [
    {
     "data": {
      "text/plain": [
       "<sqlite3.Cursor at 0x2a91f226ac0>"
      ]
     },
     "execution_count": 28,
     "metadata": {},
     "output_type": "execute_result"
    }
   ],
   "source": [
    "# DB 내용 삽입하기\n",
    "cursor.execute(\"INSERT INTO std VALUES('전우성', 31, 'D')\") \n",
    "cursor.execute(\"INSERT INTO std VALUES('전지성', 33, 'B')\")\n",
    "cursor.execute(\"INSERT INTO std VALUES('전혜림', 32, 'C')\")"
   ]
  },
  {
   "cell_type": "code",
   "execution_count": 29,
   "metadata": {},
   "outputs": [],
   "source": [
    "conm.commit()"
   ]
  },
  {
   "cell_type": "code",
   "execution_count": 34,
   "metadata": {},
   "outputs": [],
   "source": [
    "cursor.execute(\"DELETE FROM std WHERE 이름 = '전혜림'\") # 테이블의 데이터인 이름이 '전혜림' 이라는 조건일때 삭제함.\n",
    "conm.commit() # 트랜잭션의 작업을 저장"
   ]
  },
  {
   "cell_type": "code",
   "execution_count": 37,
   "metadata": {},
   "outputs": [],
   "source": [
    "# UPDATE 테이블이름 SET 컬럼명 = '변경값' WHERE 조건\n",
    "cursor.execute(\"UPDATE std SET 성적 = 'A' WHERE 이름 = '박하선'\") # std 테이블에서 이름이 '박하선' 이면 성적을 'A'로 수정함.\n",
    "conm.commit()"
   ]
  },
  {
   "cell_type": "code",
   "execution_count": 45,
   "metadata": {},
   "outputs": [
    {
     "data": {
      "text/plain": [
       "<sqlite3.Cursor at 0x2a91d78cc40>"
      ]
     },
     "execution_count": 45,
     "metadata": {},
     "output_type": "execute_result"
    }
   ],
   "source": [
    "cursor.execute(\"SELECT * FROM std WHERE 성적 = 'A'\")"
   ]
  },
  {
   "cell_type": "code",
   "execution_count": 40,
   "metadata": {},
   "outputs": [],
   "source": [
    "conm.close() # 연결된 데이터베이스를 연결을 닫는다."
   ]
  },
  {
   "cell_type": "code",
   "execution_count": 59,
   "metadata": {},
   "outputs": [
    {
     "name": "stdout",
     "output_type": "stream",
     "text": [
      "[('박하선', 30, 'A'), ('전우성', 31, 'D'), ('전지성', 33, 'B')]\n",
      "('박하선', 30, 'A')\n",
      "A\n"
     ]
    }
   ],
   "source": [
    "import sqlite3\n",
    "sqlite3.version\n",
    "# connect // 데이터베이스 생성 함수\n",
    "conm = sqlite3.connect(\"C:\\\\Users\\\\Administrator\\\\Jupyter_noteBook\\\\studyDB\\\\ptest.db\") # 경로 설정 및 파일 생성\n",
    "type(conm) # 타입 출력\n",
    "cursor = conm.cursor() # 데이터 베이스 sql구문을 사용하기 위해 작성\n",
    "cursor.execute(\"SELECT * FROM std\")\n",
    "# fetchall\n",
    "data1 = cursor.fetchall()\n",
    "print(data1)\n",
    "# 튜플 형식으로 리스트로 저장됨.\n",
    "print(data1[0])\n",
    "print(data1[0][2])"
   ]
  },
  {
   "cell_type": "code",
   "execution_count": 64,
   "metadata": {},
   "outputs": [
    {
     "name": "stdout",
     "output_type": "stream",
     "text": [
      "튜플에서의 출력 방식입니다.\n",
      "전우성은 31살이며, 성적은 D이다.\n"
     ]
    }
   ],
   "source": [
    "print(\"튜플에서의 출력 방식입니다.\")\n",
    "print(\"{}은 {}살이며, 성적은 {}이다.\".format(data1[1][0], data1[1][1], data1[1][2]))"
   ]
  },
  {
   "cell_type": "code",
   "execution_count": 67,
   "metadata": {},
   "outputs": [
    {
     "name": "stdout",
     "output_type": "stream",
     "text": [
      "('박하선', 30, 'A')\n",
      "('전우성', 31, 'D')\n",
      "('전지성', 33, 'B')\n"
     ]
    }
   ],
   "source": [
    "for i in range(0, len(data1)):\n",
    "    print(data1[i])"
   ]
  },
  {
   "cell_type": "code",
   "execution_count": 69,
   "metadata": {},
   "outputs": [
    {
     "name": "stdout",
     "output_type": "stream",
     "text": [
      "('박하선', 30, 'A')\n",
      "('전우성', 31, 'D')\n",
      "('전지성', 33, 'B')\n"
     ]
    }
   ],
   "source": [
    "for i in data1:\n",
    "    print(i)"
   ]
  },
  {
   "cell_type": "code",
   "execution_count": 103,
   "metadata": {},
   "outputs": [
    {
     "name": "stdout",
     "output_type": "stream",
     "text": [
      "('전우성', 'D')\n",
      "('전지성', 'B')\n"
     ]
    }
   ],
   "source": [
    "cursor.execute(\"SELECT 이름, 성적 FROM std WHERE 나이 >=31\")\n",
    "data2 = cursor.fetchall()\n",
    "for i in data2:\n",
    "    print(i)"
   ]
  },
  {
   "cell_type": "code",
   "execution_count": 102,
   "metadata": {},
   "outputs": [
    {
     "name": "stdout",
     "output_type": "stream",
     "text": [
      "[('전우성', 31), ('전지성', 33)]\n",
      "[('전우성', 31)]\n",
      "('박하선', 'A')\n"
     ]
    }
   ],
   "source": [
    "cursor.execute(\"SELECT 이름, 나이 FROM std WHERE 이름 LIKE '전%'\") # 첫번째 글자로 \n",
    "data3 = cursor.fetchall()\n",
    "print(data3)\n",
    "\n",
    "cursor.execute(\"SELECT 이름, 나이 FROM std WHERE 이름 LIKE '%우%'\") # 가운데 사이로 \n",
    "data4 = cursor.fetchall()\n",
    "print(data4)\n",
    "\n",
    "cursor.execute(\"SELECT 이름, 성적 FROM std WHERE 이름 LIKE '박__'\") # 글자수 지정으로\n",
    "data5 = cursor.fetchall() # 튜플로 저장함.\n",
    "for i in data5 :\n",
    "    print(i)"
   ]
  },
  {
   "cell_type": "code",
   "execution_count": 105,
   "metadata": {},
   "outputs": [
    {
     "data": {
      "text/html": [
       "<div>\n",
       "<style scoped>\n",
       "    .dataframe tbody tr th:only-of-type {\n",
       "        vertical-align: middle;\n",
       "    }\n",
       "\n",
       "    .dataframe tbody tr th {\n",
       "        vertical-align: top;\n",
       "    }\n",
       "\n",
       "    .dataframe thead th {\n",
       "        text-align: right;\n",
       "    }\n",
       "</style>\n",
       "<table border=\"1\" class=\"dataframe\">\n",
       "  <thead>\n",
       "    <tr style=\"text-align: right;\">\n",
       "      <th></th>\n",
       "      <th>이름</th>\n",
       "      <th>나이</th>\n",
       "    </tr>\n",
       "  </thead>\n",
       "  <tbody>\n",
       "    <tr>\n",
       "      <th>0</th>\n",
       "      <td>전우성</td>\n",
       "      <td>31</td>\n",
       "    </tr>\n",
       "    <tr>\n",
       "      <th>1</th>\n",
       "      <td>전지성</td>\n",
       "      <td>33</td>\n",
       "    </tr>\n",
       "  </tbody>\n",
       "</table>\n",
       "</div>"
      ],
      "text/plain": [
       "    이름  나이\n",
       "0  전우성  31\n",
       "1  전지성  33"
      ]
     },
     "execution_count": 105,
     "metadata": {},
     "output_type": "execute_result"
    }
   ],
   "source": [
    "# pandas로 데이터 출력하기\n",
    "import pandas as pd\n",
    "cursor.execute(\"SELECT 이름, 나이 FROM std WHERE 이름 LIKE '전%'\") # 첫번째 글자로 \n",
    "data6 = cursor.fetchall()\n",
    "# 컬럼명을 가져오는 역할\n",
    "cols = [column[0] for column in cursor.description]\n",
    "# 테이터 프레임을 이용하여 출력하기\n",
    "df = pd.DataFrame.from_records(data=data6, columns=cols)\n",
    "# 테이터 프레임 출력\n",
    "df"
   ]
  }
 ],
 "metadata": {
  "interpreter": {
   "hash": "4e0b39fdc4f2df2992ef135d097972ec225e019845a073717c5b1bc8df292c8a"
  },
  "kernelspec": {
   "display_name": "Python 3.10.2 64-bit",
   "language": "python",
   "name": "python3"
  },
  "language_info": {
   "codemirror_mode": {
    "name": "ipython",
    "version": 3
   },
   "file_extension": ".py",
   "mimetype": "text/x-python",
   "name": "python",
   "nbconvert_exporter": "python",
   "pygments_lexer": "ipython3",
   "version": "3.10.2"
  },
  "orig_nbformat": 4
 },
 "nbformat": 4,
 "nbformat_minor": 2
}
