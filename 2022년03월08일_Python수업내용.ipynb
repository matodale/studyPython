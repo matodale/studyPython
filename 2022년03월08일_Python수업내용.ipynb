{
 "cells": [
  {
   "cell_type": "code",
   "execution_count": 1,
   "id": "6ee68c71",
   "metadata": {},
   "outputs": [],
   "source": [
    "# a,b,c=map(int, input().split(\":\")) \n",
    "# print(b)"
   ]
  },
  {
   "cell_type": "code",
   "execution_count": 2,
   "id": "bd8f6d51",
   "metadata": {},
   "outputs": [],
   "source": [
    "# a=input().split(\":\") # [23, 23, 23]으로 배열로 저장\n",
    "# print(a[1])"
   ]
  },
  {
   "cell_type": "code",
   "execution_count": 3,
   "id": "cbdf2c91",
   "metadata": {},
   "outputs": [],
   "source": [
    "# a,b=input().split()\n",
    "# c = a+b\n",
    "# print(c)"
   ]
  },
  {
   "cell_type": "markdown",
   "id": "9e02a019",
   "metadata": {},
   "source": [
    "## 리스트"
   ]
  },
  {
   "cell_type": "code",
   "execution_count": 4,
   "id": "53bb2aee",
   "metadata": {},
   "outputs": [
    {
     "name": "stdout",
     "output_type": "stream",
     "text": [
      "[2, 1, 5, 6, 7]\n"
     ]
    }
   ],
   "source": [
    "# 문제 : 리스트에 순서대로 2, 1, '오', 6, 7를 한번에 담아주세요. \n",
    "# 그리고 리스트 안에 있는 '오'를 정수 5로 변경해주세요.\n",
    "a = [2, 1, '오', 6, 7]\n",
    "# 리스트.index함수('값' 이 들어 있는 인덱스 번호를 저장함)\n",
    "s = a.index('오') \n",
    "a[s] = 5\n",
    "print(a)"
   ]
  },
  {
   "cell_type": "code",
   "execution_count": 5,
   "id": "f39789ee",
   "metadata": {},
   "outputs": [
    {
     "name": "stdout",
     "output_type": "stream",
     "text": [
      "3\n"
     ]
    }
   ],
   "source": [
    "# 리스트이름.index(값, 시작인덱스번호, 끝인덱스번호)\n",
    "# 시작과 끝 사이에 있는 값을 찾아 그 해당 값의 인덱스 번호를 정수로 표현\n",
    "a = [2, 1, '오', 1, 7]\n",
    "s = a.index(1, 2, 4)\n",
    "print(s)"
   ]
  },
  {
   "cell_type": "code",
   "execution_count": 6,
   "id": "06d3d3da",
   "metadata": {},
   "outputs": [
    {
     "name": "stdout",
     "output_type": "stream",
     "text": [
      "[2, 1, 1, 7]\n",
      "[2, 7]\n"
     ]
    }
   ],
   "source": [
    "# del 함수, remove 함수\n",
    "# del() , remove() // 리스트의 값 삭제\n",
    "# del 리스트이름[인덱스번호] 인덱스 번호로 해당 값을 삭제함.\n",
    "# 리스트이름.remove(값) 해당 값을 삭제함.\n",
    "a = [2, 1, '오', 1, 7]\n",
    "del a[2]\n",
    "print(a)\n",
    "a.remove(1)\n",
    "a.remove(1)\n",
    "print(a)"
   ]
  },
  {
   "cell_type": "code",
   "execution_count": 7,
   "id": "f7df2ed6",
   "metadata": {},
   "outputs": [
    {
     "name": "stdout",
     "output_type": "stream",
     "text": [
      "li 리스트 : [2, 1, '오', 6, 7]\n",
      "인덱스 2번째 값 삭제 : [2, 1, 6, 7]\n",
      "li 리스트 : [2, 1, '오', 6, 7]\n",
      "인덱스 2번째 값 삭제 : [2, 1, 6, 7]\n"
     ]
    }
   ],
   "source": [
    "# 문제 : 리스트에 순서대로 2, 1, '오', 6, 7를 한번에 담아주세요. \n",
    "# 그리고 리스트 안에 있는 '오'를 제거해주세요.\n",
    "li = [2, 1, '오', 6, 7]\n",
    "print(\"li 리스트 :\",li)\n",
    "del li[2] # 인덱스 2번째 값 삭제\n",
    "print(\"인덱스 2번째 값 삭제 :\",li)\n",
    "li.insert(2,'오') # 해당 값을  추가\n",
    "print(\"li 리스트 :\", li)\n",
    "li.remove('오') # '오' 값을 삭제\n",
    "print(\"인덱스 2번째 값 삭제 :\",li)"
   ]
  },
  {
   "cell_type": "code",
   "execution_count": 8,
   "id": "37cdbcf1",
   "metadata": {},
   "outputs": [
    {
     "name": "stdout",
     "output_type": "stream",
     "text": [
      "1\n"
     ]
    }
   ],
   "source": [
    "# 문제 : 리스트에 순서대로 '월', '화', '수', '목', '금'을 한번에 담아주세요. \n",
    "# '화'가 리스트 안에서 몇 번째 데이터 인지 알려주세요.\n",
    "li = ['월', '화', '수', '목', '금']\n",
    "s = li.index('화')\n",
    "print(s)"
   ]
  },
  {
   "cell_type": "code",
   "execution_count": 9,
   "id": "d0483530",
   "metadata": {},
   "outputs": [
    {
     "name": "stdout",
     "output_type": "stream",
     "text": [
      "True\n",
      "False\n",
      "있다.\n"
     ]
    }
   ],
   "source": [
    "# 문제 : 리스트에 순서대로 '월', '화', '수', '목', '금'을 한번에 담아주세요. \n",
    "# '화'가 리스트 안에 들어있는지 알려주세요.\n",
    "# in 연산자 True, False\n",
    "# not in 연산자 True, False\n",
    "li = ['월', '화', '수', '목', '금']\n",
    "print('화' in li)\n",
    "li = li+['토','일']\n",
    "print('토' not in li)\n",
    "\n",
    "if '화' in li:\n",
    "    print(\"있다.\")\n",
    "else :\n",
    "    print(\"없다.\")"
   ]
  },
  {
   "cell_type": "code",
   "execution_count": 10,
   "id": "2895d7c3",
   "metadata": {},
   "outputs": [
    {
     "name": "stdout",
     "output_type": "stream",
     "text": [
      "['월', '수', '목', '금']\n",
      "['월', '화', '수', '목', '금']\n"
     ]
    }
   ],
   "source": [
    "# 문제 : 리스트에 순서대로 '월', '화', '수', '목', '금'을 한번에 담아주세요. \n",
    "#'화'가 리스트 안에 있는지 if문으로 체크 후, 있다면 삭제해주세요.\n",
    "li = ['월', '화', '수', '목', '금']\n",
    "def ex1():\n",
    "    if '화' in li:\n",
    "        li.remove('화')\n",
    "        print(li)\n",
    "    else:\n",
    "        print(li)\n",
    "ex1()\n",
    "# 문제2 : 리스트에 순서대로 '월', '화', '수', '목', '금'을 한번에 담아주세요. \n",
    "#'토'가 리스트 안에 있는지 if문으로 체크 후, 있다면 삭제해주세요.\n",
    "li.insert(1, '화')\n",
    "def ex2():\n",
    "    if '토' not in li:\n",
    "        li.append('토')\n",
    "        li.remove('토')\n",
    "        print(li)\n",
    "    else:\n",
    "        del li[5]\n",
    "        print(li)\n",
    "ex2()"
   ]
  },
  {
   "cell_type": "code",
   "execution_count": 11,
   "id": "c65d796d",
   "metadata": {},
   "outputs": [
    {
     "name": "stdout",
     "output_type": "stream",
     "text": [
      "['월', '화', '수', '목']\n",
      "['월', '화', '수', '목']\n",
      "['월', '화', '수', '목']\n"
     ]
    }
   ],
   "source": [
    "# 문제 : 리스트에 순서대로 '월', '화', '수', '목', '금'을 한번에 담아주세요. \n",
    "# 리스트에 있는 '금'을 삭제하는 3가지 방법을 보여주세요.\n",
    "li = ['월', '화', '수', '목', '금']\n",
    "s = li.index('금')\n",
    "del li[s] # 삭제\n",
    "print(li)\n",
    "li.append('금')\n",
    "li.remove('금') # 삭제\n",
    "print(li)\n",
    "li.append('금')\n",
    "# if문으로 판단 하기\n",
    "if ('금' in li) == True :\n",
    "    li.remove('금')\n",
    "    print(li)\n",
    "else : \n",
    "    print(li)"
   ]
  },
  {
   "cell_type": "code",
   "execution_count": 13,
   "id": "6e71f278",
   "metadata": {},
   "outputs": [
    {
     "name": "stdout",
     "output_type": "stream",
     "text": [
      "['월', '화', '수', '목']\n"
     ]
    }
   ],
   "source": [
    "# 문제 : 리스트에 순서대로 '월', '화', '수', '목', '금'을 한번에 담아주세요. \n",
    "# 리스트에 있는 '금'을 안전하게 삭제하는 2가지 방법을 보여주세요.\n",
    "li = ['월', '화', '수', '목', '금']\n",
    "if '금' in li :\n",
    "    del li[li.index('금')]\n",
    "    print(li)\n",
    "elif '금' not in li:\n",
    "    li.appand('금')\n",
    "    print(li)\n",
    "else :\n",
    "    del li[li.index('금')]\n",
    "    # li.remove('금')\n",
    "    print(li)"
   ]
  },
  {
   "cell_type": "code",
   "execution_count": 17,
   "id": "cb6b4cd2",
   "metadata": {},
   "outputs": [
    {
     "name": "stdout",
     "output_type": "stream",
     "text": [
      "[1, 2, 4, 5, 7, 8, 9]\n",
      "[1, 2, 4, 5, 7, 8, 9]\n"
     ]
    }
   ],
   "source": [
    "a=[2,4,5,8,7,9,1]\n",
    "a.sort() # 오름차순으로 정렬\n",
    "print(a)\n",
    "a.sort(reverse=True)\n",
    "a.reverse() # 역순으로 정렬함\n",
    "print(a)"
   ]
  },
  {
   "cell_type": "code",
   "execution_count": 31,
   "id": "a2719181",
   "metadata": {},
   "outputs": [
    {
     "name": "stdout",
     "output_type": "stream",
     "text": [
      "== 정답 v1 ==\n",
      "== 담기 ==\n",
      "== 출력 ==\n",
      "[1, 2, 3, 4, 5, 6, 7, 8, 9, 10]\n",
      "== 정답 v2 ==\n",
      "== 담기 ==\n",
      "== 출력 ==\n",
      "[1, 2, 3, 4, 5, 6, 7, 8, 9, 10]\n",
      "== 정답 v3 ==\n",
      "== 담기 ==\n",
      "== 출력 ==\n",
      "[]\n"
     ]
    }
   ],
   "source": [
    "# 문제 : 1부터, 10까지 리스트로 묶어주세요\n",
    "# 조건 : 정답을 여러가지 버전으로 만들어주세요.\n",
    "\n",
    "def sol_v1():\n",
    "    print(\"== 담기 ==\")\n",
    "    # 구현\n",
    "    a = [1,2,3,4,5,6,7,8,9,10]            \n",
    "    print(\"== 출력 ==\")\n",
    "    # 구현\n",
    "    print(a)\n",
    "def sol_v2():\n",
    "    print(\"== 담기 ==\")\n",
    "    # 구현\n",
    "    a = []\n",
    "    i = 1\n",
    "    while i<=10:\n",
    "        a.append(i)\n",
    "        i+=1\n",
    "    print(\"== 출력 ==\")\n",
    "    # 구현\n",
    "    print(a)\n",
    "def sol_v3():\n",
    "    print(\"== 담기 ==\")\n",
    "    # 구현\n",
    "    a = []\n",
    "    i = 0\n",
    "    j = 1\n",
    "    \n",
    "    print(\"== 출력 ==\")\n",
    "    # 구현\n",
    "    print(a)\n",
    "print(\"== 정답 v1 ==\")\n",
    "sol_v1()\n",
    "print(\"== 정답 v2 ==\")\n",
    "sol_v2()\n",
    "print(\"== 정답 v3 ==\")\n",
    "sol_v3()"
   ]
  },
  {
   "cell_type": "code",
   "execution_count": 32,
   "id": "58b55896",
   "metadata": {},
   "outputs": [
    {
     "name": "stdout",
     "output_type": "stream",
     "text": [
      "\n",
      "여행을 간다면 어디로 가고 싶으신가요?\n",
      "번호를 입력해주세요.\n",
      "1. 서울 2. 부산 3. 대전 4. 제주도\n",
      "1\n",
      "1\n"
     ]
    }
   ],
   "source": [
    "menu = input('''\n",
    "여행을 간다면 어디로 가고 싶으신가요?\n",
    "번호를 입력해주세요.\n",
    "1. 서울 2. 부산 3. 대전 4. 제주도\n",
    "''')\n",
    "print(\"여행을 간다면 \"+ menu+\"로 가고 싶습니다.\")"
   ]
  },
  {
   "cell_type": "code",
   "execution_count": null,
   "id": "23a9c4eb",
   "metadata": {},
   "outputs": [],
   "source": []
  }
 ],
 "metadata": {
  "kernelspec": {
   "display_name": "Python 3 (ipykernel)",
   "language": "python",
   "name": "python3"
  },
  "language_info": {
   "codemirror_mode": {
    "name": "ipython",
    "version": 3
   },
   "file_extension": ".py",
   "mimetype": "text/x-python",
   "name": "python",
   "nbconvert_exporter": "python",
   "pygments_lexer": "ipython3",
   "version": "3.9.7"
  }
 },
 "nbformat": 4,
 "nbformat_minor": 5
}
