{
 "cells": [
  {
   "cell_type": "markdown",
   "id": "26a4da09",
   "metadata": {},
   "source": [
    "* for 변수 in 반복횟수 :\n",
    "    * 반복 실행할 문장1\n",
    "    * 반복 실행할 문장2  \n",
    "   \n",
    "* 반복 횟수에 들어갈 수 있는 것 : 리스트, 튜플, 문자열  \n",
    "\n",
    "* range(시작숫자, 종료숫자, 스탭)\n",
    "    * 리스트를 만들어주는 함수\n",
    "    * 시작 숫자랑 스텝부분은 생략이 가능\n",
    "    * 시작 숫자랑 기본설정은 0, 스텝 기본 설정은 1, 종료숫자 -1"
   ]
  },
  {
   "cell_type": "code",
   "execution_count": 3,
   "id": "38e496ec",
   "metadata": {},
   "outputs": [
    {
     "name": "stdout",
     "output_type": "stream",
     "text": [
      "8 * 1 = 8\n",
      "8 * 2 = 16\n",
      "8 * 3 = 24\n",
      "8 * 4 = 32\n",
      "8 * 5 = 40\n",
      "8 * 6 = 48\n",
      "8 * 7 = 56\n",
      "8 * 8 = 64\n",
      "8 * 9 = 72\n"
     ]
    }
   ],
   "source": [
    "# 문제 : for문으로 8단 구구단 출력하기\n",
    "for i in range(1, 10):\n",
    "    x = 8\n",
    "    print(x,\"*\",i,\"=\",(x*i))"
   ]
  },
  {
   "cell_type": "code",
   "execution_count": 11,
   "id": "7aaec595",
   "metadata": {},
   "outputs": [
    {
     "name": "stdout",
     "output_type": "stream",
     "text": [
      "출력할 구구단을 숫자로 적어주세요 :2\n",
      "2*1=2\n",
      "2*2=4\n",
      "2*3=6\n",
      "2*4=8\n",
      "2*5=10\n",
      "2*6=12\n",
      "2*7=14\n",
      "2*8=16\n",
      "2*9=18\n"
     ]
    }
   ],
   "source": [
    "# 문제 : 함수를 이용하여 입력 받는 구구단 출력하기\n",
    "def fn(x):\n",
    "    for i in range(1, 10):\n",
    "        # print(x,\"*\",i,\"=\",(x*i))\n",
    "        print(\"{}*{}={}\".format(x, i, x*i))\n",
    "a = input(\"출력할 구구단을 숫자로 적어주세요 :\")\n",
    "fn(int(a))"
   ]
  },
  {
   "cell_type": "code",
   "execution_count": 17,
   "id": "99296db0",
   "metadata": {},
   "outputs": [
    {
     "name": "stdout",
     "output_type": "stream",
     "text": [
      "=== 1 단 ===\n",
      "1*1=1\n",
      "1*2=2\n",
      "1*3=3\n",
      "1*4=4\n",
      "1*5=5\n",
      "1*6=6\n",
      "1*7=7\n",
      "1*8=8\n",
      "1*9=9\n",
      "============\n",
      "=== 2 단 ===\n",
      "2*1=2\n",
      "2*2=4\n",
      "2*3=6\n",
      "2*4=8\n",
      "2*5=10\n",
      "2*6=12\n",
      "2*7=14\n",
      "2*8=16\n",
      "2*9=18\n",
      "============\n",
      "=== 3 단 ===\n",
      "3*1=3\n",
      "3*2=6\n",
      "3*3=9\n",
      "3*4=12\n",
      "3*5=15\n",
      "3*6=18\n",
      "3*7=21\n",
      "3*8=24\n",
      "3*9=27\n",
      "============\n",
      "=== 4 단 ===\n",
      "4*1=4\n",
      "4*2=8\n",
      "4*3=12\n",
      "4*4=16\n",
      "4*5=20\n",
      "4*6=24\n",
      "4*7=28\n",
      "4*8=32\n",
      "4*9=36\n",
      "============\n",
      "=== 5 단 ===\n",
      "5*1=5\n",
      "5*2=10\n",
      "5*3=15\n",
      "5*4=20\n",
      "5*5=25\n",
      "5*6=30\n",
      "5*7=35\n",
      "5*8=40\n",
      "5*9=45\n",
      "============\n",
      "=== 6 단 ===\n",
      "6*1=6\n",
      "6*2=12\n",
      "6*3=18\n",
      "6*4=24\n",
      "6*5=30\n",
      "6*6=36\n",
      "6*7=42\n",
      "6*8=48\n",
      "6*9=54\n",
      "============\n",
      "=== 7 단 ===\n",
      "7*1=7\n",
      "7*2=14\n",
      "7*3=21\n",
      "7*4=28\n",
      "7*5=35\n",
      "7*6=42\n",
      "7*7=49\n",
      "7*8=56\n",
      "7*9=63\n",
      "============\n",
      "=== 8 단 ===\n",
      "8*1=8\n",
      "8*2=16\n",
      "8*3=24\n",
      "8*4=32\n",
      "8*5=40\n",
      "8*6=48\n",
      "8*7=56\n",
      "8*8=64\n",
      "8*9=72\n",
      "============\n",
      "=== 9 단 ===\n",
      "9*1=9\n",
      "9*2=18\n",
      "9*3=27\n",
      "9*4=36\n",
      "9*5=45\n",
      "9*6=54\n",
      "9*7=63\n",
      "9*8=72\n",
      "9*9=81\n",
      "============\n"
     ]
    }
   ],
   "source": [
    "# 문제 : 1단 ~ 9단 까지 출력하시오\n",
    "for i in range(1, 10):\n",
    "    print(\"===\",i,\"단\",\"===\")\n",
    "    for j in range(1, 10):\n",
    "        print(\"{}*{}={}\".format(i,j,i*j))\n",
    "    print(\"============\")"
   ]
  },
  {
   "cell_type": "code",
   "execution_count": 27,
   "id": "c7c9db55",
   "metadata": {},
   "outputs": [
    {
     "name": "stdout",
     "output_type": "stream",
     "text": [
      "2 1 5 6 7 "
     ]
    }
   ],
   "source": [
    "# 문제 : 리스트에 2, 1, 5, 6, 7를 담고, for문으로 요소 전부 출력하시오\n",
    "li = [2, 1, 5, 6, 7]\n",
    "for i in li:\n",
    "    print(i, end=' ')"
   ]
  },
  {
   "cell_type": "markdown",
   "id": "a2150302",
   "metadata": {},
   "source": [
    "len(리스트이름)"
   ]
  },
  {
   "cell_type": "code",
   "execution_count": 43,
   "id": "563d936e",
   "metadata": {},
   "outputs": [
    {
     "name": "stdout",
     "output_type": "stream",
     "text": [
      "2 1 5 6 7 \n",
      "[2, 1, 5, 6, 7]\n"
     ]
    }
   ],
   "source": [
    "# 문제 : 리스트에 2, 1, 5 ,6, 7를 담고, for문으로 요소를 전부 출력하시오. len()을 이용하시오.\n",
    "li = [2, 1, 5, 6, 7]\n",
    "j = len(li)\n",
    "st = []\n",
    "for i in range(0, j):\n",
    "    print(li[i], end=' ')\n",
    "    st.append(li[i])\n",
    "print()\n",
    "print(st)"
   ]
  },
  {
   "cell_type": "code",
   "execution_count": 52,
   "id": "5d6766b4",
   "metadata": {},
   "outputs": [
    {
     "name": "stdout",
     "output_type": "stream",
     "text": [
      "7 6 5 1 2 \n",
      "[7, 6, 5, 1, 2]\n"
     ]
    }
   ],
   "source": [
    "li = [2, 1, 5, 6, 7]\n",
    "# len()함수를 이용해 배열 객체 수를 j에 저장\n",
    "j = len(li)\n",
    "# 비어 있는 배열 변수 선언\n",
    "st = [] \n",
    "for i in range(j, 0, -1):\n",
    "    print(li[i-1], end=' ') # 역순으로 출력\n",
    "    st.append(li[i-1])\n",
    "print()\n",
    "print(st) # 역순으로 리스트 함수 만들기"
   ]
  },
  {
   "cell_type": "code",
   "execution_count": 54,
   "id": "1f0153ee",
   "metadata": {},
   "outputs": [
    {
     "name": "stdout",
     "output_type": "stream",
     "text": [
      "1월은 31일까지 입니다.\n",
      "2월은 28일까지 입니다.\n",
      "3월은 31일까지 입니다.\n",
      "4월은 30일까지 입니다.\n",
      "5월은 31일까지 입니다.\n",
      "6월은 30일까지 입니다.\n",
      "7월은 31일까지 입니다.\n",
      "8월은 31일까지 입니다.\n",
      "9월은 30일까지 입니다.\n",
      "10월은 31일까지 입니다.\n",
      "11월은 30일까지 입니다.\n",
      "12월은 31일까지 입니다.\n"
     ]
    }
   ],
   "source": [
    "# 문제 : 리스트에 각 달의 끝 날짜들을 담고, '1월은 31까지' 와 같은 양식으로 출력 (len 사용)\n",
    "end_days = [31, 28, 31, 30, 31, 30 , 31, 31, 30, 31, 30, 31]\n",
    "# 0 1 2 3 4 5 6 7 8 9 10 11 12\n",
    "for i in range(len(end_days)):\n",
    "    print(\"{}월은 {}일까지 입니다.\".format(i+1, end_days[i]))"
   ]
  },
  {
   "cell_type": "markdown",
   "id": "770ece54",
   "metadata": {},
   "source": [
    "## enumerate() 함수\n",
    "* enumerate(리스트이름)"
   ]
  },
  {
   "cell_type": "code",
   "execution_count": 55,
   "id": "efe367ba",
   "metadata": {},
   "outputs": [
    {
     "name": "stdout",
     "output_type": "stream",
     "text": [
      "(0, 31)\n",
      "(1, 1)\n",
      "(2, 3)\n"
     ]
    }
   ],
   "source": [
    "for i in enumerate([31, 1, 3]):\n",
    "    print(i)\n",
    "# 튜플 처럼 출력"
   ]
  },
  {
   "cell_type": "code",
   "execution_count": 58,
   "id": "3cbc9b4f",
   "metadata": {},
   "outputs": [
    {
     "name": "stdout",
     "output_type": "stream",
     "text": [
      "0 31\n",
      "1 1\n",
      "2 3\n"
     ]
    }
   ],
   "source": [
    "for i, j in enumerate([31, 1, 3]):\n",
    "    print(i, j)\n",
    "# 각 변수로 활용 가능"
   ]
  },
  {
   "cell_type": "code",
   "execution_count": 61,
   "id": "c46e3996",
   "metadata": {},
   "outputs": [
    {
     "name": "stdout",
     "output_type": "stream",
     "text": [
      "1월은 31일 까지 입니다.\n",
      "2월은 28일 까지 입니다.\n",
      "3월은 31일 까지 입니다.\n",
      "4월은 30일 까지 입니다.\n",
      "5월은 31일 까지 입니다.\n",
      "6월은 30일 까지 입니다.\n",
      "7월은 31일 까지 입니다.\n",
      "8월은 31일 까지 입니다.\n",
      "9월은 30일 까지 입니다.\n",
      "10월은 31일 까지 입니다.\n",
      "11월은 30일 까지 입니다.\n",
      "12월은 31일 까지 입니다.\n"
     ]
    }
   ],
   "source": [
    "# 문제 : 리스트에 각 달의 끝 날짜들을 담고, '1월 은 31일 까지 입니다.' enumerate() 함수를 쓰시오.\n",
    "end_days = [31, 28, 31, 30, 31, 30 , 31, 31, 30, 31, 30, 31]\n",
    "# 0 1 2 3 4 5 6 7 8 9 10 11 12\n",
    "for i, j in enumerate(end_days, start=1):\n",
    "    print(\"{}월은 {}일 까지 입니다.\".format(i, j))        "
   ]
  },
  {
   "cell_type": "code",
   "execution_count": 107,
   "id": "65a43d7c",
   "metadata": {},
   "outputs": [
    {
     "name": "stdout",
     "output_type": "stream",
     "text": [
      "== 예제 1 ==\n",
      "s의 길이 출력\n",
      "6\n",
      "s를 이루는 문자 중에서 앞에꺼, 2개 출력\n",
      "안녕\n",
      "s를 이루는 문자 중에서 앞에서 문자 하나 건너 뛰고 1개 출력\n",
      "녕\n",
      "s를 이루는 문자 중에서 앞에서 문자 4개 출력, 첫 인덱스 생략\n",
      "안녕하세\n",
      "s를 이루는 문자 중에서 앞에서 문자 3개 건너뛰고, 나머지 전부 출력, len\n",
      "세요.\n",
      "s를 이루는 문자 중에서 앞에서 문자 3개 건너뛰고, 나머지 전부 출력, 뒤 인덱스 생략, 방법 2\n",
      "세요.\n",
      "== 예제 2 ==\n",
      "s를 이루는 문자를 하나씩 출력, while\n",
      "안\n",
      "녕\n",
      "하\n",
      "세\n",
      "요\n",
      "s를 이루는 문자를 역순으로 하나씩 출력, while\n",
      "요\n",
      "세\n",
      "하\n",
      "녕\n",
      "안\n",
      "s를 이루는 문자를 하나씩 출력, for\n",
      "안\n",
      "녕\n",
      "하\n",
      "세\n",
      "요\n",
      "== 예제 3 ==\n",
      "s를 이루는 문자 중에서 한글만 출력\n",
      "안\n",
      "녕\n",
      "하\n",
      "세\n",
      "요\n",
      "s를 이루는 문자 중에서 한글만 출력, for, if or, continue\n",
      "안\n",
      "녕\n",
      "하\n",
      "세\n",
      "요\n",
      "s를 이루는 문자 중에서 한글만 출력, for, if and, 방법 2\n",
      "안\n",
      "녕\n",
      "하\n",
      "세\n",
      "요\n",
      "s를 이루는 문자 중에서 한글만 출력, for, not in, 방법 3\n",
      "안\n",
      "녕\n",
      "하\n",
      "세\n",
      "요\n"
     ]
    }
   ],
   "source": [
    "print(\"== 예제 1 ==\")\n",
    "s = \"안녕하세요.\"\n",
    "\n",
    "print(\"s의 길이 출력\")\n",
    "# 구현\n",
    "print(len(s))\n",
    "\n",
    "print(\"s를 이루는 문자 중에서 앞에꺼, 2개 출력\")\n",
    "# 구현\n",
    "print(s[:2])\n",
    "\n",
    "print(\"s를 이루는 문자 중에서 앞에서 문자 하나 건너 뛰고 1개 출력\")\n",
    "# 구현\n",
    "print(s[1:2])\n",
    "\n",
    "print(\"s를 이루는 문자 중에서 앞에서 문자 4개 출력, 첫 인덱스 생략\")\n",
    "# 구현\n",
    "print(s[:4])\n",
    "\n",
    "print(\"s를 이루는 문자 중에서 앞에서 문자 3개 건너뛰고, 나머지 전부 출력, len\")\n",
    "# 구현\n",
    "print(s[3:len(s)])\n",
    "\n",
    "print(\"s를 이루는 문자 중에서 앞에서 문자 3개 건너뛰고, 나머지 전부 출력, 뒤 인덱스 생략, 방법 2\")\n",
    "# 구현\n",
    "print(s[-3:])\n",
    "\n",
    "print(\"== 예제 2 ==\")\n",
    "s = \"안녕하세요\"\n",
    "\n",
    "print(\"s를 이루는 문자를 하나씩 출력, while\")\n",
    "# 구현\n",
    "i = 0\n",
    "j = len(s)\n",
    "while i < j:\n",
    "    print(s[i])\n",
    "    i+=1\n",
    "\n",
    "print(\"s를 이루는 문자를 역순으로 하나씩 출력, while\")\n",
    "# 구현\n",
    "i = 0\n",
    "while j > i : \n",
    "    print(s[j-1])\n",
    "    j-=1\n",
    "    \n",
    "print(\"s를 이루는 문자를 하나씩 출력, for\")\n",
    "# 구현\n",
    "i = 0\n",
    "j = len(s)\n",
    "for i in range(i,j):\n",
    "    print(s[i])\n",
    "\n",
    "print(\"== 예제 3 ==\")\n",
    "s = \"a안b녕c하d세e요f\" \n",
    "# 0 1 2 3 4 5 6 7 8 9 10\n",
    "\n",
    "\n",
    "print(\"s를 이루는 문자 중에서 한글만 출력\")\n",
    "# 구현\n",
    "i = 0\n",
    "j = len(s)\n",
    "for i in range(i , j):\n",
    "    if i%2 == 1: \n",
    "        print(s[i])\n",
    "    \n",
    "print(\"s를 이루는 문자 중에서 한글만 출력, for, if or, continue\")\n",
    "# 구현\n",
    "i = 0\n",
    "j = len(s)\n",
    "for i in range(i , j):\n",
    "    if i%2 == 1 or i%2==0: \n",
    "            if i%2 == 0:\n",
    "                continue\n",
    "            print(s[i])\n",
    "        \n",
    "print(\"s를 이루는 문자 중에서 한글만 출력, for, if and, 방법 2\")\n",
    "# 구현\n",
    "i = 0\n",
    "j = len(s)\n",
    "for i in range(i , j):\n",
    "    if i%2 == 1 and i != 10: \n",
    "        print(s[i])\n",
    "\n",
    "print(\"s를 이루는 문자 중에서 한글만 출력, for, not in, 방법 3\")\n",
    "# 구현\n",
    "i = 0\n",
    "j = len(s)\n",
    "for i in s:\n",
    "    if i not in ['a', 'b', 'c', 'd', 'e', 'f'] : \n",
    "        print(i)\n"
   ]
  }
 ],
 "metadata": {
  "kernelspec": {
   "display_name": "Python 3 (ipykernel)",
   "language": "python",
   "name": "python3"
  },
  "language_info": {
   "codemirror_mode": {
    "name": "ipython",
    "version": 3
   },
   "file_extension": ".py",
   "mimetype": "text/x-python",
   "name": "python",
   "nbconvert_exporter": "python",
   "pygments_lexer": "ipython3",
   "version": "3.9.7"
  }
 },
 "nbformat": 4,
 "nbformat_minor": 5
}
