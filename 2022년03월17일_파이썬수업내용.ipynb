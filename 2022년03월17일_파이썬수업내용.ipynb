{
 "cells": [
  {
   "cell_type": "markdown",
   "metadata": {},
   "source": [
    "### 영문자 1개를 입력받아 10진수 유니코드(Unicode) 값으로 출력해보자.\n",
    "\n",
    "예시\n",
    "\n",
    "n = ord(input())\n",
    "\n",
    "print(n)\n",
    "\n",
    "참고\n",
    "n = ord(input())  #입력받은 문자를 10진수 유니코드 값으로 변환한 후, n에 저장한다.\n",
    "\n",
    "ord( ) 는 어떤 문자의 순서 위치(ordinal position) 값을 의미한다.  \n",
    "\n",
    "실제로 각각의 문자들에는 연속된 정수 값이 순서에 따라 부여 되어 있다. A:65, B:66, C:67 .... \n",
    "\n",
    "ord(c) : 문자 c 를 10진수로 변환한 값 \n",
    "\n",
    "컴퓨터로 저장되고 처리되는 모든 데이터들은 2진수 형태로 정수화 되어야 하는데,\n",
    "\n",
    "컴퓨터에 문자를 저장하는 방법으로 아스키코드(ASCII Code)나 유니코드(Unicode)가 자주 사용된다.\n",
    "\n",
    "예를 들어, 영문 대문자 'A'는 10진수 값 65 로 표현하고, \n",
    "\n",
    "2진수(binary digit) 값 1000001 로 바꾸어 컴퓨터 내부에 저장한다. \n",
    "\n",
    "유니코드(unicode)는 세계 여러 나라의 문자를 공통된 코드 값으로 저장할 때 사용하는 표준 코드이다."
   ]
  },
  {
   "cell_type": "code",
   "execution_count": 42,
   "metadata": {},
   "outputs": [
    {
     "ename": "TypeError",
     "evalue": "ord() expected a character, but string of length 0 found",
     "output_type": "error",
     "traceback": [
      "\u001b[1;31m---------------------------------------------------------------------------\u001b[0m",
      "\u001b[1;31mTypeError\u001b[0m                                 Traceback (most recent call last)",
      "\u001b[1;32mc:\\Users\\Administrator\\Jupyter_noteBook\\studyPython\\2022년03월17일_파이썬수업내용.ipynb Cell 2'\u001b[0m in \u001b[0;36m<cell line: 1>\u001b[1;34m()\u001b[0m\n\u001b[1;32m----> <a href='vscode-notebook-cell:/c%3A/Users/Administrator/Jupyter_noteBook/studyPython/2022%EB%85%8403%EC%9B%9417%EC%9D%BC_%ED%8C%8C%EC%9D%B4%EC%8D%AC%EC%88%98%EC%97%85%EB%82%B4%EC%9A%A9.ipynb#ch0000008?line=0'>1</a>\u001b[0m n \u001b[39m=\u001b[39m \u001b[39mord\u001b[39;49m(\u001b[39minput\u001b[39;49m())\n\u001b[0;32m      <a href='vscode-notebook-cell:/c%3A/Users/Administrator/Jupyter_noteBook/studyPython/2022%EB%85%8403%EC%9B%9417%EC%9D%BC_%ED%8C%8C%EC%9D%B4%EC%8D%AC%EC%88%98%EC%97%85%EB%82%B4%EC%9A%A9.ipynb#ch0000008?line=1'>2</a>\u001b[0m \u001b[39mprint\u001b[39m(n)\n",
      "\u001b[1;31mTypeError\u001b[0m: ord() expected a character, but string of length 0 found"
     ]
    }
   ],
   "source": [
    "n = ord(input())\n",
    "print(n)"
   ]
  },
  {
   "cell_type": "code",
   "execution_count": null,
   "metadata": {},
   "outputs": [
    {
     "name": "stdout",
     "output_type": "stream",
     "text": [
      "A\n"
     ]
    }
   ],
   "source": [
    "c = int(input())\n",
    "print(chr(c))"
   ]
  },
  {
   "cell_type": "code",
   "execution_count": null,
   "metadata": {},
   "outputs": [
    {
     "name": "stdout",
     "output_type": "stream",
     "text": [
      "1\n"
     ]
    }
   ],
   "source": [
    "d = int(input())\n",
    "print(int(-d))"
   ]
  },
  {
   "cell_type": "code",
   "execution_count": null,
   "metadata": {},
   "outputs": [
    {
     "name": "stdout",
     "output_type": "stream",
     "text": [
      "b\n"
     ]
    }
   ],
   "source": [
    "n = ord(input())\n",
    "print(chr(n+1))"
   ]
  },
  {
   "cell_type": "code",
   "execution_count": null,
   "metadata": {},
   "outputs": [
    {
     "name": "stdout",
     "output_type": "stream",
     "text": [
      "246\n"
     ]
    }
   ],
   "source": [
    "a= input().split()\n",
    "arr = []\n",
    "arr = a\n",
    "n = int(arr[0]) - int(arr[1])\n",
    "print(int(n)) \n"
   ]
  },
  {
   "cell_type": "code",
   "execution_count": null,
   "metadata": {},
   "outputs": [
    {
     "name": "stdout",
     "output_type": "stream",
     "text": [
      "1월은 31\n",
      "2월은 28\n",
      "3월은 31\n",
      "4월은 30\n",
      "5월은 31\n",
      "6월은 30\n",
      "7월은 31\n",
      "8월은 31\n",
      "9월은 30\n",
      "10월은 31\n",
      "11월은 30\n",
      "12월은 31\n"
     ]
    }
   ],
   "source": [
    "# 문제 : 딕셔너리에 각 달의 마지막 날들을 한번에 담고, keys()로 key, value 순회출력\n",
    "month = {}\n",
    "month_list = [31,28,31,30,31,30,31,31,30,31,30,31]\n",
    "for i, j in enumerate(month_list):\n",
    "    month_day = str(i+1) +\"월\"\n",
    "    month[month_day] = j\n",
    "for x in month.keys():\n",
    "    print(x, end='은 ')\n",
    "    print(month[x])\n"
   ]
  },
  {
   "cell_type": "code",
   "execution_count": null,
   "metadata": {},
   "outputs": [
    {
     "name": "stdout",
     "output_type": "stream",
     "text": [
      "1월은 31까지 있습니다.\n",
      "2월은 28까지 있습니다.\n",
      "3월은 31까지 있습니다.\n"
     ]
    }
   ],
   "source": [
    "month_end_days = {}\n",
    "month_end_days[\"1월\"] = 31\n",
    "month_end_days[\"2월\"] = 28\n",
    "month_end_days[\"3월\"] = 31\n",
    "\n",
    "for month in month_end_days.keys():\n",
    "    end_day = month_end_days[month]\n",
    "    print(month + \"은 \" + str(end_day) + \"까지 있습니다.\")\n"
   ]
  },
  {
   "cell_type": "markdown",
   "metadata": {},
   "source": [
    "딕셔너리이름.values() : 해당 키의 값을 가져옴."
   ]
  },
  {
   "cell_type": "code",
   "execution_count": 46,
   "metadata": {},
   "outputs": [
    {
     "name": "stdout",
     "output_type": "stream",
     "text": [
      "31\n",
      "28\n",
      "31\n"
     ]
    }
   ],
   "source": [
    "# 문제 : 딕셔너리에 각 달의 마지막 날들을 한번에 담고, values()로 value 순회출력\n",
    "month_end_days = {}\n",
    "month_end_days[\"1월\"] = 31\n",
    "month_end_days[\"2월\"] = 28\n",
    "month_end_days[\"3월\"] = 31\n",
    "\n",
    "for month in month_end_days.values():\n",
    "    print(month)"
   ]
  },
  {
   "cell_type": "markdown",
   "metadata": {},
   "source": [
    " 딕셔너리이름.items() : "
   ]
  },
  {
   "cell_type": "code",
   "execution_count": 47,
   "metadata": {},
   "outputs": [
    {
     "name": "stdout",
     "output_type": "stream",
     "text": [
      "('1월', 31)\n",
      "('2월', 28)\n",
      "('3월', 31)\n"
     ]
    }
   ],
   "source": [
    "# 문제 : 딕셔너리에 각 달의 마지막 날들을 한번에 담고, items()로 key, value 순회출력\n",
    "month_end_days = {}\n",
    "month_end_days[\"1월\"] = 31\n",
    "month_end_days[\"2월\"] = 28\n",
    "month_end_days[\"3월\"] = 31\n",
    "# 튜플로 출력이 가능.\n",
    "for month in month_end_days.items(): \n",
    "    print(month)"
   ]
  },
  {
   "cell_type": "code",
   "execution_count": 74,
   "metadata": {},
   "outputs": [
    {
     "name": "stdout",
     "output_type": "stream",
     "text": [
      "{'1월': 31, '2월': 28}\n"
     ]
    }
   ],
   "source": [
    "# (문제) 딕셔너리에 각 달의 마지막 날들을 한번에 담고, 3월 정보를 제거\n",
    "month_end_days = {}\n",
    "month_end_days[\"1월\"] = 31\n",
    "month_end_days[\"2월\"] = 28\n",
    "month_end_days[\"3월\"] = 31\n",
    "del month_end_days[\"3월\"] # del 딕셔너리이름[\"키값\"] : 해당 키값의 내용을 제거\n",
    "print(month_end_days)"
   ]
  },
  {
   "cell_type": "code",
   "execution_count": 79,
   "metadata": {},
   "outputs": [
    {
     "name": "stdout",
     "output_type": "stream",
     "text": [
      "29\n"
     ]
    }
   ],
   "source": [
    "# 문제 : 딕셔너리에 각 달의 마지막 날들을 한번에 담고, 2월을 29일로 수정\n",
    "month_end_days = {}\n",
    "month_end_days[\"1월\"] = 31\n",
    "month_end_days[\"2월\"] = 28\n",
    "month_end_days[\"3월\"] = 31\n",
    "\n",
    "month_end_days[\"2월\"] = 29\n",
    "print(month_end_days[\"2월\"])"
   ]
  },
  {
   "cell_type": "code",
   "execution_count": 83,
   "metadata": {},
   "outputs": [
    {
     "name": "stdout",
     "output_type": "stream",
     "text": [
      "{'a': 1, 'b': 3, 'c': 3, 'd': 4}\n"
     ]
    }
   ],
   "source": [
    "# 딕셔너리이름1.update(딕셔너리이름2)\n",
    "m1 = {\"a\" : 1, \"b\" : 2}\n",
    "m2 = {\"b\" : 3 ,\"c\" : 3, \"d\" : 4} # 키값 중복은 수정이 된다. 또한 추가는 뒤로 된다.\n",
    "m1.update(m2)\n",
    "print(m1)"
   ]
  },
  {
   "cell_type": "code",
   "execution_count": 95,
   "metadata": {},
   "outputs": [
    {
     "name": "stdout",
     "output_type": "stream",
     "text": [
      "{'1월': 31, '2월': 29, '3월': 31, '4월': 30, '5월': 31}\n",
      "('1월', 31)\n",
      "('2월', 29)\n",
      "('3월', 31)\n",
      "('4월', 30)\n",
      "('5월', 31)\n"
     ]
    }
   ],
   "source": [
    "# 문제 : 딕셔너리에 각 달의 마지막 날들을 한번에 담고, update를 이용하여, 2월을 29일로 수정하고 4월, 5월의 정보도 추가\n",
    "month_end_days = {}\n",
    "month_end_days[\"1월\"] = 31\n",
    "month_end_days[\"2월\"] = 28\n",
    "month_end_days[\"3월\"] = 31\n",
    "month_end_days.update({\"2월\" : 29, \"4월\" : 30, \"5월\" : 31})\n",
    "print(month_end_days)\n"
   ]
  },
  {
   "cell_type": "code",
   "execution_count": 102,
   "metadata": {},
   "outputs": [
    {
     "name": "stdout",
     "output_type": "stream",
     "text": [
      "{'영수': 11, '영희': 12, '철수': 13, '민수': 14}\n",
      "영수의 나이는 11살 입니다.\n",
      "영희의 나이는 12살 입니다.\n",
      "철수의 나이는 13살 입니다.\n",
      "민수의 나이는 14살 입니다.\n"
     ]
    }
   ],
   "source": [
    "# 문제 : 영수, 영희, 철수, 민수의 나이를 딕셔너리에 담기\n",
    "# 조건 : 가장 효율적인 데이터구조를 유지해주시면 됩니다.\n",
    "# 변수명을 명확하고 간결하게 지어주시면 됩니다.\n",
    "# 영수 : 11살, 영희 : 12살, 철수 : 13살, \n",
    "# 민수 : 14살\n",
    "# 15살 희수가 있었으나 전학을 갔다. 기록을 삭제해주세요\n",
    "# 데이터를 넣은 순서대로 순회 출력해주세요.\n",
    "student_age = {}\n",
    "student_age.update({\"영수\" : 11 , \"영희\" : 12, \"철수\" : 13, \"민수\": 14, \"희수\" : 15})\n",
    "del student_age[\"희수\"]\n",
    "print(student_age)\n",
    "for i,j in student_age.items():\n",
    "    print(i+\"의 나이는 \"+ str(j) + \"살 입니다.\")"
   ]
  },
  {
   "cell_type": "code",
   "execution_count": 103,
   "metadata": {},
   "outputs": [
    {
     "name": "stdout",
     "output_type": "stream",
     "text": [
      "1\n",
      "3\n",
      "16\n",
      "7\n",
      "11\n",
      "200\n"
     ]
    }
   ],
   "source": [
    "# 리스트에서 가장 작은 값을 구해주는 함수를 만들어주세요.\n",
    "def get_min_number_in_list(li) :\n",
    "    min_num = li[0] # 초기값\n",
    "\n",
    "    for num in li : # li 해당 값을 가짐\n",
    "        if min_num > num :\n",
    "            min_num = num\n",
    "    return min_num\n",
    "    \n",
    "\n",
    "\n",
    "# 리스트에서 가장 큰 값을 구해주는 함수를 만들어주세요.\n",
    "def get_max_number_in_list(li) :\n",
    "    min_num = li[0]\n",
    "\n",
    "    for num in li :\n",
    "        if min_num < num :\n",
    "            min_num = num\n",
    "    return min_num\n",
    "    \n",
    "\n",
    "\n",
    "# 실험 대상이 될 3개의 리스트.\n",
    "list1 = [6,1,2,5,7,3]\n",
    "list2 = [7,11,3,5,9,5]\n",
    "list3 = [16,21,200,57,17,32] \n",
    "\n",
    "\n",
    "# 각 리스트를 함수에 넣어서 결과를 본다.\n",
    "\n",
    "rst = get_min_number_in_list(list1)\n",
    "print(rst) # 출력 : 최소값 : 1\n",
    "\n",
    "rst = get_min_number_in_list(list2)\n",
    "print(rst) # 출력 : 최소값 : 3\n",
    "\n",
    "rst = get_min_number_in_list(list3) \n",
    "print(rst) # 출력 : 최소값 : 16\n",
    "\n",
    "rst = get_max_number_in_list(list1)\n",
    "print(rst) # 출력 : 최대값 : 7\n",
    "\n",
    "rst = get_max_number_in_list(list2)\n",
    "print(rst) # 출력 : 최대값 : 11\n",
    "\n",
    "rst = get_max_number_in_list(list3) \n",
    "print(rst) # 출력 : 최대값 : 200"
   ]
  },
  {
   "cell_type": "markdown",
   "metadata": {},
   "source": [
    "### 클래스 Class\n",
    "class 클래스이름 :   \n",
    "    데이터 속성 : 타입\n",
    "    데이터를 이용한 함수\n",
    "    \n",
    "* 클래스의 이름은 대문자로 시작함.\n",
    "* 특수문자나 숫자로 시작할 수 없다."
   ]
  },
  {
   "cell_type": "code",
   "execution_count": 116,
   "metadata": {},
   "outputs": [
    {
     "name": "stdout",
     "output_type": "stream",
     "text": [
      "안녕하세요 저는 24살 홍길순입니다.\n",
      "안녕하세요 저는 23살 홍길동입니다.\n"
     ]
    }
   ],
   "source": [
    "class Person :\n",
    "    age = 0\n",
    "    name = \"\"\n",
    "    def introduce(self, a, b):\n",
    "        print(\"안녕하세요 저는 {}살 {}입니다.\".format(self.age,self.name))\n",
    "        print(\"안녕하세요 저는 {}살 {}입니다.\".format(a,b))\n",
    "\n",
    "p1 = Person()\n",
    "p1.age = 24\n",
    "p1.name = \"홍길순\"\n",
    "p1.introduce(23, \"홍길동\")"
   ]
  },
  {
   "cell_type": "code",
   "execution_count": 117,
   "metadata": {},
   "outputs": [
    {
     "name": "stdout",
     "output_type": "stream",
     "text": [
      "자동차가 달립니다.\n"
     ]
    }
   ],
   "source": [
    "# 문제 : 자동차가 3번 달리게 해주세요.\n",
    "# 출력 : 자동차가 달립니다.\n",
    "\n",
    "class Car :\n",
    "    def drive(self):\n",
    "        print(\"자동차가 달립니다.\")\n",
    "c1 = Car()\n",
    "c1.drive()"
   ]
  },
  {
   "cell_type": "code",
   "execution_count": 126,
   "metadata": {},
   "outputs": [
    {
     "name": "stdout",
     "output_type": "stream",
     "text": [
      "자동차3가 달립니다.\n"
     ]
    }
   ],
   "source": [
    "# 문제 : 자동차가 3번 달리게 해주세요.\n",
    "# 3개의 자동차가 한번씩 달리게 해주세요.\n",
    "# 출력 : 자동차가 달립니다.\n",
    "\n",
    "class Car1 :\n",
    "    def drive(self):\n",
    "        print(\"자동차1가 달립니다.\")\n",
    "class Car2 :\n",
    "    def drive(self):\n",
    "        print(\"자동차2가 달립니다.\")\n",
    "class Car3 :\n",
    "    def drive(self):\n",
    "        print(\"자동차3가 달립니다.\")                \n",
    "c1 = Car3()\n",
    "c1.drive()\n"
   ]
  },
  {
   "cell_type": "code",
   "execution_count": 120,
   "metadata": {},
   "outputs": [
    {
     "name": "stdout",
     "output_type": "stream",
     "text": [
      "안녕하세요 저는 23살 홍길동입니다.\n"
     ]
    }
   ],
   "source": [
    "class Person :\n",
    "    def __init__(self, age, name) : # 복사본 self 에 데이터가 저장이 된다. 여기서 self는 init을 수행하는 복사본(객체) 이다.\n",
    "        self.age = age\n",
    "        self.name = name\n",
    "    def introduce(self) :\n",
    "        print(\"안녕하세요 저는 {}살 {}입니다.\".format(self.age,self.name))\n",
    "p1 = Person(23, \"홍길동\")\n",
    "p1.introduce()"
   ]
  },
  {
   "cell_type": "code",
   "execution_count": 1,
   "metadata": {},
   "outputs": [
    {
     "name": "stdout",
     "output_type": "stream",
     "text": [
      "자동차1가 최대속력 220km로 달립니다.\n",
      "자동차2가 최대속력 250km로 달립니다.\n"
     ]
    }
   ],
   "source": [
    "# 문제 : 자동차 객체를 담을 변수를 만들어주세요.\n",
    "# 자동차 객체를 변수에 담고 그 변수를 이용해 최고속력이 서로 다르게 만들어주세요.\n",
    "class Car :\n",
    "    def drive(self, i,maxSpeed):\n",
    "        print(\"자동차{}가 최대속력 {}km로 달립니다.\".format(i,maxSpeed))\n",
    "\n",
    "# 각 자동차가 자신의 최고속력으로 달리게 해주세요.\n",
    "test1 = Car()\n",
    "test1.drive(1, 220)\n",
    "test1.drive(2, 250)\n",
    "\n",
    "# 출력 : 자동차가 최대속력 220km로 달립니다.\n",
    "# 출력 : 자동차가 최대속력 250km로 달립니다.\n"
   ]
  },
  {
   "cell_type": "code",
   "execution_count": 130,
   "metadata": {},
   "outputs": [
    {
     "name": "stdout",
     "output_type": "stream",
     "text": [
      "자동차가 최대속력 220km로 달립니다.\n",
      "자동차가 최대속력 250km로 달립니다.\n"
     ]
    }
   ],
   "source": [
    "class Car :\n",
    "    def __init__(self, maxS) :\n",
    "        self.maxS = maxS\n",
    "        print(\"자동차가 최대속력 {}km로 달립니다.\".format(self.maxS))\n",
    "test1 = Car(220)\n",
    "test2 = Car(250)"
   ]
  },
  {
   "cell_type": "code",
   "execution_count": null,
   "metadata": {},
   "outputs": [],
   "source": []
  }
 ],
 "metadata": {
  "interpreter": {
   "hash": "4e0b39fdc4f2df2992ef135d097972ec225e019845a073717c5b1bc8df292c8a"
  },
  "kernelspec": {
   "display_name": "Python 3 (ipykernel)",
   "language": "python",
   "name": "python3"
  },
  "language_info": {
   "codemirror_mode": {
    "name": "ipython",
    "version": 3
   },
   "file_extension": ".py",
   "mimetype": "text/x-python",
   "name": "python",
   "nbconvert_exporter": "python",
   "pygments_lexer": "ipython3",
   "version": "3.10.2"
  }
 },
 "nbformat": 4,
 "nbformat_minor": 2
}
