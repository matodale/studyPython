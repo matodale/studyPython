{
 "cells": [
  {
   "cell_type": "markdown",
   "metadata": {},
   "source": [
    "```\n",
    "pip install requests\n",
    "pip install bs4\n",
    "```\n",
    "## 웹 크롤 수업"
   ]
  },
  {
   "cell_type": "code",
   "execution_count": 23,
   "metadata": {},
   "outputs": [
    {
     "name": "stdout",
     "output_type": "stream",
     "text": [
      "[<a class=\"sister\" href=\"http://example.com/elsie\" id=\"link1\">Elsie</a>, <a class=\"sister\" href=\"http://example.com/lacie\" id=\"link2\">Lacie</a>, <a class=\"sister\" href=\"http://example.com/tillie\" id=\"link3\">Tillie</a>]\n",
      "<a class=\"sister\" href=\"http://example.com/lacie\" id=\"link2\">Lacie</a>\n",
      "Lacie\n",
      "http://example.com/lacie\n"
     ]
    }
   ],
   "source": [
    "# requests 모듈 사용\n",
    "# 웹페이지 요청함. 응답 데이터를 받습니다.\n",
    "import requests as req\n",
    "from bs4 import BeautifulSoup \n",
    "request_headers = {'User-Agent': ('Mozilla/5.0 (Windows NT 10.0;Win64; x64) AppleWebKit/537.36 (KHTML, like Gecko) Chrome/71.0.3578.98Safari/537.36'), }\n",
    "response = req.get(\"https://news.daum.net/\", headers=request_headers) # 특정 사이트 페이지 요청합니다.\n",
    "# print(response.text)\n",
    "\n",
    "html_doc = \"\"\"<html><head><title>The Dormouse's story</title></head>\n",
    "<body>\n",
    "<p class=\"title\"><b>The Dormouse's story</b></p>\n",
    "\n",
    "<p class=\"story\">Once upon a time there were three little sisters; and their names were\n",
    "<a href=\"http://example.com/elsie\" class=\"sister\" id=\"link1\">Elsie</a>,\n",
    "<a href=\"http://example.com/lacie\" class=\"sister\" id=\"link2\">Lacie</a> and\n",
    "<a href=\"http://example.com/tillie\" class=\"sister\" id=\"link3\">Tillie</a>;\n",
    "and they lived at the bottom of a well.</p>\n",
    "\n",
    "<p class=\"story\">...</p>\n",
    "\"\"\"\n",
    "# print(html_doc)\n",
    "soup = BeautifulSoup(html_doc, 'html.parser') # 해당 모듈을 이용해서 html_doc 문자열을 html 파씽\n",
    "li1 = soup.select(\"a\") # 해당 사이트의 a 태그만 리스트 형식으로 출력함.\n",
    "print(li1) # 리스트 내용을 출력.\n",
    "print(li1[1]) # 리스트의 1번째 태그만 해당 내용을 출력.\n",
    "print(li1[1].text) # 해당 태그의 내용만 가져온다.\n",
    "print(li1[1][\"href\"]) # 해당 태그의 속성값인 href의 값을 가져온다."
   ]
  },
  {
   "cell_type": "code",
   "execution_count": 32,
   "metadata": {},
   "outputs": [
    {
     "name": "stdout",
     "output_type": "stream",
     "text": [
      "https://v.daum.net/v/20220331210611568\n"
     ]
    }
   ],
   "source": [
    "soup1 = BeautifulSoup(response.text, 'html.parser') # 다음 페이지를 전부 불러옴\n",
    "li2 = soup1.select(\".link_txt\") # 해당 사이트의 a 태그 를 리스트 변수화 한다. 혹은 class 속성 값을 불러옴. css 속성자를 이용하여 내용을 가져온다.\n",
    "print(li2[0][\"href\"]) # 리스트 타입 변수의 0번째 값을 출력함. href 속성 값인 연결 주소를 출력"
   ]
  },
  {
   "cell_type": "code",
   "execution_count": 37,
   "metadata": {},
   "outputs": [
    {
     "name": "stdout",
     "output_type": "stream",
     "text": [
      "탈북자 자녀 절반에도 각종 지원 '소외'\n"
     ]
    }
   ],
   "source": [
    "href1 = li2[0][\"href\"] # 뉴스의 첫번째 내용 url을 변수값으로 저장\n",
    "response1 = req.get(href1, headers=request_headers)\n",
    "soup2 = BeautifulSoup(response1.text, 'html.parser')\n",
    "li3 = soup2.select(\".tit_view\")\n",
    "print(li3[0].text) # 해당 신문기사 타이틀 가져오기\n"
   ]
  },
  {
   "cell_type": "markdown",
   "metadata": {},
   "source": [
    "### 셀레니움\n",
    "```\n",
    "pip install selenium\n",
    "크롬 드라이버 설치\n",
    "크롬 드라이버.exe 경로\n",
    "```\n"
   ]
  },
  {
   "cell_type": "code",
   "execution_count": 39,
   "metadata": {},
   "outputs": [
    {
     "name": "stderr",
     "output_type": "stream",
     "text": [
      "C:\\Users\\Administrator\\AppData\\Local\\Temp\\ipykernel_9332\\3809945379.py:5: DeprecationWarning: executable_path has been deprecated, please pass in a Service object\n",
      "  browser = webdriver.Chrome(chrome_path)\n"
     ]
    }
   ],
   "source": [
    "import selenium\n",
    "from selenium import webdriver\n",
    "chrome_path = 'C:\\\\Users\\\\Administrator\\\\Jupyter_noteBook\\\\studyPython\\\\chromedriver.exe' # 크롬 드라이버 실행 파일 경로\n",
    "url = 'http://www.naver.com/' # 홈페이지 url을 작성\n",
    "browser = webdriver.Chrome(chrome_path) \n",
    "browser.get(url)"
   ]
  },
  {
   "cell_type": "code",
   "execution_count": null,
   "metadata": {},
   "outputs": [],
   "source": []
  }
 ],
 "metadata": {
  "interpreter": {
   "hash": "4e0b39fdc4f2df2992ef135d097972ec225e019845a073717c5b1bc8df292c8a"
  },
  "kernelspec": {
   "display_name": "Python 3.10.2 64-bit",
   "language": "python",
   "name": "python3"
  },
  "language_info": {
   "codemirror_mode": {
    "name": "ipython",
    "version": 3
   },
   "file_extension": ".py",
   "mimetype": "text/x-python",
   "name": "python",
   "nbconvert_exporter": "python",
   "pygments_lexer": "ipython3",
   "version": "3.10.2"
  },
  "orig_nbformat": 4
 },
 "nbformat": 4,
 "nbformat_minor": 2
}
