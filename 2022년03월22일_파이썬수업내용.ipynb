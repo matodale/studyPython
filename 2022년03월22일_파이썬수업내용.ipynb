{
 "cells": [
  {
   "cell_type": "code",
   "execution_count": 6,
   "id": "4d141a45",
   "metadata": {},
   "outputs": [
    {
     "name": "stdout",
     "output_type": "stream",
     "text": [
      "안녕하세요 저는 27살 홍길동입니다.\n",
      "안녕하세요 저는 25살 홍길순입니다.\n",
      "하얀색 소나타이/가 100km로 달립니다.\n",
      "검정색 모닝이/가 70km로 달립니다.\n",
      "아리살 러시안블루 고양이 4가 야옹하고 웁니다.\n",
      "망고살 샴 고양이 6가 야옹하고 웁니다.\n",
      "이름 : 이순신, 공격력 : 20, 방어력 : 10\n",
      "이름 : 강감찬, 공격력 : 15, 방어력 : 15\n",
      "이순신이 20의 데미지를 입힌다.\n",
      "강감찬이 15의 데미지를 입힌다.\n",
      "이순신이 10 데미지를 방어합니다.\n",
      "강감찬이 15 데미지를 방어합니다.\n"
     ]
    }
   ],
   "source": [
    "# 다음 코드가 동작하도록 class를 완성해주세요\n",
    "class Person :\n",
    "    def __init__(self, name, age):\n",
    "        self.name = name\n",
    "        self.age = age\n",
    "    def introduce(self):\n",
    "         print(\"안녕하세요 저는 {}살 {}입니다.\".format(self.age,self.name))\n",
    "p1 = Person(\"홍길동\", 27)\n",
    "p2 = Person(\"홍길순\", 25)\n",
    "\n",
    "p1.introduce() # 안녕하세요 27살 홍길동입니다.\n",
    "p2.introduce() # 안녕하세요 25살 홍길순입니다.\n",
    "\n",
    "class Car :\n",
    "    def __init__(self, carName, carColor, speed):\n",
    "        self.carName = carName\n",
    "        self.carColor = carColor\n",
    "        self.speed = speed\n",
    "    def drive(self):\n",
    "        print(\"{} {}이/가 {}km로 달립니다.\".format(self.carColor ,self.carName, self.speed))\n",
    "c1 = Car(\"소나타\", \"하얀색\", 100)\n",
    "c2 = Car(\"모닝\", \"검정색\", 70)\n",
    "\n",
    "c1.drive() # 하얀색 소나타이/가 100km로 달립니다.\n",
    "c2.drive() # 검정색 모닝이/가 70km로 달립니다.\n",
    "\n",
    "class Cat:\n",
    "    def __init__(self, catName, catValue, catAge):\n",
    "        self.catName = catName\n",
    "        self.catValue = catValue\n",
    "        self.catAge = catAge\n",
    "    def meow(self):\n",
    "        print(\"{}살 {} 고양이 {}가 야옹하고 웁니다.\".format(self.catName ,self.catValue, self.catAge))\n",
    "    \n",
    "cat1 = Cat(\"아리\", \"러시안블루\", 4)\n",
    "cat2 = Cat(\"망고\", \"샴\", 6)\n",
    "\n",
    "cat1.meow() # 4살 러시안블루 고양이 아리가 야옹하고 웁니다.\n",
    "cat2.meow() # 6살 샴 고양이 망고가 야옹하고 웁니다.\n",
    "\n",
    "class Warrior :\n",
    "    def __init__(self, nameV, attackV, defenseV):\n",
    "        self.nameV = nameV\n",
    "        self.attackV = attackV\n",
    "        self.defenseV = defenseV\n",
    "    def status(self):\n",
    "        print(\"이름 : {}, 공격력 : {}, 방어력 : {}\".format(self.nameV, self.attackV, self.defenseV))\n",
    "    def attack(self):\n",
    "        print(\"{}이 {}의 데미지를 입힌다.\".format(self.nameV, self.attackV))\n",
    "    def defense(self):\n",
    "        print(\"{}이 {} 데미지를 방어합니다.\".format(self.nameV, self.defenseV))\n",
    "        \n",
    "w1 = Warrior(\"이순신\", 20, 10)\n",
    "w2 = Warrior(\"강감찬\", 15, 15)\n",
    "\n",
    "w1.status() # 이름 : 이순신, 공격력 : 20, 방어력 : 10 \n",
    "w2.status() # 이름 : 강감찬, 공격력 : 15, 방어력 : 15 \n",
    "\n",
    "w1.attack() # 이순신이 20의 데미지를 입힙민다.\n",
    "w2.attack() # 강감찬이 15의 데미지를 입힙민다. \n",
    "\n",
    "w1.defense() # 이순신이 10 데미지를 방어합니다.\n",
    "w2.defense() # 강감찬이 15 데미지를 방어합니다."
   ]
  },
  {
   "cell_type": "markdown",
   "id": "f1c6480b",
   "metadata": {},
   "source": [
    "## 모듈 작성하기\n",
    "IDEL 파일 실행 후 새로운 함수 입력\n",
    "```python\n",
    "import ex1\n",
    "```"
   ]
  },
  {
   "cell_type": "code",
   "execution_count": 2,
   "id": "f241f49f",
   "metadata": {},
   "outputs": [
    {
     "data": {
      "text/plain": [
       "'모듈에 있는 첫번째 함수 입니다.'"
      ]
     },
     "execution_count": 2,
     "metadata": {},
     "output_type": "execute_result"
    }
   ],
   "source": [
    "# 만든 함수를 import를 가지고 함수를 불러오자\n",
    "import ex1\n",
    "ex1.fn1()"
   ]
  },
  {
   "cell_type": "code",
   "execution_count": 3,
   "id": "bd609869",
   "metadata": {},
   "outputs": [
    {
     "name": "stdout",
     "output_type": "stream",
     "text": [
      "['c:\\\\Users\\\\Administrator\\\\Jupyter_noteBook\\\\studyPython', 'C:\\\\Users\\\\Administrator\\\\AppData\\\\Local\\\\Programs\\\\Python\\\\Python310\\\\python310.zip', 'C:\\\\Users\\\\Administrator\\\\AppData\\\\Local\\\\Programs\\\\Python\\\\Python310\\\\DLLs', 'C:\\\\Users\\\\Administrator\\\\AppData\\\\Local\\\\Programs\\\\Python\\\\Python310\\\\lib', 'C:\\\\Users\\\\Administrator\\\\AppData\\\\Local\\\\Programs\\\\Python\\\\Python310', '', 'C:\\\\Users\\\\Administrator\\\\AppData\\\\Roaming\\\\Python\\\\Python310\\\\site-packages', 'C:\\\\Users\\\\Administrator\\\\AppData\\\\Roaming\\\\Python\\\\Python310\\\\site-packages\\\\win32', 'C:\\\\Users\\\\Administrator\\\\AppData\\\\Roaming\\\\Python\\\\Python310\\\\site-packages\\\\win32\\\\lib', 'C:\\\\Users\\\\Administrator\\\\AppData\\\\Roaming\\\\Python\\\\Python310\\\\site-packages\\\\Pythonwin', 'C:\\\\Users\\\\Administrator\\\\AppData\\\\Local\\\\Programs\\\\Python\\\\Python310\\\\lib\\\\site-packages', 'C:/Users/Administrator/Jupyter_noteBook/studyPython/testModule/']\n"
     ]
    },
    {
     "data": {
      "text/plain": [
       "'모듈의 첫번째 함수입니다.'"
      ]
     },
     "execution_count": 3,
     "metadata": {},
     "output_type": "execute_result"
    }
   ],
   "source": [
    "import sys\n",
    "print(sys.path) # 저장된 경로를 불러옴.\n",
    "sys.path.append('C:/Users/Administrator/Jupyter_noteBook/studyPython/testModule/') # 경로 추가\n",
    "import testModule1\n",
    "testModule1.func1()"
   ]
  },
  {
   "cell_type": "code",
   "execution_count": 4,
   "id": "e594f2f3",
   "metadata": {},
   "outputs": [
    {
     "name": "stdout",
     "output_type": "stream",
     "text": [
      "['c:\\\\Users\\\\Administrator\\\\Jupyter_noteBook\\\\studyPython', 'C:\\\\Users\\\\Administrator\\\\AppData\\\\Local\\\\Programs\\\\Python\\\\Python310\\\\python310.zip', 'C:\\\\Users\\\\Administrator\\\\AppData\\\\Local\\\\Programs\\\\Python\\\\Python310\\\\DLLs', 'C:\\\\Users\\\\Administrator\\\\AppData\\\\Local\\\\Programs\\\\Python\\\\Python310\\\\lib', 'C:\\\\Users\\\\Administrator\\\\AppData\\\\Local\\\\Programs\\\\Python\\\\Python310', '', 'C:\\\\Users\\\\Administrator\\\\AppData\\\\Roaming\\\\Python\\\\Python310\\\\site-packages', 'C:\\\\Users\\\\Administrator\\\\AppData\\\\Roaming\\\\Python\\\\Python310\\\\site-packages\\\\win32', 'C:\\\\Users\\\\Administrator\\\\AppData\\\\Roaming\\\\Python\\\\Python310\\\\site-packages\\\\win32\\\\lib', 'C:\\\\Users\\\\Administrator\\\\AppData\\\\Roaming\\\\Python\\\\Python310\\\\site-packages\\\\Pythonwin', 'C:\\\\Users\\\\Administrator\\\\AppData\\\\Local\\\\Programs\\\\Python\\\\Python310\\\\lib\\\\site-packages', 'C:/Users/Administrator/Jupyter_noteBook/studyPython/testModule/', 'C:/Users/Administrator/Jupyter_noteBook/studyPython/testModule/']\n",
      "모듈의 첫번째 함수입니다.\n"
     ]
    }
   ],
   "source": [
    "# 경로를 추가하는 작업을 수행할 때 sys모듈을 사용합니다.\n",
    "import sys\n",
    "print(sys.path) # 저장된 경로를 불러옴.\n",
    "sys.path.append('C:/Users/Administrator/Jupyter_noteBook/studyPython/testModule/') # 경로 추가\n",
    "import testModule1 # 모듈 파일을 import 시킴\n",
    "print(testModule1.func1())\n",
    "\n"
   ]
  },
  {
   "cell_type": "code",
   "execution_count": 5,
   "id": "90752cb7",
   "metadata": {},
   "outputs": [
    {
     "name": "stdout",
     "output_type": "stream",
     "text": [
      "['c:\\\\Users\\\\Administrator\\\\Jupyter_noteBook\\\\studyPython', 'C:\\\\Users\\\\Administrator\\\\AppData\\\\Local\\\\Programs\\\\Python\\\\Python310\\\\python310.zip', 'C:\\\\Users\\\\Administrator\\\\AppData\\\\Local\\\\Programs\\\\Python\\\\Python310\\\\DLLs', 'C:\\\\Users\\\\Administrator\\\\AppData\\\\Local\\\\Programs\\\\Python\\\\Python310\\\\lib', 'C:\\\\Users\\\\Administrator\\\\AppData\\\\Local\\\\Programs\\\\Python\\\\Python310', '', 'C:\\\\Users\\\\Administrator\\\\AppData\\\\Roaming\\\\Python\\\\Python310\\\\site-packages', 'C:\\\\Users\\\\Administrator\\\\AppData\\\\Roaming\\\\Python\\\\Python310\\\\site-packages\\\\win32', 'C:\\\\Users\\\\Administrator\\\\AppData\\\\Roaming\\\\Python\\\\Python310\\\\site-packages\\\\win32\\\\lib', 'C:\\\\Users\\\\Administrator\\\\AppData\\\\Roaming\\\\Python\\\\Python310\\\\site-packages\\\\Pythonwin', 'C:\\\\Users\\\\Administrator\\\\AppData\\\\Local\\\\Programs\\\\Python\\\\Python310\\\\lib\\\\site-packages', 'C:/Users/Administrator/Jupyter_noteBook/studyPython/testModule/', 'C:/Users/Administrator/Jupyter_noteBook/studyPython/testModule/', 'C:/Users/Administrator/Jupyter_noteBook/studyPython/testModule/']\n",
      "모듈의 두번째 함수입니다.\n"
     ]
    }
   ],
   "source": [
    "import sys\n",
    "print(sys.path) # 저장된 경로를 불러옴.\n",
    "sys.path.append('C:/Users/Administrator/Jupyter_noteBook/studyPython/testModule/') # 경로 추가\n",
    "from testModule2 import func2, func3\n",
    "# 원하는 함수만 가져오기\n",
    "\n",
    "print(func2())"
   ]
  },
  {
   "cell_type": "markdown",
   "id": "1dae6808",
   "metadata": {},
   "source": [
    "```\n",
    "pip 설치 안되신분들\n",
    "\n",
    "관리자권한으로 명령 프롬프트를 킨다.\n",
    "curl https://boostrap.pypa.io/get-pip.py -o get-pip.py\n",
    "위와 같은 명령어를 입력한다.\n",
    "다운로드가 되었으면 설치하기 위해 아래와 같은 명령어를\n",
    "입력한다.\n",
    "python get-pip.py\n",
    "만약 python이 뭔지모른다 안깔려있다고 오류가 발생하는경우\n",
    "수업페이지 링크에서 python클릭해서 다운로드 받는다\n",
    "다른사람이 만들어논 모듈을 설치하는 명령어는\n",
    "pip\n",
    "명령 창에서 실행을 해주셔야합니다.\n",
    "명령창을 관리자 권한으로 열어주셔야합니다.\n",
    "\n",
    "만약에 pip이 깔려있는데fatal error in launcher unable to create process using 요 에러메세지가 나오면 아래처럼 업그레이드\n",
    "python -m pip install --upgrade pip\n",
    "python -m pip install numpy\n",
    "\n",
    "pip install 설치할 모듈이름\n",
    "pip install numpy\n",
    "pip uninstall 삭제할 모듈이름\n",
    "pip uninstall numpy\n",
    "pip install numpy==모듈의특정버전명\n",
    "pip install numpy==1.16.4\n",
    "```\n",
    "---\n",
    "```\n",
    "pip install openpyxl (오픈xl 설치)\n",
    "pip list (pip에 설치된 리스트 확인)\n",
    "```\n"
   ]
  },
  {
   "cell_type": "code",
   "execution_count": 23,
   "id": "7d04965d",
   "metadata": {},
   "outputs": [
    {
     "name": "stdout",
     "output_type": "stream",
     "text": [
      "c:\\Users\\Administrator\\Jupyter_noteBook\\studyPython\n",
      ".git\n",
      ".ipynb_checkpoints\n",
      "2022년02월24일_파이썬수업.ipynb\n",
      "2022년02월25일_python수업내용.ipynb\n",
      "2022년03월03일_python수업.ipynb\n",
      "2022년03월04일_파이썬수업.ipynb\n",
      "2022년03월08일_Python수업내용.ipynb\n",
      "2022년03월10일_python수업내용.ipynb\n",
      "2022년03월11일_파이썬수업내용.ipynb\n",
      "2022년03월15일_파이썬수업내용.ipynb\n",
      "2022년03월17일_파이썬수업내용.ipynb\n",
      "2022년03월22일_파이썬수업내용.ipynb\n",
      "2022년03월22일_파이썬예제.ipynb\n",
      "testModule\n"
     ]
    }
   ],
   "source": [
    "import os # 현재의 운영체제 모듈\n",
    "print(os.getcwd()) # 현재 디렉토리를 출력한다.\n",
    "# os.mkdir(\"c:\\\\Users\\\\Administrator\\\\Jupyter_noteBook\\\\studyPython\\\\test2\") # 지정한 폴더에 새로운 폴더를 만든다.\n",
    "# os.makedirs(\"c:\\\\Users\\\\Administrator\\\\Jupyter_noteBook\\\\studyPython\\\\test2\\\\testFolder1\") # 하위 폴더 까지 생성합니다.\n",
    "# os.chdir(\"c:\\\\Users\\\\Administrator\\\\Jupyter_noteBook\\\\studyPython\") # 현재 디렉토리를 이동하고 출력\n",
    "os.listdir(\"c:\\\\Users\\\\Administrator\\\\Jupyter_noteBook\\\\studyPython\") # 입력한 폴더에 있는 폴더, 파일들을 리스트로 변환해줌\n",
    "for i in os.listdir(\"c:\\\\Users\\\\Administrator\\\\Jupyter_noteBook\\\\studyPython\"):\n",
    "    print(i)\n"
   ]
  },
  {
   "cell_type": "code",
   "execution_count": 27,
   "id": "2b87b998",
   "metadata": {},
   "outputs": [
    {
     "name": "stdout",
     "output_type": "stream",
     "text": [
      "True\n",
      "False\n"
     ]
    }
   ],
   "source": [
    "print(os.path.exists(\"c:\\\\Users\\\\Administrator\\\\Jupyter_noteBook\\\\studyPython\")) # 폴더가 있는지 확인 True를 출력\n",
    "print(os.path.exists(\"c:\\\\Users\\\\Administrator\\\\Jupyter_noteBook\\\\studyPython2\")) # 없으면 False값을 출력함"
   ]
  },
  {
   "cell_type": "code",
   "execution_count": 28,
   "id": "cdfaa8e6",
   "metadata": {},
   "outputs": [],
   "source": [
    "# 두 명령어 모두 삭제할 폴더가 비어 있어야 한다.\n",
    "# os.rmdir() # 위치한 폴더만 삭제함\n",
    "# os.removedirs() # 지정한 폴더를 삭제 전체경로를 전부 삭제\n",
    "\n",
    "\n"
   ]
  },
  {
   "cell_type": "markdown",
   "id": "823ee764",
   "metadata": {},
   "source": [
    "```\n",
    "t 텍스트모드\n",
    "b 바이너리\n",
    "r 읽기 (기본)\n",
    "w 쓰기\n",
    "a 이어쓰기 + 읽기, 쓰기\n",
    "wb 2진수로 작성\n",
    "wt 문자로 작성\n",
    "rb 2진수로 읽어옴\n",
    "rt 문자로 읽어옴\n",
    "```"
   ]
  },
  {
   "cell_type": "code",
   "execution_count": 29,
   "id": "2e487490",
   "metadata": {},
   "outputs": [],
   "source": [
    "file1 = open(\"text1.txt\" , \"wt\") # 파일을 생성하고 작성합니다.\n",
    "file1.write(\"Hello World\")\n",
    "file1.close()"
   ]
  },
  {
   "cell_type": "code",
   "execution_count": 30,
   "id": "d141f3f5",
   "metadata": {},
   "outputs": [],
   "source": [
    "file2 = open(\"text1.txt\", \"a\") # 월래 있는 내용에 추가로 작성합니다.\n",
    "file2.write(\"Bye\")\n",
    "file2.close()"
   ]
  },
  {
   "cell_type": "code",
   "execution_count": 3,
   "id": "16f56eb3",
   "metadata": {},
   "outputs": [],
   "source": [
    "file2 = open(\"text1.txt\", \"rt\") # 내용을 불러와서 변수로 저장함.\n",
    "file2.readlines() # 내용을 전체 출력합니다.\n",
    "file2.readline() # 내용의 한 줄만 출력합니다.\n",
    "file2.close() # 변수를 종료합니다."
   ]
  }
 ],
 "metadata": {
  "kernelspec": {
   "display_name": "Python 3 (ipykernel)",
   "language": "python",
   "name": "python3"
  },
  "language_info": {
   "codemirror_mode": {
    "name": "ipython",
    "version": 3
   },
   "file_extension": ".py",
   "mimetype": "text/x-python",
   "name": "python",
   "nbconvert_exporter": "python",
   "pygments_lexer": "ipython3",
   "version": "3.10.2"
  }
 },
 "nbformat": 4,
 "nbformat_minor": 5
}
