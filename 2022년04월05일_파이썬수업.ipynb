{
 "cells": [
  {
   "cell_type": "markdown",
   "metadata": {},
   "source": [
    "### 웹 크롤 수업"
   ]
  },
  {
   "cell_type": "code",
   "execution_count": 32,
   "metadata": {},
   "outputs": [
    {
     "name": "stderr",
     "output_type": "stream",
     "text": [
      "C:\\Users\\Administrator\\AppData\\Local\\Temp\\ipykernel_7108\\87265280.py:8: DeprecationWarning: executable_path has been deprecated, please pass in a Service object\n",
      "  browser = webdriver.Chrome(chrome_path)\n",
      "C:\\Users\\Administrator\\AppData\\Local\\Temp\\ipykernel_7108\\87265280.py:11: DeprecationWarning: find_element_by_xpath is deprecated. Please use find_element(by=By.XPATH, value=xpath) instead\n",
      "  browser.find_element_by_xpath('//*[@id=\"react-page\"]/div[1]/a[2]').click() # xpath 복사\n",
      "C:\\Users\\Administrator\\AppData\\Local\\Temp\\ipykernel_7108\\87265280.py:13: DeprecationWarning: find_element_by_xpath is deprecated. Please use find_element(by=By.XPATH, value=xpath) instead\n",
      "  browser.find_element_by_xpath('//*[@id=\"login-email-field\"]').send_keys(id) # 지정한 문자열을 태그 속성에 의해 접근\n",
      "C:\\Users\\Administrator\\AppData\\Local\\Temp\\ipykernel_7108\\87265280.py:15: DeprecationWarning: find_element_by_css_selector is deprecated. Please use find_element(by=By.CSS_SELECTOR, value=css_selector) instead\n",
      "  browser.find_element_by_css_selector('#login-password-field').send_keys(pw) # 지정한 문자열을 태그 속성에 의해 접근\n",
      "C:\\Users\\Administrator\\AppData\\Local\\Temp\\ipykernel_7108\\87265280.py:17: DeprecationWarning: find_element_by_xpath is deprecated. Please use find_element(by=By.XPATH, value=xpath) instead\n",
      "  browser.find_element_by_xpath('//*[@id=\"log-in-button\"]').click() #  xpath 복사된 버튼도 자동으로 클릭\n",
      "C:\\Users\\Administrator\\AppData\\Local\\Temp\\ipykernel_7108\\87265280.py:19: DeprecationWarning: find_element_by_class_name is deprecated. Please use find_element(by=By.CLASS_NAME, value=name) instead\n",
      "  browser.find_element_by_class_name('Sidebar_link-3txdL').click()\n"
     ]
    }
   ],
   "source": [
    "import selenium\n",
    "from selenium import webdriver\n",
    "import time\n",
    "chrome_path = 'C:\\\\Users\\\\Administrator\\\\Jupyter_noteBook\\\\studyPython\\\\chromedriver.exe'\n",
    "url = 'https://codepen.io/'\n",
    "id = ''\n",
    "pw = ''\n",
    "browser = webdriver.Chrome(chrome_path)\n",
    "browser.get(url)\n",
    "time.sleep(2) # 딜레이를 2초씩 준다.\n",
    "browser.find_element_by_xpath('//*[@id=\"react-page\"]/div[1]/a[2]').click() # xpath 복사\n",
    "time.sleep(2)\n",
    "browser.find_element_by_xpath('//*[@id=\"login-email-field\"]').send_keys(id) # 지정한 문자열을 태그 속성에 의해 접근\n",
    "time.sleep(2)\n",
    "browser.find_element_by_css_selector('#login-password-field').send_keys(pw) # 지정한 문자열을 태그 속성에 의해 접근\n",
    "time.sleep(2)\n",
    "browser.find_element_by_xpath('//*[@id=\"log-in-button\"]').click() #  xpath 복사된 버튼도 자동으로 클릭\n",
    "time.sleep(2)\n",
    "browser.find_element_by_class_name('Sidebar_link-3txdL').click()\n"
   ]
  },
  {
   "cell_type": "markdown",
   "metadata": {},
   "source": [
    "```\n",
    "find_element_by_id : id 속성을 사용하여 접근\n",
    "find_element_by_name : name 속성을 사용하여 접근\n",
    "find_element_by_xpath : xpath 속성을 사용하여 접근\n",
    "find_element_by_link_text : a태그 속성에 사용되는 텍스트로 접근함\n",
    "find_element_by_partial_link_text : a태그 속성에 사용되는 일부 텍스트로 접근함\n",
    "find_element_by_tag_name : 태그를 사용해서 접근\n",
    "find_element_by_class_name : 클래스를 사용하여 접근\n",
    "find_element_by_css_selector : css 선택자를 이용하여 접근\n",
    "send_keys(변수) : \n",
    "\n",
    "Keys.ENTER : 키보드 엔터키\n",
    "Keys.RETURN : 키보드 엔터키\n",
    "Keys.SPACE : 키보드 스페이스키\n",
    "Keys.ARROW_UP : 방향키 위\n",
    "Keys.ARROW_DOWN : 방향키 아래\n",
    "Keys.ARROW_LEFT : 방향키 왼쪽\n",
    "Keys.ARROW_RIGHT : 방향키 오른쪽\n",
    "Keys.BACK_SPACE : 백스페이스 키\n",
    "Keys.DELETE : DELETE 키\n",
    "Keys.CONTROL : 컨트롤 키\n",
    "Keys.ALT : 알트 키\n",
    "Keys.SHIFT : 쉬프트 키\n",
    "Keys.TAB : 탭 키\n",
    "Keys.PAGE_UP : 페이지 업 키\n",
    "Keys.PAGE_DOWN : 페이지 다운 키\n",
    "Keys.F1 : Function1 키 ~ Function9 키 까지\n",
    "\n",
    "# 맨 처음 탭으로 이동\n",
    "browser.switch_to.window(window_handles[0])\n",
    "# 새로운 탭으로 전환\n",
    "browser.switch_to.window(window_handles[-1])\n",
    "# 스크린샷, 현재 화면 캡쳐\n",
    "browser.get_screenshot_as_file('capture.png')\n",
    "# 브라우저 닫음\n",
    "browser.close()\n",
    "```\n"
   ]
  },
  {
   "cell_type": "code",
   "execution_count": 55,
   "metadata": {},
   "outputs": [
    {
     "name": "stderr",
     "output_type": "stream",
     "text": [
      "C:\\Users\\Administrator\\AppData\\Local\\Temp\\ipykernel_7108\\96734263.py:8: DeprecationWarning: executable_path has been deprecated, please pass in a Service object\n",
      "  browser = webdriver.Chrome(chrome_path)\n",
      "C:\\Users\\Administrator\\AppData\\Local\\Temp\\ipykernel_7108\\96734263.py:12: DeprecationWarning: find_element_by_xpath is deprecated. Please use find_element(by=By.XPATH, value=xpath) instead\n",
      "  browser.find_element_by_xpath('//*[@id=\"sform\"]/fieldset/div').click() # xpath 복사\n",
      "C:\\Users\\Administrator\\AppData\\Local\\Temp\\ipykernel_7108\\96734263.py:15: DeprecationWarning: find_element_by_xpath is deprecated. Please use find_element(by=By.XPATH, value=xpath) instead\n",
      "  browser.find_element_by_xpath('//*[@id=\"query\"]').send_keys('python')\n",
      "C:\\Users\\Administrator\\AppData\\Local\\Temp\\ipykernel_7108\\96734263.py:18: DeprecationWarning: find_element_by_xpath is deprecated. Please use find_element(by=By.XPATH, value=xpath) instead\n",
      "  browser.find_element_by_xpath('//*[@id=\"query\"]').send_keys(Keys.ENTER)\n",
      "C:\\Users\\Administrator\\AppData\\Local\\Temp\\ipykernel_7108\\96734263.py:21: DeprecationWarning: find_element_by_xpath is deprecated. Please use find_element(by=By.XPATH, value=xpath) instead\n",
      "  browser.find_element_by_xpath('//*[@id=\"web_1\"]/div/div[3]/div[1]/ul/li[1]/a').click()\n"
     ]
    }
   ],
   "source": [
    "import selenium\n",
    "from selenium import webdriver\n",
    "from selenium.webdriver.common.keys import Keys\n",
    "import time\n",
    "\n",
    "chrome_path = 'C:\\\\Users\\\\Administrator\\\\Jupyter_noteBook\\\\studyPython\\\\chromedriver.exe'\n",
    "url = 'https://www.naver.com/'\n",
    "browser = webdriver.Chrome(chrome_path)\n",
    "browser.get(url)\n",
    "time.sleep(1) # 딜레이를 2초씩 준다. \n",
    "# 검색 input 태그 클릭\n",
    "browser.find_element_by_xpath('//*[@id=\"sform\"]/fieldset/div').click() # xpath 복사\n",
    "time.sleep(1)\n",
    "# input 태그에 python 입력\n",
    "browser.find_element_by_xpath('//*[@id=\"query\"]').send_keys('python')\n",
    "time.sleep(1)\n",
    "# 엔터 키 입력\n",
    "browser.find_element_by_xpath('//*[@id=\"query\"]').send_keys(Keys.ENTER)\n",
    "time.sleep(1)\n",
    "# 검색 결과의 첫번째 검색된 사이트 클릭\n",
    "browser.find_element_by_xpath('//*[@id=\"web_1\"]/div/div[3]/div[1]/ul/li[1]/a').click()\n",
    "time.sleep(1)\n",
    "# 브라우저 종료\n",
    "browser.close()"
   ]
  },
  {
   "cell_type": "markdown",
   "metadata": {},
   "source": [
    "```\n",
    "웹 크롤링 하려는 영화 제목이나 뉴스를 개발자 도구를 열어서 클릭\n",
    "css 요소\n",
    ".text로 요소의 텍스트 출력\n",
    "```"
   ]
  },
  {
   "cell_type": "code",
   "execution_count": 62,
   "metadata": {},
   "outputs": [
    {
     "name": "stderr",
     "output_type": "stream",
     "text": [
      "C:\\Users\\Administrator\\AppData\\Local\\Temp\\ipykernel_7108\\2799733923.py:8: DeprecationWarning: executable_path has been deprecated, please pass in a Service object\n",
      "  browser = webdriver.Chrome(chrome_path)\n",
      "C:\\Users\\Administrator\\AppData\\Local\\Temp\\ipykernel_7108\\2799733923.py:12: DeprecationWarning: find_element_by_xpath is deprecated. Please use find_element(by=By.XPATH, value=xpath) instead\n",
      "  browser.find_element_by_xpath('//*[@id=\"sform\"]/fieldset/div').click() # xpath 복사\n",
      "C:\\Users\\Administrator\\AppData\\Local\\Temp\\ipykernel_7108\\2799733923.py:15: DeprecationWarning: find_element_by_xpath is deprecated. Please use find_element(by=By.XPATH, value=xpath) instead\n",
      "  browser.find_element_by_xpath('//*[@id=\"query\"]').send_keys('최근영화')\n",
      "C:\\Users\\Administrator\\AppData\\Local\\Temp\\ipykernel_7108\\2799733923.py:18: DeprecationWarning: find_element_by_xpath is deprecated. Please use find_element(by=By.XPATH, value=xpath) instead\n",
      "  browser.find_element_by_xpath('//*[@id=\"query\"]').send_keys(Keys.ENTER)\n",
      "C:\\Users\\Administrator\\AppData\\Local\\Temp\\ipykernel_7108\\2799733923.py:20: DeprecationWarning: find_element_by_class_name is deprecated. Please use find_element(by=By.CLASS_NAME, value=name) instead\n",
      "  browser.find_element_by_class_name('this_text').text\n"
     ]
    },
    {
     "data": {
      "text/plain": [
       "'모비우스'"
      ]
     },
     "execution_count": 62,
     "metadata": {},
     "output_type": "execute_result"
    }
   ],
   "source": [
    "import selenium\n",
    "from selenium import webdriver\n",
    "from selenium.webdriver.common.keys import Keys\n",
    "import time\n",
    "\n",
    "chrome_path = 'C:\\\\Users\\\\Administrator\\\\Jupyter_noteBook\\\\studyPython\\\\chromedriver.exe'\n",
    "url = 'https://www.naver.com/'\n",
    "browser = webdriver.Chrome(chrome_path)\n",
    "browser.get(url)\n",
    "time.sleep(1) # 딜레이를 2초씩 준다. \n",
    "# 검색 input 태그 클릭\n",
    "browser.find_element_by_xpath('//*[@id=\"sform\"]/fieldset/div').click() # xpath 복사\n",
    "time.sleep(1)\n",
    "# input 태그에 python 입력\n",
    "browser.find_element_by_xpath('//*[@id=\"query\"]').send_keys('최근영화')\n",
    "time.sleep(1)\n",
    "# 엔터 키 입력\n",
    "browser.find_element_by_xpath('//*[@id=\"query\"]').send_keys(Keys.ENTER)\n",
    "time.sleep(1)\n",
    "browser.find_element_by_class_name('this_text').text\n"
   ]
  },
  {
   "cell_type": "code",
   "execution_count": 1,
   "metadata": {},
   "outputs": [
    {
     "name": "stderr",
     "output_type": "stream",
     "text": [
      "C:\\Users\\Administrator\\AppData\\Local\\Temp\\ipykernel_8376\\2076435293.py:6: DeprecationWarning: executable_path has been deprecated, please pass in a Service object\n",
      "  browser = webdriver.Chrome(chrome_path)\n",
      "C:\\Users\\Administrator\\AppData\\Local\\Temp\\ipykernel_8376\\2076435293.py:13: DeprecationWarning: find_element_by_css_selector is deprecated. Please use find_element(by=By.CSS_SELECTOR, value=css_selector) instead\n",
      "  browser.find_element_by_css_selector(movielocation).text\n"
     ]
    },
    {
     "data": {
      "text/plain": [
       "'불도저에 탄 소녀'"
      ]
     },
     "execution_count": 1,
     "metadata": {},
     "output_type": "execute_result"
    }
   ],
   "source": [
    "from selenium import webdriver\n",
    "from selenium.webdriver.common.keys import Keys\n",
    "import time\n",
    "chrome_path = 'C:\\\\Users\\\\Administrator\\\\Jupyter_noteBook\\\\studyPython\\\\chromedriver.exe' # 크롬드라이버 지정이 되어 있어야 가능\n",
    "url = 'http://movie.naver.com/movie/running/current.naver'\n",
    "browser = webdriver.Chrome(chrome_path)\n",
    "browser.get(url)\n",
    "time.sleep(1)\n",
    "moviename_tag1 = '#content > div.article > div:nth-child(1) > div.lst_wrap > ul > li:nth-child(1) > dl > dt > a'\n",
    "moviename_tag2 = '#content > div.article > div:nth-child(1) > div.lst_wrap > ul > li:nth-child(2) > dl > dt > a'\n",
    "moviename_tag3 = '#content > div.article > div:nth-child(1) > div.lst_wrap > ul > li:nth-child(3) > dl > dt > a'\n",
    "movielocation = 'dl > dt > a'\n",
    "browser.find_element_by_css_selector(movielocation).text\n"
   ]
  }
 ],
 "metadata": {
  "interpreter": {
   "hash": "4e0b39fdc4f2df2992ef135d097972ec225e019845a073717c5b1bc8df292c8a"
  },
  "kernelspec": {
   "display_name": "Python 3.10.2 64-bit",
   "language": "python",
   "name": "python3"
  },
  "language_info": {
   "codemirror_mode": {
    "name": "ipython",
    "version": 3
   },
   "file_extension": ".py",
   "mimetype": "text/x-python",
   "name": "python",
   "nbconvert_exporter": "python",
   "pygments_lexer": "ipython3",
   "version": "3.10.2"
  },
  "orig_nbformat": 4
 },
 "nbformat": 4,
 "nbformat_minor": 2
}
