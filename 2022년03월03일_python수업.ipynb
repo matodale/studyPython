{
 "cells": [
  {
   "cell_type": "code",
   "execution_count": 1,
   "id": "a3acb214",
   "metadata": {},
   "outputs": [
    {
     "name": "stdout",
     "output_type": "stream",
     "text": [
      "== 1단계(기본 함수, 매개변수 없음) ==\n",
      "1\n",
      "2\n",
      "3\n",
      "4\n",
      "5\n",
      "6\n",
      "7\n",
      "8\n",
      "9\n",
      "10\n",
      "== 2단계(매개변수 1개) ==\n",
      "1\n",
      "2\n",
      "3\n",
      "4\n",
      "== 3단계(매개변수 2개) ==\n",
      "5\n",
      "6\n",
      "7\n",
      "8\n"
     ]
    }
   ],
   "source": [
    "print(\"== 1단계(기본 함수, 매개변수 없음) ==\")\n",
    "def print_1_to_10():\n",
    "    i = 1\n",
    "    while i <= 10:\n",
    "        print(i)\n",
    "        i += 1\n",
    "\n",
    "print_1_to_10()\n",
    "\n",
    "print(\"== 2단계(매개변수 1개) ==\")\n",
    "def print_1_to_m(m):\n",
    "    i = 1\n",
    "    while i <= m:\n",
    "        print(i)\n",
    "        i += 1\n",
    "\n",
    "print_1_to_m(4)\n",
    "\n",
    "print(\"== 3단계(매개변수 2개) ==\")\n",
    "def print_n_to_m(n, m):\n",
    "    i = n\n",
    "    while i <= m:\n",
    "        print(i)\n",
    "        i += 1\n",
    "\n",
    "print_n_to_m(5, 8)"
   ]
  },
  {
   "cell_type": "code",
   "execution_count": 2,
   "id": "a85d1f5e",
   "metadata": {},
   "outputs": [
    {
     "name": "stdout",
     "output_type": "stream",
     "text": [
      "1\n",
      "2\n",
      "4\n",
      "5\n",
      "10\n",
      "20\n",
      "25\n",
      "50\n",
      "100\n"
     ]
    }
   ],
   "source": [
    "# 문제 : 입력받은 정수의 모든 약수를 출력하는 함수를 구현해주세요.\n",
    "\n",
    "def print_divisors(num):\n",
    "    i = 1\n",
    "    # 구현\n",
    "    while i <= num: # 1 부터 num 까지 \n",
    "        if num%i == 0:\n",
    "            print(i)\n",
    "        i+=1\n",
    "print_divisors(100)"
   ]
  },
  {
   "cell_type": "code",
   "execution_count": 3,
   "id": "6284cd87",
   "metadata": {},
   "outputs": [
    {
     "name": "stdout",
     "output_type": "stream",
     "text": [
      "5\n",
      "8\n"
     ]
    }
   ],
   "source": [
    "# 함수 리턴 사용\n",
    "def plus(a,b):\n",
    "    print(a+b)\n",
    "    return a+b\n",
    "a = plus(2,3)\n",
    "a = a + 3\n",
    "print(a)"
   ]
  },
  {
   "cell_type": "code",
   "execution_count": 4,
   "id": "8d21485d",
   "metadata": {},
   "outputs": [
    {
     "name": "stdout",
     "output_type": "stream",
     "text": [
      "10\n",
      "10\n",
      "22\n",
      "55\n",
      "100\n",
      "25\n",
      "40\n",
      "70\n",
      "22\n",
      "25\n",
      "a+2= 4\n",
      "2\n"
     ]
    }
   ],
   "source": [
    "# 10을 리턴해주는 함수 완성\n",
    "def func1() :\n",
    "    return 10\n",
    "\n",
    "a = 10;\n",
    "print(a);\n",
    "\n",
    "#출력 : 10\n",
    "\n",
    "b = func1();\n",
    "print(b);\n",
    "\n",
    "#출력 : 10\n",
    "\n",
    "\n",
    "# 매개변수 값을 그대로 리턴해주는 함수 완성\n",
    "def func2(a):\n",
    "    return a\n",
    "\n",
    "c = func2(22);\n",
    "print(c);\n",
    "# 출력 : 22\n",
    "\n",
    "d = func2(55);\n",
    "print(d);\n",
    "# 출력 : 55\n",
    "\n",
    "\n",
    "# 매개변수 값을 제곱해서 리턴해주는 함수 완성\n",
    "def func3(a):\n",
    "    return a*a\n",
    "\n",
    "e = func3(10);\n",
    "print(e);\n",
    "# 출력 : 100\n",
    "\n",
    "f = func3(5);\n",
    "print(f);\n",
    "# 출력 : 25\n",
    "\n",
    "\n",
    "\n",
    "# 매개변수를 더해서 리턴해주는 함수 완성\n",
    "def func4(a, b):\n",
    "    return a+b\n",
    "g = func4(10, 30);\n",
    "print(g);\n",
    "# 출력 : 40\n",
    "\n",
    "h = func4(20, 50);\n",
    "print(h);\n",
    "# 출력 : 70\n",
    "\n",
    "def f(x):\n",
    "    a=1\n",
    "    b=2\n",
    "    c=a*b+x\n",
    "    print(c)\n",
    "    return c\n",
    "d = f(20)+3\n",
    "print(d)\n",
    "a=2\n",
    "print(\"a+2=\",a+2)\n",
    "print(a)"
   ]
  },
  {
   "cell_type": "code",
   "execution_count": 5,
   "id": "00571e96",
   "metadata": {},
   "outputs": [
    {
     "name": "stdout",
     "output_type": "stream",
     "text": [
      "3 더하기 5는 8 입니다.\n",
      "3 더하기 5 더하기 7은 15 입니다.\n",
      "10 빼기 5 는 5 입니다.\n",
      "10 곱하기 5 는 50 입니다.\n",
      "10 나누기 5 는 2.0 입니다.\n"
     ]
    }
   ],
   "source": [
    "# 문제 : 5칙연산을 수행하는 함수를 만들어주세요.\n",
    "\n",
    "# plus 함수 구현\n",
    "def plus(x, y):\n",
    "    z = x + y\n",
    "    return z\n",
    "\n",
    "print(\"3 더하기 5는 {} 입니다.\".format(plus(3, 5)))\n",
    "# 출력 => 3 더하기 5는 8 입니다.\n",
    "\n",
    "# plus_3_nums 함수 구현\n",
    "def plus_3_nums(x, y, z):\n",
    "    xyz = x+y+z\n",
    "    return xyz\n",
    "\n",
    "print(\"3 더하기 5 더하기 7은 {} 입니다.\".format(plus_3_nums(3, 5, 7)))\n",
    "# 출력 => 3 더하기 5 더하기 7은 15 입니다.\n",
    "\n",
    "# minus 함수 구현\n",
    "def minus(x, y):\n",
    "    z = x - y\n",
    "    return z\n",
    "\n",
    "print(\"10 빼기 5 는 {} 입니다.\".format(minus(10, 5)))\n",
    "# 출력 => 10 빼기 5 는 5 입니다.\n",
    "\n",
    "# multiply 함수 구현\n",
    "def multiply(x, y):\n",
    "    return x*y\n",
    "     \n",
    "print(\"10 곱하기 5 는 {} 입니다.\".format(multiply(10, 5)))\n",
    "# 출력 => 10 곱하기 5 는 50 입니다.\n",
    "\n",
    "# mod 함수 구현\n",
    "def mod(x,y):\n",
    "    return x/y\n",
    "print(\"10 나누기 5 는 {} 입니다.\".format(mod(10, 5)))"
   ]
  },
  {
   "cell_type": "code",
   "execution_count": 6,
   "id": "53c4759c",
   "metadata": {},
   "outputs": [
    {
     "name": "stdout",
     "output_type": "stream",
     "text": [
      "50도의 화씨온도 :50.0\n",
      "20도의 화씨온도 :68.0\n",
      "30도의 화씨온도 :86.0\n"
     ]
    }
   ],
   "source": [
    "# 문제 : 온도단위 섭씨를, 화씨로 바꿔주는, 함수 c_to_f 를 구현해주세요.\n",
    "# 조건 : 공식 = 섭씨온도 * (9 / 5) + 32 => 화씨온도\n",
    "\n",
    "def c_to_f(c):\n",
    "    f = 0 \n",
    "    # 구현\n",
    "    f = c *(9/5)+32\n",
    "    return f\n",
    "print(\"50도의 화씨온도 :\", end=\"\")\n",
    "print(c_to_f(10))\n",
    "# 출력 => 50.0\n",
    "print(\"20도의 화씨온도 :\", end=\"\")\n",
    "print(c_to_f(20))\n",
    "# 출력 => 68.0\n",
    "print(\"30도의 화씨온도 :\", end=\"\")\n",
    "print(c_to_f(30))\n",
    "# 출력 => 86.0"
   ]
  },
  {
   "cell_type": "code",
   "execution_count": 7,
   "id": "591f200c",
   "metadata": {},
   "outputs": [
    {
     "name": "stdout",
     "output_type": "stream",
     "text": [
      "정수 1000의 약수의 합 : 2340\n"
     ]
    }
   ],
   "source": [
    "# 문제 : 입력받은 정수의 모든 약수의 합을 리턴하는 함수를 구현해주세요.\n",
    "\n",
    "def get_divisors_sum(num):\n",
    "    s = 0\n",
    "    i = 1\n",
    "     \n",
    "    # 구현 \n",
    "    while i<=num: # 매개변수 num 만큼 i를 반복 한다.\n",
    "        if num%i == 0:\n",
    "            # i 가 증가 할때 마다 num를 나누어 0일때만 s를 계속 반복적으로 더해 준다.\n",
    "            s += i \n",
    "            i+=1\n",
    "        else:\n",
    "            i+=1\n",
    "    return s\n",
    "\n",
    "s = get_divisors_sum(1000)\n",
    "\n",
    "print(\"정수 1000의 약수의 합 : {}\".format(s))\n",
    "# 출력 => 정수 1000의 약수의 합 : 2340"
   ]
  },
  {
   "cell_type": "code",
   "execution_count": 8,
   "id": "c57edb97",
   "metadata": {},
   "outputs": [
    {
     "name": "stdout",
     "output_type": "stream",
     "text": [
      "짝수입니다.\n",
      "홀수입니다.\n",
      "홀수입니다.\n"
     ]
    }
   ],
   "source": [
    "# num이 홀수인지 짝수인지 판별해주는 함수 완성\n",
    "def is_even(num) :\n",
    "    if num%2 == 0 :\n",
    "        num = True # 짝수 일때\n",
    "    else:\n",
    "        num = False # 홀수 일때\n",
    "    return num\n",
    "def print_even(num) :\n",
    "    if is_even(num) == True:\n",
    "        print(\"짝수입니다.\")\n",
    "    else :\n",
    "        print(\"홀수입니다.\")\n",
    "\n",
    "print_even(2) # 짝수입니다.\n",
    "print_even(3) # 홀수입니다.\n",
    "print_even(5) # 홀수입니다."
   ]
  },
  {
   "cell_type": "code",
   "execution_count": 9,
   "id": "84c013d0",
   "metadata": {},
   "outputs": [
    {
     "name": "stdout",
     "output_type": "stream",
     "text": [
      "1은 소수입니다 : False\n",
      "3은 소수입니다 : True\n",
      "4는 소수입니다 : False\n",
      "7는 소수입니다 : True\n",
      "1000은 소수입니다 : False\n"
     ]
    }
   ],
   "source": [
    "# 문제 : 입력받은 정수가 소수인지 아닌지 알려주는 함수를 구현해주세요.\n",
    "# 반복문 쓰지 않고 판별\n",
    "def is_prime_number(num):\n",
    "    i = 2    \n",
    "    if num%i==0 or num==1:\n",
    "        return False\n",
    "    else :\n",
    "        return True\n",
    "# 반복문 써서 판별\n",
    "def is_prime_number2(num):\n",
    "    i = 2\n",
    "    while i < num:\n",
    "        if num % i == 0:\n",
    "            return False\n",
    "        i += 1\n",
    "    return True\n",
    "# 반복문 써서 판별\n",
    "def gsum(num):\n",
    "    s=0\n",
    "    i=1\n",
    "    while i<=num:\n",
    "        if num&i == 0:\n",
    "            s+=i\n",
    "        i+=1\n",
    "    return s\n",
    "print(\"1은 소수입니다 : {}\".format(is_prime_number(1)))\n",
    "print(\"3은 소수입니다 : {}\".format(is_prime_number(3)))\n",
    "print(\"4는 소수입니다 : {}\".format(is_prime_number(4)))\n",
    "print(\"7는 소수입니다 : {}\".format(is_prime_number(7)))\n",
    "print(\"1000은 소수입니다 : {}\".format(is_prime_number(1000)))"
   ]
  },
  {
   "cell_type": "code",
   "execution_count": 10,
   "id": "90e13bd8",
   "metadata": {},
   "outputs": [
    {
     "name": "stdout",
     "output_type": "stream",
     "text": [
      "결과 : 1683\n"
     ]
    }
   ],
   "source": [
    "# 문제 : 1 ~ n까지의 수중 3의 배수의 합을 구해주세요.\n",
    "\n",
    "# 어떤수가 3의 배수인지 아닌지 체크하는 함수\n",
    "def is_three_multiple(num) :\n",
    "    if num % 3 == 0:\n",
    "        return True\n",
    "    else :\n",
    "        return False\n",
    "    \n",
    "# 1 ~ n까지의 수중 3의 배수의 합을 구하는 함수\n",
    "def get_sum_of_three_multiple(n) :\n",
    "    s=0\n",
    "    i=1\n",
    "    while i<=n:\n",
    "        if is_three_multiple(i) == True:\n",
    "            s += i\n",
    "            i += 1\n",
    "        else:\n",
    "            i += 1\n",
    "    return s\n",
    "    \n",
    "        \n",
    "result = get_sum_of_three_multiple(100)\n",
    "print(\"결과 : {}\".format(result));\n",
    "# 출력 => 1683\n"
   ]
  },
  {
   "cell_type": "code",
   "execution_count": 11,
   "id": "fd1a240a",
   "metadata": {},
   "outputs": [
    {
     "name": "stdout",
     "output_type": "stream",
     "text": [
      "12:12\n",
      "12:12\n"
     ]
    }
   ],
   "source": [
    "a, b = input().split(':')\n",
    "print(a, b, sep=':')"
   ]
  },
  {
   "cell_type": "code",
   "execution_count": 12,
   "id": "9250e936",
   "metadata": {},
   "outputs": [
    {
     "name": "stdout",
     "output_type": "stream",
     "text": [
      "2202.20.02\n",
      "02-20-2202\n"
     ]
    }
   ],
   "source": [
    "y, m, d = input().split('.')\n",
    "print(d,m,y,sep='-')"
   ]
  },
  {
   "cell_type": "code",
   "execution_count": 13,
   "id": "2deba1b9",
   "metadata": {},
   "outputs": [
    {
     "name": "stdout",
     "output_type": "stream",
     "text": [
      "860618-1409615\n",
      "8606181409615\n"
     ]
    }
   ],
   "source": [
    "a, b=input().split('-')\n",
    "print(a[:6]+b[:7])"
   ]
  },
  {
   "cell_type": "code",
   "execution_count": null,
   "id": "54b19a47",
   "metadata": {},
   "outputs": [],
   "source": []
  }
 ],
 "metadata": {
  "kernelspec": {
   "display_name": "Python 3 (ipykernel)",
   "language": "python",
   "name": "python3"
  },
  "language_info": {
   "codemirror_mode": {
    "name": "ipython",
    "version": 3
   },
   "file_extension": ".py",
   "mimetype": "text/x-python",
   "name": "python",
   "nbconvert_exporter": "python",
   "pygments_lexer": "ipython3",
   "version": "3.9.7"
  }
 },
 "nbformat": 4,
 "nbformat_minor": 5
}
