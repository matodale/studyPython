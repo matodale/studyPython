{
 "cells": [
  {
   "cell_type": "markdown",
   "id": "6fb469b9",
   "metadata": {},
   "source": [
    "## 2022년 03월 15일 파이썬 수업\n",
    "* 코드업 문제"
   ]
  },
  {
   "cell_type": "code",
   "execution_count": 1,
   "id": "1ec34c28",
   "metadata": {},
   "outputs": [
    {
     "name": "stdout",
     "output_type": "stream",
     "text": [
      "f\n",
      "17\n"
     ]
    }
   ],
   "source": [
    "# 16진수를 입력받아 8진수(octal)로 출력해보자.\n",
    "a = input()\n",
    "n = int(a, 16)      # 입력된 a를 16진수로 인식해 변수 n에 저장\n",
    "print('%o' % n)  # n에 저장되어있는 값을 8진수(octal) 형태 문자열로 출력\n",
    "\n",
    "# 참고\n",
    "# 8진법은 한 자리에 8개(0 1 2 3 4 5 6 7)의 문자를 사용한다.\n",
    "# 8진수 10은 10진수의 8, 11은 9, 12는 10 ... 와 같다."
   ]
  },
  {
   "cell_type": "markdown",
   "id": "10d9596a",
   "metadata": {},
   "source": [
    "* 영문자 1개를 입력받아 10진수 유니코드(Unicode) 값으로 출력해보자.\n",
    "\n",
    "* 예시\n",
    "```\n",
    "n = ord(input())\n",
    "print(n)\n",
    "```\n",
    "* 참고\n",
    "```\n",
    "n = ord(input())  \n",
    "```\n",
    "* 입력받은 문자를 10진수 유니코드 값으로 변환한 후, n에 저장한다.\n",
    "```\n",
    "ord( ) 는 어떤 문자의 순서 위치(ordinal position) 값을 의미한다.  \n",
    "실제로 각각의 문자들에는 연속된 정수 값이 순서에 따라 부여 되어 있다. A:65, B:66, C:67 .... \n",
    "ord(c) : 문자 c 를 10진수로 변환한 값 \n",
    "\n",
    "컴퓨터로 저장되고 처리되는 모든 데이터들은 2진수 형태로 정수화 되어야 하는데,\n",
    "컴퓨터에 문자를 저장하는 방법으로 아스키코드(ASCII Code)나 유니코드(Unicode)가 자주 사용된다.\n",
    "\n",
    "예를 들어, 영문 대문자 'A'는 10진수 값 65 로 표현하고, \n",
    "2진수(binary digit) 값 1000001 로 바꾸어 컴퓨터 내부에 저장한다. \n",
    "\n",
    "유니코드(unicode)는 세계 여러 나라의 문자를 공통된 코드 값으로 저장할 때 사용하는 표준 코드이다.\n",
    "```"
   ]
  },
  {
   "cell_type": "code",
   "execution_count": 3,
   "id": "d0b31d28",
   "metadata": {},
   "outputs": [
    {
     "name": "stdout",
     "output_type": "stream",
     "text": [
      "97\n",
      "98\n",
      "99\n",
      "100\n",
      "101\n",
      "102\n",
      "103\n",
      "104\n",
      "105\n",
      "106\n",
      "107\n",
      "108\n",
      "109\n",
      "110\n",
      "111\n",
      "112\n",
      "113\n",
      "114\n",
      "115\n",
      "116\n",
      "117\n",
      "118\n",
      "119\n",
      "120\n",
      "121\n",
      "122\n",
      "A\n",
      "B\n",
      "C\n",
      "D\n",
      "E\n",
      "F\n",
      "G\n",
      "H\n",
      "I\n",
      "J\n",
      "K\n",
      "L\n",
      "M\n",
      "N\n",
      "O\n",
      "P\n",
      "Q\n",
      "R\n",
      "S\n",
      "T\n",
      "U\n",
      "V\n",
      "W\n",
      "X\n",
      "Y\n",
      "Z\n"
     ]
    }
   ],
   "source": [
    "# ord() // 유니코드 값으로 바꾸는 함수 \n",
    "# chr() // 유니코드 값을 문자로 바꾸는 함수\n",
    "for i in range(ord('a'),ord('z')+1):\n",
    "    print(i)\n",
    "for i in range(65, 91):\n",
    "    print(chr(i))"
   ]
  },
  {
   "cell_type": "markdown",
   "id": "014843db",
   "metadata": {},
   "source": [
    "### 딕셔너리란?\n",
    "***\n",
    "사람은 누구든지 \"이름\" = \"홍길동\", \"생일\" = \"몇 월 며칠\" 등으로 구별할 수 있다.   \n",
    "파이썬은 영리하게도 이러한 대응 관계를 나타낼 수 있는 자료형을 가지고 있다.   \n",
    "요즘 사용하는 대부분의 언어도 이러한 대응 관계를 나타내는 자료형을 갖고 있는데, 이를 연관 배열(Associative array) 또는 해시(Hash)라고 한다.  \n",
    "  \n",
    "파이썬에서는 이러한 자료형을 딕셔너리(Dictionary)라고 하는데, 단어 그대로 해석하면 사전이라는 뜻이다.   \n",
    "즉 \"people\"이라는 단어에 \"사람\", \"baseball\"이라는 단어에 \"야구\"라는 뜻이 부합되듯이 딕셔너리는 Key와 Value를 한 쌍으로 갖는 자료형이다.   \n",
    "예컨대 Key가 \"baseball\"이라면 Value는 \"야구\"가 될 것이다.  \n",
    "  \n",
    "딕셔너리는 리스트나 튜플처럼 순차적으로(sequential) 해당 요솟값을 구하지 않고 Key를 통해 Value를 얻는다.    \n",
    "이것이 바로 딕셔너리의 가장 큰 특징이다.  \n",
    "baseball이라는 단어의 뜻을 찾기 위해 사전의 내용을 순차적으로 모두 검색하는 것이 아니라 baseball이라는 단어가 있는 곳만 펼쳐 보는 것이다.  \n"
   ]
  },
  {
   "cell_type": "markdown",
   "id": "a050bdb6",
   "metadata": {},
   "source": [
    "딕셔너리 : 사람이 알아보기 쉬운 데이터로 매핑, 순서가 없기 때문에 일괄처리하는데 취약\n",
    "\n",
    "리스트이름 = [값1, 값2, 값3 ....]  \n",
    "딕셔너리이름 = {키1 : 값1 , 키2 : 값2 .....}"
   ]
  },
  {
   "cell_type": "code",
   "execution_count": 4,
   "id": "6531260d",
   "metadata": {},
   "outputs": [
    {
     "name": "stdout",
     "output_type": "stream",
     "text": [
      "대전\n",
      "{'고향': '대전', '이름': '고길동'}\n",
      "고길동\n"
     ]
    }
   ],
   "source": [
    "city = {\"고향\" : \"대전\", \"이름\" : \"고길동\"}\n",
    "\n",
    "print(city[\"고향\"])\n",
    "print(city)\n",
    "print(city[\"이름\"])"
   ]
  },
  {
   "cell_type": "code",
   "execution_count": 5,
   "id": "ddd16ade",
   "metadata": {},
   "outputs": [
    {
     "name": "stdout",
     "output_type": "stream",
     "text": [
      "{'1월': 31, '2월': 28, '3월': 31}\n",
      "31\n"
     ]
    }
   ],
   "source": [
    "# 문제 : 딕셔너리에 각 달의 마지막 날들을 한번에 담기\n",
    "# 조건 : 1월 ~ 3월까지\n",
    "# 조건 : 2월의 마지막은 28일로 함\n",
    "# 조건 : 첫 데이터의 key는 \"1월\", value는 31일\n",
    "\n",
    "dayEnd = { \"1월\" : 31 , \"2월\" : 28 , \"3월\":31 }\n",
    "print(dayEnd) # 중복 값일 경우 생략을 한다.\n",
    "print(dayEnd[\"1월\"])"
   ]
  },
  {
   "cell_type": "code",
   "execution_count": 6,
   "id": "d138cd82",
   "metadata": {},
   "outputs": [
    {
     "name": "stdout",
     "output_type": "stream",
     "text": [
      "{'1월': 31, '2월': 28, '3월': 31, '4월': 30, '5월': 31, '6월': 30, '7월': 31, '8월': 31, '9월': 30, '10월': 31, '11월': 30, '12월': 31}\n"
     ]
    }
   ],
   "source": [
    "# 문제 : 딕셔너리에 각 달의 마지막 날들을 반복문을 통해 담기\n",
    "# 반복문 while문 , for문 사용\n",
    "# 4 6 9 11 월은 30로 저장\n",
    "# 나머지 월은 31, 또한 2월은 28일로 저장\n",
    "month = {}\n",
    "i = 1\n",
    "\n",
    "while i<=12 :\n",
    "    if i in [4, 6, 9, 11]: # 리스트에 값 일때 Ture일 경우 해당 명령 실행\n",
    "        month[str(i)+\"월\"] = 30\n",
    "        i+=1\n",
    "    elif i == 2 :\n",
    "        month[str(i)+\"월\"] = 28\n",
    "        i+=1\n",
    "    else:\n",
    "        month[str(i)+\"월\"] = 31\n",
    "        i+=1\n",
    "print(month)"
   ]
  },
  {
   "cell_type": "code",
   "execution_count": 7,
   "id": "9b617e02",
   "metadata": {},
   "outputs": [
    {
     "name": "stdout",
     "output_type": "stream",
     "text": [
      "{'1월': 31, '2월': 28, '3월': 31, '4월': 30, '5월': 31, '6월': 30, '7월': 31, '8월': 31, '9월': 30, '10월': 31, '11월': 30, '12월': 31}\n"
     ]
    }
   ],
   "source": [
    "month = {}\n",
    "for i in range(1, 13):\n",
    "    if i == 4 or i == 6 or i == 9 or i == 11:\n",
    "        month[str(i)+\"월\"] = 30\n",
    "    elif i == 2 :\n",
    "        month[str(i)+\"월\"] = 28\n",
    "    else:\n",
    "        month[str(i)+\"월\"] = 31\n",
    "print(month)"
   ]
  },
  {
   "cell_type": "code",
   "execution_count": 8,
   "id": "cc328819",
   "metadata": {},
   "outputs": [
    {
     "name": "stdout",
     "output_type": "stream",
     "text": [
      "{'1월': 31, '2월': 28, '3월': 31, '4월': 30, '5월': 31, '6월': 30, '7월': 31, '8월': 31, '9월': 30, '10월': 31, '11월': 30, '12월': 31}\n"
     ]
    }
   ],
   "source": [
    "month = {}\n",
    "month_list = [31,28,31,30,31,30,31,31,30,31,30,31]\n",
    "for i, j in enumerate(month_list):\n",
    "    month_day = str(i+1) +\"월\"\n",
    "    month[month_day] = j\n",
    "print(month)"
   ]
  },
  {
   "cell_type": "code",
   "execution_count": 9,
   "id": "e7733c1e",
   "metadata": {},
   "outputs": [
    {
     "name": "stdout",
     "output_type": "stream",
     "text": [
      "31\n",
      "28\n",
      "31\n",
      "dict_keys(['1월', '2월', '3월'])\n"
     ]
    }
   ],
   "source": [
    "# 문제 : 딕셔너리에 각 달의 마지막 날들을 한번에 담고, 수작업으로 순회출력\n",
    "# 조건 : 1월부터 3월까지만 담고 출력해주세요\n",
    "m = {}\n",
    "m[\"1월\"] = 31\n",
    "m[\"2월\"] = 28\n",
    "m[\"3월\"] = 31\n",
    "\n",
    "print(m[\"1월\"])\n",
    "print(m[\"2월\"])\n",
    "print(m[\"3월\"])\n",
    "\n",
    "a = m.keys() # 해당 키의 값을 가져옴.\n",
    "print(a)"
   ]
  },
  {
   "cell_type": "code",
   "execution_count": 10,
   "id": "6a1b5d36",
   "metadata": {},
   "outputs": [
    {
     "name": "stdout",
     "output_type": "stream",
     "text": [
      "1월\n",
      "2월\n",
      "3월\n"
     ]
    }
   ],
   "source": [
    "# 문제 : 딕셔너리에 각 달의 마지막 날들을 한번에 담고, keys()로 key 순회출력\n",
    "m = {}\n",
    "m[\"1월\"] = 31\n",
    "m[\"2월\"] = 28\n",
    "m[\"3월\"] = 31\n",
    "\n",
    "for i in m.keys():\n",
    "    print(i)\n",
    "# for i in m :\n",
    "#   print(i)"
   ]
  },
  {
   "cell_type": "code",
   "execution_count": null,
   "id": "1720c303",
   "metadata": {},
   "outputs": [],
   "source": []
  }
 ],
 "metadata": {
  "kernelspec": {
   "display_name": "Python 3 (ipykernel)",
   "language": "python",
   "name": "python3"
  },
  "language_info": {
   "codemirror_mode": {
    "name": "ipython",
    "version": 3
   },
   "file_extension": ".py",
   "mimetype": "text/x-python",
   "name": "python",
   "nbconvert_exporter": "python",
   "pygments_lexer": "ipython3",
   "version": "3.9.7"
  }
 },
 "nbformat": 4,
 "nbformat_minor": 5
}
