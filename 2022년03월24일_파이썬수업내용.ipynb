{
 "cells": [
  {
   "cell_type": "markdown",
   "metadata": {},
   "source": [
    "```\n",
    "git config --global user.name \"matodale\"\n",
    "git config --global user.email \"sowo10@naver.com\"\n",
    "git init\n",
    "git add *\n",
    "git add *\n",
    "git status\n",
    "git commint -m \"hello\"\n",
    "git remote add origin http://github.com/matodale/studyPython\n",
    "git push origin master\n",
    "```"
   ]
  },
  {
   "cell_type": "code",
   "execution_count": 1,
   "metadata": {},
   "outputs": [
    {
     "name": "stdout",
     "output_type": "stream",
     "text": [
      "c:\\Users\\Administrator\\Jupyter_noteBook\\studyPython\n"
     ]
    }
   ],
   "source": [
    "# test2.text 파일을 생성해주세요\n",
    "# 파일 5개를 반복문을 사용하여 생성해주세요\n",
    "# test2.text에 hello world 가 저장되게 해주세요.\n",
    "# 반복문을 이용해 생성한 test3.txt 줄바꿈을 적용해서 \n",
    "# 안녕하세요. 저는 홍길동 입니다.\n",
    "# 잘 부탁 드립니다. test3.txt에 저장\n",
    "\n",
    "import os # 현재의 운영체제 모듈\n",
    "print(os.getcwd()) # 현재 디렉토리를 출력한다.\n",
    "file1 = open(\"text2.txt\" , \"wt\") # 파일을 생성하고 작성합니다.\n",
    "file1.write(\"Hello World\")\n",
    "file1.close()\n"
   ]
  },
  {
   "cell_type": "code",
   "execution_count": 2,
   "metadata": {},
   "outputs": [],
   "source": [
    "for i in range(3 , 8):\n",
    "    filename = \"text\"+str(i)+\".txt\"\n",
    "    open(filename, \"wt\")\n",
    "    "
   ]
  },
  {
   "cell_type": "code",
   "execution_count": 13,
   "metadata": {},
   "outputs": [],
   "source": [
    "f2 = open(\"text2.txt\" , \"wt\")\n",
    "f2.write(\"Hello World\")\n",
    "f2.close()"
   ]
  },
  {
   "cell_type": "code",
   "execution_count": 15,
   "metadata": {},
   "outputs": [],
   "source": [
    "f3 = open(\"text3.txt\" , \"wt\", encoding=\"utf-8\") # 인코딩을 해줘야 작성이 완료됨.\n",
    "f3.write(\"안녕하세요.\\n저는 홍길동 입니다.\\n잘 부탁드립니다.\\n\")\n",
    "f3.close()"
   ]
  },
  {
   "cell_type": "code",
   "execution_count": 20,
   "metadata": {},
   "outputs": [],
   "source": [
    "# 리스트에 있는 내용을 text4.txt에 저장을 해주세요.\n",
    "li = [\"사과\", \"배\", \"바나나\", \"딸기\"]\n",
    "f4 = open(\"text4.txt\", \"wt\", encoding=\"utf-8\")\n",
    "for i in li: # 리스트, 튜플, 문자열을 범위로 지정\n",
    "    f4.write(str(i)+\"\\n\") # 배열 번호를 이용하여 리스트에 있는 것을 저장.\n",
    "f4.close()"
   ]
  },
  {
   "cell_type": "code",
   "execution_count": 12,
   "metadata": {},
   "outputs": [
    {
     "name": "stdout",
     "output_type": "stream",
     "text": [
      "버림하기전에 원래값은 1.6666666666666667이다.\n",
      "버림값은 1이다.\n"
     ]
    }
   ],
   "source": [
    "import math\n",
    "# trunc() 버림 함수\n",
    "n1 = 3\n",
    "n2 = 5\n",
    "print(\"버림하기전에 원래값은 {}이다.\".format(n2/n1))\n",
    "n3 = math.trunc(n2/n1)\n",
    "print(\"버림값은 {}이다.\".format(n3))"
   ]
  },
  {
   "cell_type": "code",
   "execution_count": 13,
   "metadata": {},
   "outputs": [
    {
     "name": "stdout",
     "output_type": "stream",
     "text": [
      "2\n",
      "총 1 페이지까지 필요합니다.\n"
     ]
    }
   ],
   "source": [
    "# ceil() 본인보다 큰 가장 가까운 정수를 찾아준다.\n",
    "# 3.1  = 4, 3.6 = 4\n",
    "n4 = math.ceil(n2/n1)\n",
    "print(n4)\n",
    "\n",
    "cnt = int(input(\"총 몇 건의 데이터를 입력 받을까요?\")) # 문자열로 저장\n",
    "# 한 페이지에는 10개의 데어터만 보여줄 수 있다.\n",
    "page = math.ceil(cnt/10)\n",
    "print(\"총 %s 페이지까지 필요합니다.\" %page)"
   ]
  },
  {
   "cell_type": "code",
   "execution_count": 11,
   "metadata": {},
   "outputs": [
    {
     "name": "stdout",
     "output_type": "stream",
     "text": [
      "3.4보다 작으면서 가장 가까운 정수는 3 입니다.\n",
      "4.5보다 작으면서 가장 가까운 정수는 4 입니다.\n"
     ]
    }
   ],
   "source": [
    "# floor() 주어진 숫자보다 작고 가장 가까운 정수를 찾아주는 함수\n",
    "import math\n",
    "re1,re2 = input(\"두 개의 데이터를 공백을 이용하여 숫자를 넣어주세요\").split()\n",
    "re1 = eval(re1)\n",
    "re2 = eval(re2)\n",
    "# 나눗셈을 하여 출력하자\n",
    "page1 = math.floor(re1)\n",
    "page2 = math.floor(re2)\n",
    "re1 = str(re1)\n",
    "re2 = str(re2)\n",
    "print(re1+\"보다 작으면서 가장 가까운 정수는 %d 입니다.\" %page1)\n",
    "print(re2+\"보다 작으면서 가장 가까운 정수는 %d 입니다.\" %page2)"
   ]
  },
  {
   "cell_type": "code",
   "execution_count": 79,
   "metadata": {},
   "outputs": [
    {
     "name": "stdout",
     "output_type": "stream",
     "text": [
      "[1, 2, 3, 4, 5, 6, 7, 8, 9]\n"
     ]
    }
   ],
   "source": [
    "# openpyxl 모듈 가져옴\n",
    "from openpyxl import *\n",
    "\n",
    "# 액셀추가\n",
    "w1 = Workbook()\n",
    "ws = w1.active\n",
    "\n",
    "# 엑셀저장\n",
    "w1.save(\"test1.xlsx\")\n",
    "\n",
    "# 엑셀로드\n",
    "w2 = load_workbook(\"test1.xlsx\")\n",
    "ws2 = w2.active\n",
    "\n",
    "# 원하는 만큼 액셀 편집.\n",
    "ws2[\"A1\"] = \"Hello World\"\n",
    "w2.save(\"test1.xlsx\")\n",
    "\n",
    "ws2[\"D3\"] = \"hahaha\"\n",
    "w2.save(\"test1.xlsx\")\n",
    "num = 1\n",
    "for row in ws2[\"A1\":\"C3\"]:\n",
    "    for cell in row:\n",
    "        cell.value = num\n",
    "        num+=1\n",
    "w2.save(\"test1.xlsx\")\n",
    "li = []\n",
    "for row in ws2.iter_rows(min_row=1, min_col=1, max_row=3, max_col=3): # 값을 리스트로 저장됨.\n",
    "    for cell in row:\n",
    "        li.append(cell.value)\n",
    "print(li)"
   ]
  },
  {
   "cell_type": "code",
   "execution_count": 82,
   "metadata": {},
   "outputs": [],
   "source": [
    "# 새로운 시트 만들기(신규 엑셀 시트 생성)\n",
    "# 새로운 시트는 마지막 탭에 생성합니다.\n",
    "wsnew = w2.create_sheet() # 새로운 시트 생성\n",
    "ws2.title = \"1번_시트\" # 시트 타이틀 변경\n",
    "w2.save(\"test1.xlsx\")"
   ]
  },
  {
   "cell_type": "code",
   "execution_count": 84,
   "metadata": {},
   "outputs": [],
   "source": [
    "wsnew = w2.create_sheet(\"0번_시트\", 0) # 원하는 위치에 시트 생성함. 0부터 시작합니다.\n",
    "w2.save(\"test1.xlsx\")"
   ]
  },
  {
   "cell_type": "code",
   "execution_count": 87,
   "metadata": {},
   "outputs": [
    {
     "name": "stdout",
     "output_type": "stream",
     "text": [
      "1\n",
      "1\n",
      "3\n"
     ]
    }
   ],
   "source": [
    "list1 = [1,2,3,4,5,6,7,8,9,10]\n",
    "tuple1 = (1,2,3,4,5,6,7)\n",
    "\n",
    "print(list1[0])\n",
    "print(tuple1[0])\n",
    "# 리스트 수정\n",
    "list1[0] = 3\n",
    "print(list1[0])"
   ]
  },
  {
   "cell_type": "code",
   "execution_count": 97,
   "metadata": {},
   "outputs": [],
   "source": [
    "# 엑셀을 딕셔너리를 이용하여 DB만들기\n",
    "'''\n",
    "1. 딕셔너리 만들기\n",
    "2. 딕셔너리가 들어있는 리스트 만들기\n",
    "3. 엑셀 파일 생성\n",
    "4. 헤더만들기\n",
    "5. 데이터 삽입\n",
    "'''\n",
    "list_item1 = {\"품목\" : \"바나나\", \"가격\" : 5000, \"수량\" : 1, \"날짜\" : \"2022년03월24일\"}\n",
    "list_item2 = {\"품목\" : \"커피\", \"가격\" : 3000, \"수량\" : 2, \"날짜\" : \"2022년03월25일\"}\n",
    "list_item3 = {\"품목\" : \"책\", \"가격\" : 15000, \"수량\" : 1, \"날짜\" : \"2022년03월26일\"}\n",
    "list_item4 = {\"품목\" : \"팬\", \"가격\" : 2000, \"수량\" : 4, \"날짜\" : \"2022년03월27일\"}\n",
    "\n",
    "li1 = [list_item1, list_item2, list_item3, list_item4]\n"
   ]
  },
  {
   "cell_type": "code",
   "execution_count": 99,
   "metadata": {},
   "outputs": [],
   "source": [
    "# openpyxl 모듈 가져옴\n",
    "from openpyxl import *\n",
    "# 액셀추가\n",
    "newfile1 = Workbook()\n",
    "file1 = newfile1.active\n",
    "# 헤더 만들기\n",
    "file1[\"A1\"] = \"품목\"\n",
    "file1[\"B1\"] = \"가격\"\n",
    "file1[\"C1\"] = \"수량\"\n",
    "file1[\"D1\"] = \"날짜\"\n",
    "j = 2\n",
    "for i in li1:\n",
    "    file1[\"A\"+str(j)] = i[\"품목\"]\n",
    "    file1[\"B\"+str(j)] = i[\"가격\"]\n",
    "    file1[\"C\"+str(j)] = i[\"수량\"]\n",
    "    file1[\"D\"+str(j)] = i[\"날짜\"]\n",
    "    j+=1\n",
    "# 엑셀저장\n",
    "newfile1.save(\"test2.xlsx\")\n"
   ]
  },
  {
   "cell_type": "code",
   "execution_count": 100,
   "metadata": {},
   "outputs": [
    {
     "name": "stdout",
     "output_type": "stream",
     "text": [
      "지금부터 5초후에\n",
      "출력\n"
     ]
    }
   ],
   "source": [
    "import time\n",
    "print(\"지금부터 5초후에\")\n",
    "time.sleep(5)\n",
    "print(\"출력\")"
   ]
  }
 ],
 "metadata": {
  "interpreter": {
   "hash": "4e0b39fdc4f2df2992ef135d097972ec225e019845a073717c5b1bc8df292c8a"
  },
  "kernelspec": {
   "display_name": "Python 3.10.2 64-bit",
   "language": "python",
   "name": "python3"
  },
  "language_info": {
   "codemirror_mode": {
    "name": "ipython",
    "version": 3
   },
   "file_extension": ".py",
   "mimetype": "text/x-python",
   "name": "python",
   "nbconvert_exporter": "python",
   "pygments_lexer": "ipython3",
   "version": "3.10.2"
  },
  "orig_nbformat": 4
 },
 "nbformat": 4,
 "nbformat_minor": 2
}
