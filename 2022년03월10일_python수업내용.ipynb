{
 "cells": [
  {
   "cell_type": "code",
   "execution_count": 1,
   "id": "412d577c",
   "metadata": {},
   "outputs": [],
   "source": [
    "# a,b=input().split()\n",
    "# s=int(a)+int(b)\n",
    "# print(s)"
   ]
  },
  {
   "cell_type": "code",
   "execution_count": 2,
   "id": "e583cf03",
   "metadata": {},
   "outputs": [],
   "source": [
    "# a=input()\n",
    "# b=input()\n",
    "# s=float(a)+float(b)\n",
    "# print(s)"
   ]
  },
  {
   "cell_type": "code",
   "execution_count": 3,
   "id": "5fb8a66f",
   "metadata": {},
   "outputs": [],
   "source": [
    "# a=input()\n",
    "# n=int(a)\n",
    "# print('%x'% n)"
   ]
  },
  {
   "cell_type": "code",
   "execution_count": 4,
   "id": "c45a0f02",
   "metadata": {},
   "outputs": [],
   "source": [
    "# a = input()\n",
    "# n = int(a, 16)\n",
    "# print('%o'% n)"
   ]
  },
  {
   "cell_type": "code",
   "execution_count": 6,
   "id": "55449323",
   "metadata": {},
   "outputs": [
    {
     "name": "stdout",
     "output_type": "stream",
     "text": [
      "오늘은 무슨 요일인가요? :월요알\n",
      "월요알\n"
     ]
    }
   ],
   "source": [
    "day = input('오늘은 무슨 요일인가요? :')\n",
    "print(day)"
   ]
  },
  {
   "cell_type": "code",
   "execution_count": 7,
   "id": "a6d897e8",
   "metadata": {},
   "outputs": [
    {
     "name": "stdout",
     "output_type": "stream",
     "text": [
      "\n",
      "1. 서울  2. 대전\n",
      "3. 부산  4. 제주\n",
      "위 지역중에 마음에 드는 번호를 선택해주세요 : \n",
      "12\n",
      "문자를 입력해 주세요 : 12\n"
     ]
    }
   ],
   "source": [
    "# 문제 - 사용자에게 문장 1개를 입력받아서, 출력해주세요.\n",
    "# print(\"문자를 입력해 주세요 : \", end = '')\n",
    "a = input('''\n",
    "1. 서울  2. 대전\n",
    "3. 부산  4. 제주\n",
    "위 지역중에 마음에 드는 번호를 선택해주세요 : \n",
    "''')\n",
    "print(\"문자를 입력해 주세요 : \", end = '')\n",
    "print(a)"
   ]
  },
  {
   "cell_type": "markdown",
   "id": "a80487ec",
   "metadata": {},
   "source": [
    "## 문자열 나누기\n",
    "* split() 함수\n",
    "    * 문자열 나누기\n",
    "    * 배열 형식으로 출력함.\n",
    "***"
   ]
  },
  {
   "cell_type": "code",
   "execution_count": 8,
   "id": "62d60dce",
   "metadata": {},
   "outputs": [
    {
     "name": "stdout",
     "output_type": "stream",
     "text": [
      "123,1234,123\n",
      "['123', '1234', '123']\n",
      "['011', '1232', '1234']\n",
      "['011', '1232-1234']\n"
     ]
    }
   ],
   "source": [
    "# 문제 - 사용자에게 문장 1개를 입력받아서, ','를 기준으로 나눠주세요.\n",
    "a=input().split(',')\n",
    "print(a)\n",
    "a= '011-1232-1234'\n",
    "print(a.split('-'))\n",
    "print(a.split('-',1))"
   ]
  },
  {
   "cell_type": "code",
   "execution_count": 9,
   "id": "0df0a3a3",
   "metadata": {},
   "outputs": [
    {
     "name": "stdout",
     "output_type": "stream",
     "text": [
      "['파이썬', 'C언어', '자바', 'HTML']\n",
      "파이썬은객체생성이가능한언어이다.\n",
      "파\n",
      "파이썬\n",
      "파썬객생\n",
      "이다\n"
     ]
    }
   ],
   "source": [
    "# 파이썬, C언어, 자바, HTML을 콤마(,)로 나누어 주세요\n",
    "a='파이썬,C언어,자바,HTML'\n",
    "print(a.split(','))\n",
    "\n",
    "# b = input('문장을 입력해주세요 :')\n",
    "# 파이썬, C언어, 자바, HTML 을 입력\n",
    "# print(b.split(','))\n",
    "\n",
    "c = '파이썬은객체생성이가능한언어이다.'\n",
    "print(c)\n",
    "print(c[0])\n",
    "print(c[:3])\n",
    "print(c[:8:2])\n",
    "print(c[-3:-1])\n",
    "# 문자열 슬라이싱 : 문자열 [시작 숫자 : 끝 숫자]\n",
    "# 출력은 끝 숫자의 -1 까지만 출력, 0 부터 시작"
   ]
  },
  {
   "cell_type": "code",
   "execution_count": 10,
   "id": "7a316f2e",
   "metadata": {},
   "outputs": [
    {
     "name": "stdout",
     "output_type": "stream",
     "text": [
      "ring world\n",
      "RING WORLD\n",
      "Hello Python\n",
      "Hello Python     \n",
      "      Hello Python\n",
      "바꾸기-바꾸기-바꾸기51-14바꾸기4\n"
     ]
    }
   ],
   "source": [
    "# lower(), upper()\n",
    "a = 'RING WORLD'\n",
    "b = '      Hello Python     '\n",
    "print(a.lower()) # 문자열을 소문자로만 출력\n",
    "print(a.upper()) # 문자열을 대문자로만 출력\n",
    "# strip() 양쪽 공백을 다 제거함\n",
    "print(b.strip())\n",
    "# lstrip() 왼쪽 공백 제거\n",
    "print(b.lstrip())\n",
    "# rstrip() 오른쪽 공백 제거\n",
    "print(b.rstrip())\n",
    "# replace() 문자열에서 내용 수정하기\n",
    "c = '123-123-12351-141234'\n",
    "print(c.replace(\"123\", \"바꾸기\"))"
   ]
  },
  {
   "cell_type": "code",
   "execution_count": 11,
   "id": "8a187449",
   "metadata": {},
   "outputs": [
    {
     "name": "stdout",
     "output_type": "stream",
     "text": [
      "3\n"
     ]
    }
   ],
   "source": [
    "# 문자열 길이 구하는 함수 len('문자열')\n",
    "a = '123'\n",
    "print(len(a))"
   ]
  },
  {
   "cell_type": "code",
   "execution_count": 18,
   "id": "07370c07",
   "metadata": {},
   "outputs": [
    {
     "name": "stdout",
     "output_type": "stream",
     "text": [
      "12312,4 234 4342, 2434,4242,34 ,432\n",
      "['12312', '4 234 4342', ' 2434', '4242', '34 ', '432']\n"
     ]
    }
   ],
   "source": [
    "# 문제 - 사용자에게 문장 1개를 입력받아서, strip 한 결과를, 다시 ','를 기준으로 나눠주세요.\n",
    "a = input().strip().split(',')\n",
    "print(a)\n"
   ]
  },
  {
   "cell_type": "code",
   "execution_count": 28,
   "id": "50ba0780",
   "metadata": {},
   "outputs": [
    {
     "name": "stdout",
     "output_type": "stream",
     "text": [
      "첫번째 숫자 : 12\n",
      "두번째 숫자 : 12\n",
      "24\n"
     ]
    }
   ],
   "source": [
    "# 문제 - 사용자에게 숫자 2개를 입력받아서, 더한 결과를 출력해주세요.\n",
    "a = input('첫번째 숫자 : ')\n",
    "b = input('두번째 숫자 : ')\n",
    "c = int(a) + int(b)\n",
    "print(c)"
   ]
  },
  {
   "cell_type": "code",
   "execution_count": 29,
   "id": "e899a18a",
   "metadata": {},
   "outputs": [
    {
     "name": "stdout",
     "output_type": "stream",
     "text": [
      "1+3\n",
      "4\n"
     ]
    }
   ],
   "source": [
    "a, b = input().split('+')\n",
    "c = int(a) + int(b)\n",
    "print(c)"
   ]
  },
  {
   "cell_type": "markdown",
   "id": "9da09ee0",
   "metadata": {},
   "source": [
    "* input() 함수는 문자열 타입으로 인식\n",
    "* 원하고자 하는 타입으로 변경이 가능하다."
   ]
  },
  {
   "cell_type": "code",
   "execution_count": 34,
   "id": "6a0e6a37",
   "metadata": {},
   "outputs": [
    {
     "name": "stdout",
     "output_type": "stream",
     "text": [
      "12 12\n",
      "24\n"
     ]
    }
   ],
   "source": [
    "# 공백 기준으로 슬라이싱하기\n",
    "line = input().strip().split(' ')\n",
    "line[0] = int(line[0])\n",
    "line[1] = int(line[1])\n",
    "line = line[0] + line[1]\n",
    "print(line)"
   ]
  },
  {
   "cell_type": "code",
   "execution_count": 45,
   "id": "060c0ea0",
   "metadata": {},
   "outputs": [
    {
     "name": "stdout",
     "output_type": "stream",
     "text": [
      "12,12,12\n",
      "36\n"
     ]
    }
   ],
   "source": [
    "# map() 한번에 여러개의 자료형을 바꿀 수 있는 함수\n",
    "# 문제 : 사용자에게 숫자 3개를 입력받아서, 더한 결과를 출력해주세요. map, strip를 사용해주세요.\n",
    "# map(자료형 함수, 리스트)\n",
    "a, b, c = map(int,input().strip().split(','))\n",
    "print(a+b+c)"
   ]
  },
  {
   "cell_type": "code",
   "execution_count": 46,
   "id": "970a8fb5",
   "metadata": {},
   "outputs": [
    {
     "name": "stdout",
     "output_type": "stream",
     "text": [
      "1,2\n",
      "3\n"
     ]
    }
   ],
   "source": [
    "# f = input().split(',')\n",
    "# m = map(int, f)\n",
    "# h, g = m\n",
    "# print(h+g)"
   ]
  },
  {
   "cell_type": "markdown",
   "id": "6716e5e4",
   "metadata": {},
   "source": [
    "# for문\n",
    "- while 횟수보다는 주어진 조건이 참일 때까지 계속 반복되어야 할 때 사용함.\n",
    "- for문은 반복 횟수를 지정할 수 있는 경우\n",
    "- 반복 횟수는 리스트, 튜플, 문자열 등등"
   ]
  },
  {
   "cell_type": "code",
   "execution_count": 54,
   "id": "27e9c543",
   "metadata": {},
   "outputs": [
    {
     "name": "stdout",
     "output_type": "stream",
     "text": [
      "1\n",
      "2\n",
      "3\n"
     ]
    }
   ],
   "source": [
    "for i in (1,2,3):\n",
    "    print(i)"
   ]
  },
  {
   "cell_type": "code",
   "execution_count": 55,
   "id": "7a2ac1e5",
   "metadata": {},
   "outputs": [
    {
     "name": "stdout",
     "output_type": "stream",
     "text": [
      "1\n",
      "2\n",
      "하나\n"
     ]
    }
   ],
   "source": [
    "for i in [1, 2, '하나']:\n",
    "    print(i)"
   ]
  },
  {
   "cell_type": "code",
   "execution_count": 63,
   "id": "e912762b",
   "metadata": {},
   "outputs": [
    {
     "name": "stdout",
     "output_type": "stream",
     "text": [
      "1\n",
      "2\n",
      "3\n",
      "4\n",
      "5\n",
      "6\n",
      "7\n",
      "8\n",
      "9\n",
      "10\n"
     ]
    }
   ],
   "source": [
    "# range() // 리스트를 만들어주는 함수\n",
    "# range(시작숫자(생략하면 0부터 시작), 종료숫자, 증감(생략시 1씩 증가))\n",
    "for i in range(10):\n",
    "    print(i+1)"
   ]
  },
  {
   "cell_type": "code",
   "execution_count": 66,
   "id": "ba249998",
   "metadata": {},
   "outputs": [
    {
     "name": "stdout",
     "output_type": "stream",
     "text": [
      "1\n",
      "2\n",
      "3\n",
      "4\n",
      "5\n",
      "6\n",
      "7\n",
      "8\n",
      "9\n",
      "10\n",
      "11\n",
      "12\n",
      "13\n",
      "14\n",
      "15\n",
      "16\n",
      "17\n",
      "18\n",
      "19\n",
      "20\n",
      "21\n",
      "22\n",
      "23\n",
      "24\n",
      "25\n",
      "26\n",
      "27\n",
      "28\n",
      "29\n",
      "30\n",
      "31\n",
      "32\n",
      "33\n",
      "34\n",
      "35\n",
      "36\n",
      "37\n",
      "38\n",
      "39\n",
      "40\n",
      "41\n",
      "42\n",
      "43\n",
      "44\n",
      "45\n",
      "46\n",
      "47\n",
      "48\n",
      "49\n",
      "50\n",
      "51\n",
      "52\n",
      "53\n",
      "54\n",
      "55\n",
      "56\n",
      "57\n",
      "58\n",
      "59\n",
      "60\n",
      "61\n",
      "62\n",
      "63\n",
      "64\n",
      "65\n",
      "66\n",
      "67\n",
      "68\n",
      "69\n",
      "70\n",
      "71\n",
      "72\n",
      "73\n",
      "74\n",
      "75\n",
      "76\n",
      "77\n",
      "78\n",
      "79\n",
      "80\n",
      "81\n",
      "82\n",
      "83\n",
      "84\n",
      "85\n",
      "86\n",
      "87\n",
      "88\n",
      "89\n",
      "90\n",
      "91\n",
      "92\n",
      "93\n",
      "94\n",
      "95\n",
      "96\n",
      "97\n",
      "98\n",
      "99\n",
      "100\n"
     ]
    }
   ],
   "source": [
    "# 문제 : for문으로 1부터 100까지 출력\n",
    "# for i in range(100):\n",
    "#     print(i+1)\n",
    "for i in range(1, 101):\n",
    "    print(i)\n"
   ]
  },
  {
   "cell_type": "code",
   "execution_count": 75,
   "id": "b4d9d209",
   "metadata": {},
   "outputs": [
    {
     "name": "stdout",
     "output_type": "stream",
     "text": [
      "100\n",
      "99\n",
      "98\n",
      "97\n",
      "96\n",
      "95\n",
      "94\n",
      "93\n",
      "92\n",
      "91\n",
      "90\n",
      "89\n",
      "88\n",
      "87\n",
      "86\n",
      "85\n",
      "84\n",
      "83\n",
      "82\n",
      "81\n",
      "80\n",
      "79\n",
      "78\n",
      "77\n",
      "76\n",
      "75\n",
      "74\n",
      "73\n",
      "72\n",
      "71\n",
      "70\n",
      "69\n",
      "68\n",
      "67\n",
      "66\n",
      "65\n",
      "64\n",
      "63\n",
      "62\n",
      "61\n",
      "60\n",
      "59\n",
      "58\n",
      "57\n",
      "56\n",
      "55\n",
      "54\n",
      "53\n",
      "52\n",
      "51\n",
      "50\n",
      "49\n",
      "48\n",
      "47\n",
      "46\n",
      "45\n",
      "44\n",
      "43\n",
      "42\n",
      "41\n",
      "40\n",
      "39\n",
      "38\n",
      "37\n",
      "36\n",
      "35\n",
      "34\n",
      "33\n",
      "32\n",
      "31\n",
      "30\n",
      "29\n",
      "28\n",
      "27\n",
      "26\n",
      "25\n",
      "24\n",
      "23\n",
      "22\n",
      "21\n",
      "20\n",
      "19\n",
      "18\n",
      "17\n",
      "16\n",
      "15\n",
      "14\n",
      "13\n",
      "12\n",
      "11\n",
      "10\n",
      "9\n",
      "8\n",
      "7\n",
      "6\n",
      "5\n",
      "4\n",
      "3\n",
      "2\n",
      "1\n"
     ]
    }
   ],
   "source": [
    "# 문제 : for문으로 100부터 1까지 출력\n",
    "for i in range(100, 0, -1):\n",
    "    print(i)"
   ]
  },
  {
   "cell_type": "code",
   "execution_count": 99,
   "id": "6bbb35a5",
   "metadata": {},
   "outputs": [
    {
     "name": "stdout",
     "output_type": "stream",
     "text": [
      "2\n",
      "4\n",
      "6\n",
      "8\n",
      "10\n",
      "12\n",
      "14\n",
      "16\n",
      "18\n",
      "20\n",
      "22\n",
      "24\n",
      "26\n",
      "28\n",
      "30\n",
      "32\n",
      "34\n",
      "36\n",
      "38\n",
      "40\n",
      "42\n",
      "44\n",
      "46\n",
      "48\n",
      "50\n",
      "52\n",
      "54\n",
      "56\n",
      "58\n",
      "60\n",
      "62\n",
      "64\n",
      "66\n",
      "68\n",
      "70\n",
      "72\n",
      "74\n",
      "76\n",
      "78\n",
      "80\n",
      "82\n",
      "84\n",
      "86\n",
      "88\n",
      "90\n",
      "92\n",
      "94\n",
      "96\n",
      "98\n",
      "100\n"
     ]
    }
   ],
   "source": [
    "# 문제 : for문으로 1부터 100 사이의 짝수만 출력하세요.\n",
    "for i in range(0, 100):\n",
    "    if i==0 :\n",
    "        print('', end='')\n",
    "    elif (i+1)%2 == 0:\n",
    "        print(i+1)"
   ]
  },
  {
   "cell_type": "code",
   "execution_count": 100,
   "id": "d96e2ecc",
   "metadata": {},
   "outputs": [
    {
     "name": "stdout",
     "output_type": "stream",
     "text": [
      "100\n",
      "98\n",
      "96\n",
      "94\n",
      "92\n",
      "90\n",
      "88\n",
      "86\n",
      "84\n",
      "82\n",
      "80\n",
      "78\n",
      "76\n",
      "74\n",
      "72\n",
      "70\n",
      "68\n",
      "66\n",
      "64\n",
      "62\n",
      "60\n",
      "58\n",
      "56\n",
      "54\n",
      "52\n",
      "50\n",
      "48\n",
      "46\n",
      "44\n",
      "42\n",
      "40\n",
      "38\n",
      "36\n",
      "34\n",
      "32\n",
      "30\n",
      "28\n",
      "26\n",
      "24\n",
      "22\n",
      "20\n",
      "18\n",
      "16\n",
      "14\n",
      "12\n",
      "10\n",
      "8\n",
      "6\n",
      "4\n",
      "2\n"
     ]
    }
   ],
   "source": [
    "# 문제 : for문으로 100부터 1사이의 짝수만 출력해주세요\n",
    "for i in range(100, 0 , -1):\n",
    "    if i%2 == 0 : # 짝수만 가능\n",
    "        print(i)\n",
    "    elif i == 0 : # 0 이 있을 경우 출력을 아무것도 없게 한다.\n",
    "        print('', end='')"
   ]
  },
  {
   "cell_type": "code",
   "execution_count": null,
   "id": "3c101f70",
   "metadata": {},
   "outputs": [],
   "source": []
  }
 ],
 "metadata": {
  "kernelspec": {
   "display_name": "Python 3 (ipykernel)",
   "language": "python",
   "name": "python3"
  },
  "language_info": {
   "codemirror_mode": {
    "name": "ipython",
    "version": 3
   },
   "file_extension": ".py",
   "mimetype": "text/x-python",
   "name": "python",
   "nbconvert_exporter": "python",
   "pygments_lexer": "ipython3",
   "version": "3.9.7"
  }
 },
 "nbformat": 4,
 "nbformat_minor": 5
}
